{
 "cells": [
  {
   "cell_type": "code",
   "execution_count": 33,
   "metadata": {},
   "outputs": [
    {
     "name": "stdout",
     "output_type": "stream",
     "text": [
      "The autoreload extension is already loaded. To reload it, use:\n",
      "  %reload_ext autoreload\n"
     ]
    }
   ],
   "source": [
    "\n",
    "\n",
    "%load_ext autoreload\n",
    "%autoreload 2\n",
    "import sys\n",
    "sys.path.append('../src')\n",
    "sys.path.append('../util')\n",
    "import torch\n",
    "import torch.nn as nn\n",
    "\n",
    "from abstractModule import AbstractLinear as AL\n",
    "from abstractModule import AbstractReLU as AR\n",
    "from abstractModule import AbstractMaxpool2D as AM\n",
    "from abstractWeight import AbstractWeight as AW\n",
    "from abstractNN import AbstractNN as NN\n",
    "from custom_train import CustomTrainer as T\n",
    "import torchvision.transforms as transforms\n",
    "from torchvision import datasets\n",
    "from torch.utils.data import random_split\n",
    "from torch import optim\n",
    "import os\n",
    "\n",
    "import numpy as np\n",
    "device = torch.device('cpu')"
   ]
  },
  {
   "cell_type": "code",
   "execution_count": 4,
   "metadata": {},
   "outputs": [],
   "source": [
    "\n",
    "path ='dataset'\n",
    "\n",
    "os.makedirs(path, exist_ok=True)\n",
    "\n",
    "transform = transforms.Compose([\n",
    "        transforms.ToTensor(),\n",
    "        transforms.Normalize(mean =[0.5], std =[0.2]),\n",
    "        #transforms.Resize((56,56))\n",
    "    ])\n",
    "\n",
    "\n",
    "\n",
    "dataset_train = datasets.FashionMNIST(root = path,transform = transform, download = True, train = True)\n",
    "dataset_test =datasets.FashionMNIST( root =path,transform=transform ,download = True, train = False)\n",
    "val =0.2\n",
    "len_data_train = len(dataset_train)\n",
    "train_size =int((1-val)*len_data_train)\n",
    "\n",
    "val_size = int(val*len_data_train)\n",
    "\n",
    "train_dataset, val_dataset = random_split(dataset_train, [train_size,val_size])\n"
   ]
  },
  {
   "cell_type": "code",
   "execution_count": 40,
   "metadata": {},
   "outputs": [],
   "source": [
    "\n",
    "\n",
    "class AbstractNN(nn.Module):\n",
    "    \n",
    "    def __init__(self,num_depth=1,device=torch.device(\"cpu\")):\n",
    "\n",
    "        super(AbstractNN,self).__init__()\n",
    "       \n",
    "      \n",
    "        self.num_depth = num_depth\n",
    "        self.device = device\n",
    "        self.conv1=nn.Conv2d(self.num_depth,16,3,device=self.device)\n",
    "        self.conv2=nn.Conv2d(16,32,3,device=self.device)\n",
    "        self.maxpool = nn.MaxPool2d(kernel_size=2,stride=2,padding=0)\n",
    "  \n",
    "\n",
    "       \n",
    "\n",
    "        self.fc1=nn.Sequential(nn.Flatten(),nn.Linear(4608,64,device=self.device))\n",
    "        self.fc2=nn.Sequential(nn.Flatten(),nn.Linear(64,10,device=self.device))\n",
    "        self.softMax =nn.Softmax()\n",
    "    def forward(self,x):\n",
    "        x=self.conv1(x)\n",
    "        x=torch.relu(x)\n",
    "        x=self.conv2(x)\n",
    "        x=torch.relu(x)\n",
    "     \n",
    "        x=self.maxpool(x)\n",
    "     \n",
    "    \n",
    "        x=self.fc1(x)\n",
    "        x=torch.relu(x)\n",
    "        x=self.fc2(x)\n",
    "        x=torch.relu(x)\n",
    "        x= self.softMax(x)\n",
    "        return x\n",
    "    \n",
    "    def abstract_forward(self,x,conv1_eps_weight,conv1_eps_bias,add_symbol=False,device=torch.device(\"cpu\")):\n",
    "        self.device=device\n",
    "        AR.max_symbol = np.inf\n",
    "        AM.max_symbol = np.inf\n",
    "        AR.recycling = 1\n",
    "        AM.recycling =1 \n",
    "        \n",
    "        x_true = x\n",
    "        x_true = x_true[0].unsqueeze(0)\n",
    "\n",
    "        x,x_min,x_max,x_true = NN.abstract_conv2D(self.conv1,x,x_true,conv1_eps_weight , conv1_eps_bias,device=self.device)\n",
    "        x,x_min,x_max,x_true = AR.abstract_relu_conv2D(x,x_min,x_max,x_true,add_symbol=add_symbol,device =self.device)\n",
    "     \n",
    "       \n",
    "        x,x_min,x_max,x_true = AL.abstract_conv2D(self.conv2,x,x_true,device=self.device)\n",
    "        x,x_min,x_max,x_true = AR.abstract_relu_conv2D(x,x_min,x_max,x_true,add_symbol=add_symbol,device =self.device)\n",
    "        x,x_min,x_max ,x_true = AM.abstract_maxpool2D(self.maxpool,x,x_true,add_symbol=add_symbol,device=self.device)\n",
    "        x,x_min,x_max,x_true = AL.abstract_linear(self.fc1,x,x_true,device=self.device)\n",
    "        x,x_min,x_max,x_true = AR.abstract_relu(x,x_min,x_max,x_true,add_symbol=add_symbol,device =self.device)\n",
    "      \n",
    "        x,x_min,x_max,x_true = AL.abstract_linear(self.fc2,x,x_true,device=self.device)\n",
    "        x,x_min,x_max,x_true = AR.abstract_relu(x,x_min,x_max,x_true,add_symbol=add_symbol,device =self.device)\n",
    "       \n",
    "        \n",
    "        return x,x_min,x_max,x_true\n",
    "        "
   ]
  },
  {
   "cell_type": "code",
   "execution_count": 140,
   "metadata": {},
   "outputs": [
    {
     "name": "stdout",
     "output_type": "stream",
     "text": [
      "Label:5\n"
     ]
    },
    {
     "data": {
      "text/plain": [
       "torch.Size([2, 1, 28, 28])"
      ]
     },
     "execution_count": 140,
     "metadata": {},
     "output_type": "execute_result"
    },
    {
     "data": {
      "image/png": "[encoded data removed]",
      "text/plain": [
       "<Figure size 640x480 with 1 Axes>"
      ]
     },
     "metadata": {},
     "output_type": "display_data"
    }
   ],
   "source": [
    "\n",
    "import matplotlib.pyplot as plt\n",
    "import numpy as np\n",
    "\n",
    "img, label = dataset_train[12]\n",
    "plt.imshow(1-img[0],cmap='gray')\n",
    "print(f\"Label:{label}\")\n",
    "img.shape\n",
    "from abstract import abstractTensor as AT\n",
    "\n",
    "x=AT(img,alpha =torch.tensor([]))\n",
    "x=x.abstract_tensor()\n",
    "x.shape"
   ]
  },
  {
   "cell_type": "code",
   "execution_count": 84,
   "metadata": {},
   "outputs": [],
   "source": [
    "\n",
    "model.conv1.weight.data.shape\n",
    "conv1_eps_weight = torch.tensor([])\n",
    "conv1_eps_weight.indices = torch.arange(0,len(model.conv1.weight.data.flatten()),1)\n",
    "conv1_eps_weight.values = 0.01*torch.ones_like(conv1_eps_weight.indices)\n",
    "conv1_eps_bias = torch.tensor([])\n",
    "conv1_eps_bias.indices = torch.arange(0,len(model.conv1.bias.data.flatten()),1)\n",
    "conv1_eps_bias.values = 0.01*torch.ones_like(conv1_eps_bias.indices)"
   ]
  },
  {
   "cell_type": "code",
   "execution_count": 131,
   "metadata": {},
   "outputs": [],
   "source": [
    "model = AbstractNN()"
   ]
  },
  {
   "cell_type": "code",
   "execution_count": 69,
   "metadata": {},
   "outputs": [
    {
     "data": {
      "text/plain": [
       "(tensor([[ 7.1716e-01,  8.6607e-01,  1.0026e+00,  ...,  7.4909e-01,\n",
       "           8.3954e-01,  8.6511e-01],\n",
       "         [ 1.0047e-04,  8.5730e-05, -6.8600e-06,  ...,  3.3589e-04,\n",
       "           2.0453e-05, -9.3366e-05],\n",
       "         [ 5.4480e-05,  7.7197e-05, -8.0038e-06,  ...,  3.1352e-04,\n",
       "           3.6553e-05, -9.8966e-05],\n",
       "         ...,\n",
       "         [-2.2426e-05,  1.3489e-05, -1.9109e-05,  ...,  1.7114e-05,\n",
       "           1.6074e-05, -2.8868e-05],\n",
       "         [-1.2733e-05, -3.7648e-07, -1.0526e-05,  ..., -1.1241e-05,\n",
       "          -1.3020e-05, -1.7334e-05],\n",
       "         [ 2.3687e+00,  2.5242e+00,  2.7182e+00,  ...,  2.5809e+00,\n",
       "           2.3990e+00,  2.3936e+00]]),\n",
       " tensor([-1.6559, -1.6645, -1.7197, -1.5318, -1.6599, -1.5816, -1.6349, -1.8388,\n",
       "         -1.5639, -1.5338]),\n",
       " tensor([3.0902, 3.3967, 3.7250, 2.9942, 3.1301, 2.9983, 3.2318, 3.3370, 3.2429,\n",
       "         3.2640]),\n",
       " tensor([[0., 0., 0., 0., 0., 0., 0., 0., 0., 0.]]))"
      ]
     },
     "execution_count": 69,
     "metadata": {},
     "output_type": "execute_result"
    }
   ],
   "source": [
    "model.abstract_forward(x,conv1_eps_bias=conv1_eps_bias,conv1_eps_weight=conv1_eps_weight)"
   ]
  },
  {
   "cell_type": "code",
   "execution_count": 141,
   "metadata": {},
   "outputs": [
    {
     "name": "stdout",
     "output_type": "stream",
     "text": [
      "y_min       =  tensor([2.3299, 2.1110, 0.2580, 0.0473, 0.0543, 1.9400, 1.0883, 0.0000, 0.6802,\n",
      "        0.0000])\n",
      "y_max       =  tensor([2.4346, 2.2180, 0.3603, 0.1447, 0.1616, 2.0410, 1.1829, 0.0000, 0.7790,\n",
      "        0.0000])\n",
      "center Ztp  =  tensor([2.3822, 2.1645, 0.3091, 0.0960, 0.1079, 1.9905, 1.1356, 0.0000, 0.7296,\n",
      "        0.0000])\n",
      "y_true      =  tensor([[2.3874, 2.1660, 0.3104, 0.0968, 0.1087, 1.9922, 1.1365, 0.0000, 0.7281,\n",
      "         0.0000]])\n",
      "y_max-x_min =  tensor([0.1047, 0.1070, 0.1023, 0.0974, 0.1073, 0.1010, 0.0947, 0.0000, 0.0989,\n",
      "        0.0000])\n",
      "Trash symbol=  tensor([0., 0., 0., 0., 0., 0., 0., 0., 0., 0.])\n"
     ]
    }
   ],
   "source": [
    "with torch.no_grad():\n",
    "\n",
    "   result,x_min,x_max,x_true=model.abstract_forward(x,conv1_eps_bias=conv1_eps_bias,conv1_eps_weight=conv1_eps_weight,add_symbol=True)\n",
    "\n",
    "print(f\"y_min       =  {x_min}\")\n",
    "print(f\"y_max       =  {x_max}\")\n",
    "print(f\"center Ztp  =  {result[0]}\")\n",
    "print(f\"y_true      =  {x_true[:]}\")\n",
    "print(f\"y_max-x_min =  {x_max-x_min}\")\n",
    "print(f\"Trash symbol=  {result[-1]}\")"
   ]
  },
  {
   "cell_type": "code",
   "execution_count": 86,
   "metadata": {},
   "outputs": [
    {
     "data": {
      "text/plain": [
       "torch.Size([4281, 10])"
      ]
     },
     "execution_count": 86,
     "metadata": {},
     "output_type": "execute_result"
    }
   ],
   "source": [
    "result.shape"
   ]
  },
  {
   "cell_type": "code",
   "execution_count": 142,
   "metadata": {},
   "outputs": [
    {
     "name": "stderr",
     "output_type": "stream",
     "text": [
      "No artists with labels found to put in legend.  Note that artists whose label start with an underscore are ignored when legend() is called with no argument.\n"
     ]
    },
    {
     "name": "stdout",
     "output_type": "stream",
     "text": [
      "(10, 2)\n",
      "(10, 1)\n",
      "(10, 1)\n"
     ]
    },
    {
     "data": {
      "image/png": "[encoded data removed]",
      "text/plain": [
       "<Figure size 800x400 with 1 Axes>"
      ]
     },
     "metadata": {},
     "output_type": "display_data"
    }
   ],
   "source": [
    "\n",
    "y_min       =  np.array(x_min)\n",
    "y_max       =  np.array(x_max)\n",
    "center_Ztp  =  np.expand_dims(np.array(result[0]),axis =1)\n",
    "y_true      =  np.expand_dims(np.array(x_true[:])[0],axis =1)\n",
    "y_max_minus_y_min =  np.array(x_max-x_min)\n",
    "Trash_symbol=  np.array(result[-1])\n",
    "\n",
    "\n",
    "import matplotlib.pyplot as plt\n",
    "import numpy as np\n",
    "\n",
    "\n",
    "\n",
    "\n",
    "x_final = np.arange(len(y_min))\n",
    "D =np.stack((y_min,y_max),axis=1)\n",
    "\n",
    "print(D.shape)\n",
    "print(center_Ztp.shape)\n",
    "print(y_true.shape)\n",
    "# plot:\n",
    "\n",
    "fig,ax = plt.subplots(1, 1, figsize=(8,4), tight_layout=True)\n",
    "ax.eventplot(D, orientation=\"vertical\", linewidth=1,color='blue',linelengths=0.3)\n",
    "ax.eventplot(y_true, orientation=\"vertical\", linewidth=0.50,color='green',linelengths=0.4)\n",
    "ax.eventplot(center_Ztp, orientation=\"vertical\", linewidth=1,color='red',linelengths=0.5)\n",
    "\n",
    "ax.set(xlim=(-0.5, 10),xticks=x_final,xticklabels=[\"T-shirt/top\",\"Trouser\",\"Pullover\",\"Dress\",\"Coat\",\"Sandal\",\"Shirt\",\"Sneaker\",\"Bag,\",\"Ankle boot\"],\n",
    "       ylim=(np.min(D)-1, np.max(D)+1))\n",
    "plt.ylabel(\"Value of the abstract domain\")\n",
    "plt.title(\"Dominance interval for the 10 classes of Fashion MNIST .\\n Abstract domain based on 100_000 lower weights of the first layer of the first fully connected layer of the model\")\n",
    "plt.legend()\n",
    "plt.show()"
   ]
  },
  {
   "cell_type": "code",
   "execution_count": 134,
   "metadata": {},
   "outputs": [
    {
     "name": "stderr",
     "output_type": "stream",
     "text": [
      "  0%|          | 0/100 [00:00<?, ?it/s]"
     ]
    },
    {
     "name": "stderr",
     "output_type": "stream",
     "text": [
      "100%|██████████| 100/100 [01:19<00:00,  1.26it/s]\n"
     ]
    }
   ],
   "source": [
    "\n",
    "from tqdm import tqdm\n",
    "\n",
    "for i in tqdm(range(100)):\n",
    "\n",
    "    img, label = dataset_train[i]\n",
    "\n",
    "   \n",
    "   \n",
    "    from abstract import abstractTensor as AT\n",
    "\n",
    "    x=AT(img,alpha =torch.tensor([]))\n",
    "    x=x.abstract_tensor()\n",
    "    x.shape\n",
    "\n",
    "    \n",
    "  \n",
    "    with torch.no_grad():\n",
    "      \n",
    "        \n",
    "        result,x_min,x_max,x_true=model.abstract_forward(x,conv1_eps_bias=conv1_eps_bias,conv1_eps_weight=conv1_eps_weight,add_symbol=True)\n",
    "\n",
    "    concatenated_tensors = []\n",
    "    for i in range(10):\n",
    "        concat_part = result[1:145, i].view(16, 1, 3, 3)\n",
    "        concatenated_tensors.append(concat_part)\n",
    "    concatenated_tensors =torch.stack(concatenated_tensors)\n",
    "    \n",
    "\n",
    "    model.conv1.weight.data =model.conv1.weight.data+1000*(2*concatenated_tensors[label]-torch.sum(concatenated_tensors,dim =0))\n"
   ]
  },
  {
   "cell_type": "code",
   "execution_count": 107,
   "metadata": {},
   "outputs": [
    {
     "data": {
      "text/plain": [
       "['concat_0',\n",
       " 'concat_1',\n",
       " 'concat_2',\n",
       " 'concat_3',\n",
       " 'concat_4',\n",
       " 'concat_5',\n",
       " 'concat_6',\n",
       " 'concat_7',\n",
       " 'concat_8',\n",
       " 'concat_9']"
      ]
     },
     "execution_count": 107,
     "metadata": {},
     "output_type": "execute_result"
    }
   ],
   "source": [
    "list"
   ]
  },
  {
   "cell_type": "code",
   "execution_count": 89,
   "metadata": {},
   "outputs": [
    {
     "data": {
      "text/plain": [
       "tensor([[[[-1.0416, -0.5239, -0.0038],\n",
       "          [-1.9786,  0.5469,  0.2443],\n",
       "          [-1.0603, -0.1609, -0.5895]]],\n",
       "\n",
       "\n",
       "        [[[-0.3194,  0.8343,  0.3195],\n",
       "          [-0.3141,  0.1728, -0.0438],\n",
       "          [-0.0570,  0.0395, -0.6312]]],\n",
       "\n",
       "\n",
       "        [[[ 0.5194,  1.1976,  0.3797],\n",
       "          [-0.1779,  0.4808,  0.4696],\n",
       "          [-1.2317, -0.8611, -0.4534]]],\n",
       "\n",
       "\n",
       "        [[[-0.1151,  0.8267,  0.4215],\n",
       "          [-0.4855,  0.1022,  0.5529],\n",
       "          [-0.0046,  0.2769,  0.4255]]],\n",
       "\n",
       "\n",
       "        [[[ 0.1636, -0.9789, -1.3291],\n",
       "          [-0.6103,  0.0657, -0.0788],\n",
       "          [ 0.1584,  0.7369, -1.4780]]],\n",
       "\n",
       "\n",
       "        [[[ 0.0559,  1.4751,  1.2907],\n",
       "          [-0.8420,  0.0771,  1.5336],\n",
       "          [ 0.1112,  0.7167,  0.7355]]],\n",
       "\n",
       "\n",
       "        [[[ 0.7340,  0.8412, -0.0638],\n",
       "          [ 0.9516,  1.1310,  0.4010],\n",
       "          [ 1.4213,  0.9585,  0.5983]]],\n",
       "\n",
       "\n",
       "        [[[-0.8224, -0.2186, -1.1922],\n",
       "          [-1.4202, -1.6673,  0.2787],\n",
       "          [ 0.6846, -0.7302,  0.1073]]],\n",
       "\n",
       "\n",
       "        [[[ 1.3146,  1.2520,  1.1817],\n",
       "          [ 0.7866, -0.0240,  0.0543],\n",
       "          [-0.2358, -0.5530, -0.8449]]],\n",
       "\n",
       "\n",
       "        [[[-1.3804, -0.5324, -0.0582],\n",
       "          [-0.7061, -0.6222,  0.9724],\n",
       "          [ 0.6044,  1.0005, -0.1471]]],\n",
       "\n",
       "\n",
       "        [[[ 0.9091,  1.4538,  1.2729],\n",
       "          [-0.0565,  0.1211, -0.4350],\n",
       "          [-0.6888, -0.3746, -0.6193]]],\n",
       "\n",
       "\n",
       "        [[[ 0.2412,  0.1009,  0.3491],\n",
       "          [ 0.8277,  0.2315,  0.9623],\n",
       "          [ 1.2241, -0.8388, -0.5963]]],\n",
       "\n",
       "\n",
       "        [[[ 0.1298,  0.1114, -0.4034],\n",
       "          [-0.6432,  0.0713, -0.4150],\n",
       "          [ 0.4777,  0.0240,  0.9337]]],\n",
       "\n",
       "\n",
       "        [[[-0.2241, -0.0213,  0.9288],\n",
       "          [-0.5375, -0.4099,  1.5291],\n",
       "          [-0.6342, -0.1684, -0.3134]]],\n",
       "\n",
       "\n",
       "        [[[-0.1899, -0.4056,  0.4763],\n",
       "          [ 1.3079, -0.5851, -1.2138],\n",
       "          [ 0.0753, -1.6131, -2.0977]]],\n",
       "\n",
       "\n",
       "        [[[-0.0139, -0.2656,  0.0747],\n",
       "          [-1.0080,  0.6625,  0.1275],\n",
       "          [ 0.4177,  0.2987, -0.4440]]]])"
      ]
     },
     "execution_count": 89,
     "metadata": {},
     "output_type": "execute_result"
    }
   ],
   "source": [
    "conv1_eps_weight.values\n",
    "model.conv1.weight.data"
   ]
  }
 ],
 "metadata": {
  "kernelspec": {
   "display_name": "Python 3",
   "language": "python",
   "name": "python3"
  },
  "language_info": {
   "codemirror_mode": {
    "name": "ipython",
    "version": 3
   },
   "file_extension": ".py",
   "mimetype": "text/x-python",
   "name": "python",
   "nbconvert_exporter": "python",
   "pygments_lexer": "ipython3",
   "version": "3.10.12"
  }
 },
 "nbformat": 4,
 "nbformat_minor": 2
}
