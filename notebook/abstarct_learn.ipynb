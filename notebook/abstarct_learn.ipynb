{
 "cells": [
  {
   "cell_type": "code",
   "execution_count": 23,
   "metadata": {},
   "outputs": [
    {
     "name": "stdout",
     "output_type": "stream",
     "text": [
      "The autoreload extension is already loaded. To reload it, use:\n",
      "  %reload_ext autoreload\n"
     ]
    }
   ],
   "source": [
    "\n",
    "\n",
    "%load_ext autoreload\n",
    "%autoreload 2\n",
    "import sys\n",
    "sys.path.append('../src')\n",
    "sys.path.append('../util')\n",
    "import torch\n",
    "import torch.nn as nn\n",
    "\n",
    "\n",
    "from abstractModule import AbstractReLU as AR\n",
    "from abstractModule import AbstractMaxpool2D as AM\n",
    "from abstractWeight import AbstractWeight as AW\n",
    "from abstractNN import AbstractNN as NN\n",
    "from custom_train import CustomTrainer as T\n",
    "import torchvision.transforms as transforms\n",
    "from torchvision import datasets\n",
    "from torch.utils.data import random_split\n",
    "from torch import optim\n",
    "import os\n",
    "\n",
    "import numpy as np\n",
    "device = torch.device('cpu')"
   ]
  },
  {
   "cell_type": "code",
   "execution_count": 24,
   "metadata": {},
   "outputs": [],
   "source": [
    "\n",
    "path ='dataset'\n",
    "\n",
    "os.makedirs(path, exist_ok=True)\n",
    "\n",
    "transform = transforms.Compose([\n",
    "        transforms.ToTensor(),\n",
    "        transforms.Normalize(mean =[0.5], std =[0.2]),\n",
    "        #transforms.Resize((56,56))\n",
    "    ])\n",
    "\n",
    "\n",
    "\n",
    "dataset_train = datasets.FashionMNIST(root = path,transform = transform, download = True, train = True)\n",
    "dataset_test =datasets.FashionMNIST( root =path,transform=transform ,download = True, train = False)\n",
    "val =0.2\n",
    "len_data_train = len(dataset_train)\n",
    "train_size =int((1-val)*len_data_train)\n",
    "\n",
    "val_size = int(val*len_data_train)\n",
    "\n",
    "train_dataset, val_dataset = random_split(dataset_train, [train_size,val_size])\n"
   ]
  },
  {
   "cell_type": "code",
   "execution_count": 25,
   "metadata": {},
   "outputs": [],
   "source": [
    "\n",
    "\n",
    "class AbstractNN(nn.Module):\n",
    "    \n",
    "    def __init__(self,num_depth=1,device=torch.device(\"cpu\")):\n",
    "\n",
    "        super(AbstractNN,self).__init__()\n",
    "       \n",
    "      \n",
    "        self.num_depth = num_depth\n",
    "        self.device = device\n",
    "        self.conv1=nn.Conv2d(self.num_depth,16,3,device=self.device)\n",
    "        self.conv2=nn.Conv2d(16,32,3,device=self.device)\n",
    "        self.maxpool = nn.MaxPool2d(kernel_size=2,stride=2,padding=0)\n",
    "  \n",
    "\n",
    "       \n",
    "\n",
    "        self.fc1=nn.Sequential(nn.Flatten(),nn.Linear(4608,64,device=self.device))\n",
    "        self.fc2=nn.Sequential(nn.Flatten(),nn.Linear(64,10,device=self.device))\n",
    "        self.softMax =nn.Softmax()\n",
    "    def forward(self,x):\n",
    "        x=self.conv1(x)\n",
    "        x=torch.relu(x)\n",
    "        x=self.conv2(x)\n",
    "        x=torch.relu(x)\n",
    "     \n",
    "        x=self.maxpool(x)\n",
    "     \n",
    "    \n",
    "        x=self.fc1(x)\n",
    "        x=torch.relu(x)\n",
    "        x=self.fc2(x)\n",
    "        x=torch.relu(x)\n",
    "        x= self.softMax(x)\n",
    "        return x\n",
    "    \n",
    "    def abstract_forward(self,x,\n",
    "                         conv1_eps_weight,\n",
    "                         conv1_eps_bias,\n",
    "                         conv2_eps_weight,\n",
    "                         conv2_eps_bias,\n",
    "                         fc1_eps_weight,\n",
    "                         fc1_eps_bias, \n",
    "                         fc2_eps_weight,\n",
    "                         fc2_eps_bias,\n",
    "                         add_symbol=False,\n",
    "                         device=torch.device(\"cpu\")):\n",
    "        self.device=device\n",
    "        AR.max_symbol = 200_000\n",
    "        AM.max_symbol = np.inf\n",
    "        AR.recycling = 1\n",
    "        AM.recycling =1 \n",
    "        \n",
    "        x_true = x\n",
    "        x_true = x_true[0].unsqueeze(0)\n",
    "      \n",
    "        x,x_min,x_max,x_true = NN.abstract_conv2D(self.conv1,x,x_true,conv1_eps_weight , conv1_eps_bias,device=self.device)\n",
    "     \n",
    "        x,x_min,x_max,x_true = AR.abstract_relu_conv2D(x,x_min,x_max,x_true,add_symbol=add_symbol,device =self.device)\n",
    "   \n",
    "        symb_1 = len(x)\n",
    "       \n",
    "        x,x_min,x_max,x_true = NN.abstract_conv2D(self.conv2,x,x_true,conv2_eps_weight,conv2_eps_bias,device=self.device)\n",
    "       \n",
    "        x,x_min,x_max,x_true = AR.abstract_relu_conv2D(x,x_min,x_max,x_true,add_symbol=add_symbol,device =self.device)\n",
    "       \n",
    "      \n",
    "        x,x_min,x_max ,x_true = AM.abstract_maxpool2D(self.maxpool,x,x_true,add_symbol=add_symbol,device=self.device)\n",
    "    \n",
    "      \n",
    "        symb_conv2 =len(x)\n",
    "        x,x_min,x_max,x_true = NN.abstract_linear(self.fc1,x,x_true,fc1_eps_weight,fc1_eps_bias,device=self.device)\n",
    "     \n",
    "        x,x_min,x_max,x_true = AR.abstract_relu(x,x_min,x_max,x_true,add_symbol=add_symbol,device =self.device)\n",
    "  \n",
    "  \n",
    "        symb_fc1 = len(x)\n",
    "        x,x_min,x_max,x_true = NN.abstract_linear(self.fc2,x,x_true,fc2_eps_weight,fc2_eps_bias,device=self.device)\n",
    "        x,x_min,x_max,x_true = AR.abstract_relu(x,x_min,x_max,x_true,add_symbol=add_symbol,device =self.device)\n",
    "        \n",
    "        \n",
    "        return x,x_min,x_max,x_true,symb_1,symb_conv2, symb_fc1\n",
    "        "
   ]
  },
  {
   "cell_type": "code",
   "execution_count": 26,
   "metadata": {},
   "outputs": [
    {
     "name": "stdout",
     "output_type": "stream",
     "text": [
      "Label:5\n"
     ]
    },
    {
     "data": {
      "text/plain": [
       "torch.Size([2, 1, 28, 28])"
      ]
     },
     "execution_count": 26,
     "metadata": {},
     "output_type": "execute_result"
    },
    {
     "data": {
      "image/png": "[encoded data removed]",
      "text/plain": [
       "<Figure size 640x480 with 1 Axes>"
      ]
     },
     "metadata": {},
     "output_type": "display_data"
    }
   ],
   "source": [
    "\n",
    "import matplotlib.pyplot as plt\n",
    "import numpy as np\n",
    "\n",
    "img, label = dataset_train[1310]\n",
    "plt.imshow(1-img[0],cmap='gray')\n",
    "print(f\"Label:{label}\")\n",
    "img.shape\n",
    "from abstract import abstractTensor as AT\n",
    "\n",
    "x=AT(img,alpha =torch.tensor([]))\n",
    "x=x.abstract_tensor()\n",
    "x.shape"
   ]
  },
  {
   "cell_type": "code",
   "execution_count": 27,
   "metadata": {},
   "outputs": [],
   "source": [
    "model = AbstractNN()"
   ]
  },
  {
   "cell_type": "code",
   "execution_count": 28,
   "metadata": {},
   "outputs": [],
   "source": [
    "scale = 0.0001\n",
    "conv1_eps_weight = torch.tensor([])\n",
    "conv1_eps_weight.indices = torch.arange(0,len(model.conv1.weight.data.flatten()),1)\n",
    "conv1_eps_weight.values = scale*(1)*torch.ones_like(conv1_eps_weight.indices)\n",
    "conv1_eps_bias = torch.tensor([])\n",
    "conv1_eps_bias.indices = torch.arange(0,len(model.conv1.bias.data.flatten()),1)\n",
    "conv1_eps_bias.values = scale*(1)*torch.ones_like(conv1_eps_bias.indices)\n",
    "\n",
    "\n",
    "conv2_eps_weight = torch.tensor([])\n",
    "conv2_eps_weight.indices = torch.arange(0,len(model.conv2.weight.data.flatten()),1)\n",
    "conv2_eps_weight.values = scale*(1)*torch.ones_like(conv2_eps_weight.indices)\n",
    "conv2_eps_bias = torch.tensor([])\n",
    "conv2_eps_bias.indices = torch.arange(0,len(model.conv2.bias.data.flatten()),1)\n",
    "conv2_eps_bias.values = scale*(1)*torch.ones_like(conv2_eps_bias.indices)\n",
    "\n",
    "fc1_eps_weight = torch.tensor([])\n",
    "fc1_eps_weight.indices = torch.arange(0,len(model.fc1[1].weight.data.flatten()),1)\n",
    "fc1_eps_weight.values = scale*(1)*torch.ones_like(fc1_eps_weight.indices)\n",
    "fc1_eps_bias = torch.tensor([])\n",
    "fc1_eps_bias.indices = torch.arange(0,len(model.fc1[1].bias.data.flatten()),1)\n",
    "fc1_eps_bias.values = scale*(1)*torch.ones_like(fc1_eps_bias.indices)\n",
    "\n",
    "\n",
    "fc2_eps_weight = torch.tensor([])\n",
    "fc2_eps_weight.indices = torch.arange(0,len(model.fc2[1].weight.data.flatten()),1)\n",
    "fc2_eps_weight.values = scale*(1)*torch.ones_like(fc2_eps_weight.indices)\n",
    "fc2_eps_bias = torch.tensor([])\n",
    "fc2_eps_bias.indices = torch.arange(0,len(model.fc2[1].bias.data.flatten()),1)\n",
    "fc2_eps_bias.values = scale*(1)*torch.ones_like(fc2_eps_bias.indices)"
   ]
  },
  {
   "cell_type": "code",
   "execution_count": 29,
   "metadata": {},
   "outputs": [],
   "source": [
    "model = AbstractNN()"
   ]
  },
  {
   "cell_type": "code",
   "execution_count": 22,
   "metadata": {},
   "outputs": [
    {
     "name": "stdout",
     "output_type": "stream",
     "text": [
      "add befor stack\n",
      "add befor stack\n",
      "y_min       =  tensor([-0.1097, -0.1443, -0.1478, -0.0344, -0.0755, -0.1481, -0.1607, -0.1464,\n",
      "        -0.1300, -0.1539])\n",
      "y_max       =  tensor([0.4820, 0.2323, 0.3209, 0.4242, 0.0904, 0.2986, 0.3020, 0.3867, 0.2364,\n",
      "        0.2374])\n",
      "center Ztp  =  tensor([0.1861, 0.0440, 0.0866, 0.1949, 0.0074, 0.0753, 0.0706, 0.1202, 0.0532,\n",
      "        0.0418])\n",
      "y_true      =  tensor([[0.1789, 0.0000, 0.0128, 0.1828, 0.0000, 0.0065, 0.0000, 0.0674, 0.0000,\n",
      "         0.0000]])\n",
      "y_max-x_min =  tensor([0.5918, 0.3765, 0.4687, 0.4586, 0.1659, 0.4467, 0.4627, 0.5331, 0.3664,\n",
      "        0.3914])\n",
      "Trash symbol=  tensor([0.0935, 0.0887, 0.1022, 0.0552, 0.0457, 0.0986, 0.1041, 0.1050, 0.0842,\n",
      "        0.0953])\n"
     ]
    }
   ],
   "source": [
    "with torch.no_grad():\n",
    "\n",
    "   result,x_min,x_max,x_true,_,_,_=model.abstract_forward(x,\n",
    "                                                    conv1_eps_bias=conv1_eps_bias,\n",
    "                                                    conv1_eps_weight=conv1_eps_weight,\n",
    "                                                    conv2_eps_weight = conv2_eps_weight,\n",
    "                                                    conv2_eps_bias = conv2_eps_bias,\n",
    "                                                    fc1_eps_weight =fc1_eps_weight,\n",
    "                                                    fc1_eps_bias = fc1_eps_bias, \n",
    "                                                    fc2_eps_weight = fc2_eps_weight,\n",
    "                                                    fc2_eps_bias = fc2_eps_bias,\n",
    "\n",
    "                                                    \n",
    "                                                    add_symbol=True)\n",
    "\n",
    "print(f\"y_min       =  {x_min}\")\n",
    "print(f\"y_max       =  {x_max}\")\n",
    "print(f\"center Ztp  =  {result[0]}\")\n",
    "print(f\"y_true      =  {x_true[:]}\")\n",
    "print(f\"y_max-x_min =  {x_max-x_min}\")\n",
    "print(f\"Trash symbol=  {result[-1]}\")"
   ]
  },
  {
   "cell_type": "code",
   "execution_count": null,
   "metadata": {},
   "outputs": [],
   "source": [
    "result.shape"
   ]
  },
  {
   "cell_type": "code",
   "execution_count": 30,
   "metadata": {},
   "outputs": [],
   "source": [
    "import matplotlib.pyplot as plt\n",
    "import numpy as np\n",
    "def plot_dominance(result,x_min,x_max,x_true):\n",
    "       y_min       =  np.array(x_min)\n",
    "       y_max       =  np.array(x_max)\n",
    "       center_Ztp  =  np.expand_dims(np.array(result[0]),axis =1)\n",
    "       y_true      =  np.expand_dims(np.array(x_true[:])[0],axis =1)\n",
    "\n",
    "\n",
    "\n",
    "       \n",
    "\n",
    "\n",
    "\n",
    "\n",
    "       x_scale = np.arange(len(y_min))\n",
    "       D =np.stack((y_min,y_max),axis=1)\n",
    "\n",
    "       print(D.shape)\n",
    "       print(center_Ztp.shape)\n",
    "       print(y_true.shape)\n",
    "       # plot:\n",
    "\n",
    "       fig,ax = plt.subplots(1, 1, figsize=(8,4), tight_layout=True)\n",
    "       ax.eventplot(D, orientation=\"vertical\", linewidth=1,color='blue',linelengths=0.3)\n",
    "       ax.eventplot(y_true, orientation=\"vertical\", linewidth=0.50,color='green',linelengths=0.4)\n",
    "       ax.eventplot(center_Ztp, orientation=\"vertical\", linewidth=1,color='red',linelengths=0.5)\n",
    "\n",
    "       ax.set(xlim=(-0.5, 10),xticks=x_scale,xticklabels=[\"T-shirt/top\",\"Trouser\",\"Pullover\",\"Dress\",\"Coat\",\"Sandal\",\"Shirt\",\"Sneaker\",\"Bag,\",\"Ankle boot\"],\n",
    "              ylim=(np.min(D), np.max(D)))\n",
    "       plt.ylabel(\"Value of the abstract domain\")\n",
    "       plt.title(\"Dominance interval for the 10 classes of Fashion MNIST .\\n Abstract domain based on 100_000 lower weights of the first layer of the first fully connected layer of the model\")\n",
    "       plt.legend()\n",
    "       plt.show()"
   ]
  },
  {
   "cell_type": "code",
   "execution_count": 32,
   "metadata": {},
   "outputs": [],
   "source": [
    "model = AbstractNN()"
   ]
  },
  {
   "cell_type": "code",
   "execution_count": 36,
   "metadata": {},
   "outputs": [
    {
     "name": "stderr",
     "output_type": "stream",
     "text": [
      "  0%|          | 0/1 [00:00<?, ?it/s]"
     ]
    },
    {
     "name": "stderr",
     "output_type": "stream",
     "text": [
      "No artists with labels found to put in legend.  Note that artists whose label start with an underscore are ignored when legend() is called with no argument.\n"
     ]
    },
    {
     "name": "stdout",
     "output_type": "stream",
     "text": [
      "(10, 2)\n",
      "(10, 1)\n",
      "(10, 1)\n"
     ]
    },
    {
     "data": {
      "image/png": "[encoded data removed]",
      "text/plain": [
       "<Figure size 800x400 with 1 Axes>"
      ]
     },
     "metadata": {},
     "output_type": "display_data"
    },
    {
     "name": "stderr",
     "output_type": "stream",
     "text": [
      "100%|██████████| 1/1 [00:21<00:00, 21.52s/it]"
     ]
    },
    {
     "name": "stdout",
     "output_type": "stream",
     "text": [
      "Label = 6\n"
     ]
    },
    {
     "name": "stderr",
     "output_type": "stream",
     "text": [
      "\n"
     ]
    }
   ],
   "source": [
    "import matplotlib.pyplot as plt\n",
    "import numpy as np\n",
    "from tqdm import tqdm\n",
    "from abstract import abstractTensor as AT\n",
    "\n",
    "for i in tqdm(range(1)):\n",
    "    scale = 0.001\n",
    "    conv1_eps_weight = torch.tensor([])\n",
    "    conv1_eps_weight.indices = torch.arange(0,len(model.conv1.weight.data.flatten()),1)\n",
    "    conv1_eps_weight.values = scale*(1)*torch.ones_like(conv1_eps_weight.indices)\n",
    "    conv1_eps_bias = torch.tensor([])\n",
    "    conv1_eps_bias.indices = torch.arange(0,len(model.conv1.bias.data.flatten()),1)\n",
    "    conv1_eps_bias.values = scale*(1)*torch.ones_like(conv1_eps_bias.indices)\n",
    "\n",
    "\n",
    "    conv2_eps_weight = torch.tensor([])\n",
    "    conv2_eps_weight.indices = torch.arange(0,len(model.conv2.weight.data.flatten()),1)\n",
    "    conv2_eps_weight.values = scale*(1)*torch.ones_like(conv2_eps_weight.indices)\n",
    "    conv2_eps_bias = torch.tensor([])\n",
    "    conv2_eps_bias.indices = torch.arange(0,len(model.conv2.bias.data.flatten()),1)\n",
    "    conv2_eps_bias.values = scale*(1)*torch.ones_like(conv2_eps_bias.indices)\n",
    "\n",
    "    fc1_eps_weight = torch.tensor([])\n",
    "    fc1_eps_weight.indices = torch.arange(0,len(model.fc1[1].weight.data.flatten()),1)\n",
    "    fc1_eps_weight.values = scale*(1)*torch.ones_like(fc1_eps_weight.indices)\n",
    "    fc1_eps_bias = torch.tensor([])\n",
    "    fc1_eps_bias.indices = torch.arange(0,len(model.fc1[1].bias.data.flatten()),1)\n",
    "    fc1_eps_bias.values = scale*(1)*torch.ones_like(fc1_eps_bias.indices)\n",
    "\n",
    "\n",
    "    fc2_eps_weight = torch.tensor([])\n",
    "    fc2_eps_weight.indices = torch.arange(0,len(model.fc2[1].weight.data.flatten()),1)\n",
    "    fc2_eps_weight.values = scale*(1)*torch.ones_like(fc2_eps_weight.indices)\n",
    "    fc2_eps_bias = torch.tensor([])\n",
    "    fc2_eps_bias.indices = torch.arange(0,len(model.fc2[1].bias.data.flatten()),1)\n",
    "    fc2_eps_bias.values = scale*(1)*torch.ones_like(fc2_eps_bias.indices)\n",
    "   \n",
    "\n",
    "    img, label = dataset_train[np.random.randint(0,1000)]\n",
    "\n",
    "   \n",
    "   \n",
    "    \n",
    "\n",
    "    x=AT(img,alpha =torch.tensor([]))\n",
    "    x=x.abstract_tensor()\n",
    "    x.shape\n",
    "\n",
    "    \n",
    "  \n",
    "    with torch.no_grad():\n",
    "      \n",
    "        \n",
    "        result,x_min,x_max,x_true,len_symb, len_symb_c2, len_symb_fc1=model.abstract_forward(x,\n",
    "                                                                    conv1_eps_bias=conv1_eps_bias,\n",
    "                                                                    conv1_eps_weight=conv1_eps_weight,\n",
    "                                                                    conv2_eps_weight = conv2_eps_weight,\n",
    "                                                                    conv2_eps_bias = conv2_eps_bias,\n",
    "\n",
    "                                                                    fc1_eps_weight =fc1_eps_weight,\n",
    "                                                                    fc1_eps_bias = fc1_eps_bias, \n",
    "                                                                    fc2_eps_weight = fc2_eps_weight,\n",
    "                                                                    fc2_eps_bias = fc2_eps_bias,\n",
    "\n",
    "                                                                    add_symbol=True)\n",
    "    plot_dominance(result,x_min,x_max,x_true)\n",
    "    print(f\"Label = {label}\")\n",
    "\n",
    "    concatenated_tensors = []\n",
    "    concatenated_bias_tensors =[]\n",
    "    for j in range(10):\n",
    "        concat_part = result[1:145, j].view(16, 1, 3, 3)\n",
    "        concatenated_tensors.append(concat_part)\n",
    "    concatenated_tensors =torch.stack(concatenated_tensors)\n",
    "    for j in range(10):\n",
    "        concat_part_bias = result[145:161, j]\n",
    "        concatenated_bias_tensors.append(concat_part_bias)\n",
    "    concatenated_bias_tensors = torch.stack(concatenated_bias_tensors)\n",
    "\n",
    "    concatenated_tensors_2 = []\n",
    "    concatenated_bias_tensors_2 =[]\n",
    "    for j in range(10):\n",
    "        concat_part = result[len_symb:len_symb+4608, j].view(32, 16, 3, 3)\n",
    "        concatenated_tensors_2.append(concat_part)\n",
    "    concatenated_tensors_2 =torch.stack(concatenated_tensors_2)\n",
    "    for j in range(10):\n",
    "        concat_part_bias = result[len_symb+4608:len_symb+4640, j]\n",
    "        concatenated_bias_tensors_2.append(concat_part_bias)\n",
    "    concatenated_bias_tensors_2 = torch.stack(concatenated_bias_tensors_2)\n",
    "\n",
    "    concatenated_tensors_fc1 = []\n",
    "    concatenated_bias_tensors_fc1 =[]\n",
    "    for j in range(10):\n",
    "        concat_part = result[len_symb_c2:len_symb_c2+294912, j].view(64,4608)\n",
    "        concatenated_tensors_fc1.append(concat_part)\n",
    "    concatenated_tensors_fc1 =torch.stack(concatenated_tensors_fc1)\n",
    "    for j in range(10):\n",
    "        concat_part_bias = result[len_symb_c2+294912:len_symb_c2+294976, j]\n",
    "        concatenated_bias_tensors_fc1.append(concat_part_bias)\n",
    "    concatenated_bias_tensors_fc1= torch.stack(concatenated_bias_tensors_fc1)\n",
    "\n",
    "    concatenated_tensors_fc2 = []\n",
    "    concatenated_bias_tensors_fc2 =[]\n",
    "    for j in range(10):\n",
    "        concat_part = result[len_symb_fc1:len_symb_fc1+640, j].view(10,64)\n",
    "        concatenated_tensors_fc2.append(concat_part)\n",
    "    concatenated_tensors_fc2 =torch.stack(concatenated_tensors_fc2)\n",
    "    for j in range(10):\n",
    "        concat_part_bias = result[len_symb_fc1+640:len_symb_fc1+650, j]\n",
    "        concatenated_bias_tensors_fc2.append(concat_part_bias)\n",
    "    concatenated_bias_tensors_fc2= torch.stack(concatenated_bias_tensors_fc2)\n",
    "    k_min = 0.1\n",
    "    k_plus = 1\n",
    "\n",
    "   \n",
    "    \n",
    "\n",
    "    #model.conv1.weight.data =model.conv1.weight.data+k_plus*(concatenated_tensors[label]-k_min*(torch.sum(concatenated_tensors[:label],dim =0)+torch.sum(concatenated_tensors[label+1:],dim =0)))#/torch.norm(2*concatenated_tensors[label]-torch.sum(concatenated_tensors,dim =0))\n",
    "    #model.conv1.bias.data = model.conv1.bias.data + k_plus*(concatenated_bias_tensors[label]-k_min*(torch.sum(concatenated_bias_tensors[:label],dim = 0)+torch.sum(concatenated_bias_tensors[label+1:],dim = 0)))#/torch.norm(2*concatenated_bias_tensors[label]-torch.sum(concatenated_bias_tensors,dim = 0))\n",
    "\n",
    "    #model.conv2.weight.data =model.conv2.weight.data+k_plus*(concatenated_tensors_2[label]-k_min*(torch.sum(concatenated_tensors_2[:label],dim =0)+torch.sum(concatenated_tensors_2[label+1:],dim =0)))#/torch.norm(2*concatenated_tensors[label]-torch.sum(concatenated_tensors,dim =0))\n",
    "    #model.conv2.bias.data = model.conv2.bias.data + k_plus*(concatenated_bias_tensors_2[label]-k_min*(torch.sum(concatenated_bias_tensors_2[:label],dim = 0)+torch.sum(concatenated_bias_tensors_2[label+1:],dim = 0)))#/torch.norm(2*concatenated_bias_tensors[label]-torch.sum(concatenated_bias_tensors,dim = 0))\n",
    "\n",
    "    #model.fc1[1].weight.data =model.fc1[1].weight.data+k_plus*(concatenated_tensors_fc1[label]-k_min*(torch.sum(concatenated_tensors_fc1[:label],dim =0)+torch.sum(concatenated_tensors_fc1[label+1:],dim =0)))#/torch.norm(2*concatenated_tensors[label]-torch.sum(concatenated_tensors,dim =0))\n",
    "    #model.fc1[1].bias.data = model.fc1[1].bias.data + k_plus*(concatenated_bias_tensors_fc1[label]-k_min*(torch.sum(concatenated_bias_tensors_fc1[:label],dim = 0)+torch.sum(concatenated_bias_tensors_fc1[label+1:],dim = 0)))#/torch.norm(2*concatenated_bias_tensors[label]-torch.sum(concatenated_bias_tensors,dim = 0))\n",
    "\n",
    "    #model.fc2[1].weight.data =model.fc2[1].weight.data+k_plus*(concatenated_tensors_fc2[label]-k_min*(torch.sum(concatenated_tensors_fc2[:label],dim =0)+torch.sum(concatenated_tensors_fc2[label+1:],dim =0)))#/torch.norm(2*concatenated_tensors[label]-torch.sum(concatenated_tensors,dim =0))\n",
    "    #model.fc2[1].bias.data = model.fc2[1].bias.data + k_plus*(concatenated_bias_tensors_fc2[label]-k_min*(torch.sum(concatenated_bias_tensors_fc2[:label],dim = 0)+torch.sum(concatenated_bias_tensors_fc2[label+1:],dim = 0)))#/torch.no\n"
   ]
  },
  {
   "cell_type": "code",
   "execution_count": null,
   "metadata": {},
   "outputs": [],
   "source": [
    "model.fc2[1].weight.data.shape"
   ]
  },
  {
   "cell_type": "code",
   "execution_count": null,
   "metadata": {},
   "outputs": [],
   "source": [
    "conv1_eps_bias.values"
   ]
  },
  {
   "cell_type": "code",
   "execution_count": null,
   "metadata": {},
   "outputs": [],
   "source": [
    "list"
   ]
  },
  {
   "cell_type": "code",
   "execution_count": null,
   "metadata": {},
   "outputs": [],
   "source": [
    "conv1_eps_weight.values\n",
    "model.conv1.weight.data"
   ]
  },
  {
   "cell_type": "code",
   "execution_count": null,
   "metadata": {},
   "outputs": [],
   "source": [
    "test = np.arange(0,10,1)\n",
    "test[1:5]\n",
    "test[5:10]"
   ]
  },
  {
   "cell_type": "code",
   "execution_count": null,
   "metadata": {},
   "outputs": [],
   "source": [
    "from custom_train import CustomTrainer as CT\n",
    "eval =CT(model, device = device)"
   ]
  },
  {
   "cell_type": "code",
   "execution_count": null,
   "metadata": {},
   "outputs": [],
   "source": [
    "eval.evaluate_model(dataset_test)"
   ]
  },
  {
   "cell_type": "code",
   "execution_count": null,
   "metadata": {},
   "outputs": [],
   "source": [
    "torch.save(model.state_dict(), f'abstractLearn.pth')"
   ]
  },
  {
   "cell_type": "code",
   "execution_count": 34,
   "metadata": {},
   "outputs": [
    {
     "data": {
      "text/plain": [
       "<All keys matched successfully>"
      ]
     },
     "execution_count": 34,
     "metadata": {},
     "output_type": "execute_result"
    }
   ],
   "source": [
    "model.load_state_dict(torch.load('dataset/FMNIST.pth'))"
   ]
  }
 ],
 "metadata": {
  "kernelspec": {
   "display_name": "Python 3",
   "language": "python",
   "name": "python3"
  },
  "language_info": {
   "codemirror_mode": {
    "name": "ipython",
    "version": 3
   },
   "file_extension": ".py",
   "mimetype": "text/x-python",
   "name": "python",
   "nbconvert_exporter": "python",
   "pygments_lexer": "ipython3",
   "version": "3.10.12"
  }
 },
 "nbformat": 4,
 "nbformat_minor": 2
}
