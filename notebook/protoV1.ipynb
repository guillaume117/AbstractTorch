{
 "cells": [
  {
   "cell_type": "markdown",
   "metadata": {},
   "source": [
    "## PROTO V1.0\n",
    "<div class='alert alert-success'>\n",
    "Ce petit notebook permet d'évaluer Abstract Torch sur un petit réseau. \n",
    "Pour cela, on créé AbstractNN, un petit réseau composé de 3 couches de convolution suivies de ReLU, puis de deux couches FC suivies également de ReLU. \n",
    "Pour l'entrainement uniquement, un softmax est appliqué en sortie de réseau\n",
    "</div>\n",
    "\n",
    "Dans la classe AbstractNN, la méthode forward de nn.Linear est surchargée de façon standard.\n",
    "C'est à dire que si l'on instancie model=AbstractNN(), model(x) applique forward à x comme dans n'importe quel réseau. \n",
    "\n",
    "AbstractNN possède une méthode abstract_forward() qui fait appelle à AbstractLinear et AbstractReLU. \n",
    "<div class='alert alert-info'>\n",
    "Le lecteur avisé notera que \n",
    "    model(x)=nn.softmax(model.abstract_forward(x_abstract)[0])\n",
    "</div>\n",
    "\n"
   ]
  },
  {
   "cell_type": "code",
   "execution_count": 2,
   "metadata": {},
   "outputs": [
    {
     "name": "stdout",
     "output_type": "stream",
     "text": [
      "The autoreload extension is already loaded. To reload it, use:\n",
      "  %reload_ext autoreload\n"
     ]
    }
   ],
   "source": [
    "\n",
    "\n",
    "%load_ext autoreload\n",
    "%autoreload 2\n",
    "import sys\n",
    "sys.path.append('../src')\n",
    "sys.path.append('../util')\n",
    "import torch\n",
    "import torch.nn as nn\n",
    "\n",
    "from abstractModule import AbstractLinear as AL\n",
    "from abstractModule import AbstractReLU as AR\n",
    "from abstractModule import AbstractMaxpool2D as AM\n",
    "\n",
    "from custom_train import CustomTrainer as T\n",
    "import torchvision.transforms as transforms\n",
    "from torchvision import datasets\n",
    "from torch.utils.data import random_split\n",
    "from torch import optim\n",
    "import os\n",
    "\n",
    "\n",
    "device = torch.device('mps')"
   ]
  },
  {
   "cell_type": "markdown",
   "metadata": {},
   "source": [
    "Ici on importe le dataset FashionMNIST normalisation et random split pour l'entrainement"
   ]
  },
  {
   "cell_type": "code",
   "execution_count": 72,
   "metadata": {},
   "outputs": [],
   "source": [
    "\n",
    "path ='dataset'\n",
    "\n",
    "os.makedirs(path, exist_ok=True)\n",
    "\n",
    "transform = transforms.Compose([\n",
    "        transforms.ToTensor(),\n",
    "        transforms.Normalize(mean =[0.5], std =[0.2]),\n",
    "        #transforms.Resize((56,56))\n",
    "    ])\n",
    "\n",
    "\n",
    "\n",
    "dataset_train = datasets.FashionMNIST(root = path,transform = transform, download = True, train = True)\n",
    "dataset_test =datasets.FashionMNIST( root =path,transform=transform ,download = True, train = False)\n",
    "val =0.2\n",
    "len_data_train = len(dataset_train)\n",
    "train_size =int((1-val)*len_data_train)\n",
    "\n",
    "val_size = int(val*len_data_train)\n",
    "\n",
    "train_dataset, val_dataset = random_split(dataset_train, [train_size,val_size])\n"
   ]
  },
  {
   "cell_type": "markdown",
   "metadata": {},
   "source": [
    "Ici on génère notre classe AbstractNN et sa fameuse méthode abstrac_forward\n"
   ]
  },
  {
   "cell_type": "code",
   "execution_count": 154,
   "metadata": {},
   "outputs": [],
   "source": [
    "\n",
    "\n",
    "class AbstractNN(nn.Module):\n",
    "    \n",
    "    def __init__(self,num_depth=1,device=torch.device(\"mps\")):\n",
    "\n",
    "        super(AbstractNN,self).__init__()\n",
    "       \n",
    "      \n",
    "        self.num_depth = num_depth\n",
    "        self.device = device\n",
    "        self.conv1=nn.Conv2d(self.num_depth,16,3,device=self.device)\n",
    "        self.conv2=nn.Conv2d(16,32,3,device=self.device)\n",
    "        self.maxpool = nn.MaxPool2d(kernel_size=2,stride=2,padding=0)\n",
    "  \n",
    "\n",
    "       \n",
    "\n",
    "        self.fc1=nn.Sequential(nn.Flatten(),nn.Linear(4608,64,device=self.device))\n",
    "        self.fc2=nn.Sequential(nn.Flatten(),nn.Linear(64,10,device=self.device))\n",
    "        self.softMax =nn.Softmax()\n",
    "    def forward(self,x):\n",
    "        x=self.conv1(x)\n",
    "        x=torch.relu(x)\n",
    "        x=self.conv2(x)\n",
    "        x=torch.relu(x)\n",
    "        print(x.shape)\n",
    "        x=self.maxpool(x)\n",
    "        print(x.shape)\n",
    "    \n",
    "        x=self.fc1(x)\n",
    "        x=torch.relu(x)\n",
    "        x=self.fc2(x)\n",
    "        x=torch.relu(x)\n",
    "        x= self.softMax(x)\n",
    "        return x\n",
    "    \n",
    "    def abstract_forward(self,x,add_symbol=False,device=torch.device(\"cpu\")):\n",
    "        self.device=device\n",
    "        \n",
    "        x_true = x\n",
    "        x_true = x_true[0].unsqueeze(0)\n",
    "\n",
    "        x,x_min,x_max,x_true = AL.abstract_conv2D(self.conv1,x,x_true,device=self.device)\n",
    "        x,x_min,x_max,x_true = AR.abstract_relu_conv2D(x,x_min,x_max,x_true,add_symbol=add_symbol,device =self.device)\n",
    "     \n",
    "       \n",
    "        x,x_min,x_max,x_true = AL.abstract_conv2D(self.conv2,x,x_true,device=self.device)\n",
    "        x,x_min,x_max,x_true = AR.abstract_relu_conv2D(x,x_min,x_max,x_true,add_symbol=add_symbol,device =self.device)\n",
    "        x,x_min,x_max ,x_true = AM.abstract_maxpool2D(self.maxpool,x,x_true,add_symbol=add_symbol,device=self.device)\n",
    "        x,x_min,x_max,x_true = AL.abstract_linear(self.fc1,x,x_true,device=self.device)\n",
    "        x,x_min,x_max,x_true = AR.abstract_relu(x,x_min,x_max,x_true,add_symbol=add_symbol,device =self.device)\n",
    "      \n",
    "        x,x_min,x_max,x_true = AL.abstract_linear(self.fc2,x,x_true,device=self.device)\n",
    "        x,x_min,x_max,x_true = AR.abstract_relu(x,x_min,x_max,x_true,add_symbol=add_symbol,device =self.device)\n",
    "       \n",
    "        \n",
    "        return x,x_min,x_max,x_true\n",
    "        "
   ]
  },
  {
   "cell_type": "markdown",
   "metadata": {},
   "source": [
    "Un petit script pour l'entrainement, disons 10 EPOCH"
   ]
  },
  {
   "cell_type": "code",
   "execution_count": null,
   "metadata": {},
   "outputs": [],
   "source": [
    "model =AbstractNN(num_depth=1,device=torch.device('mps'))\n",
    "\n",
    "num_epochs =10\n",
    "learning_rate=0.01\n",
    "batch_size = 128\n",
    "\n",
    "optimizer = optim.Adam(model.parameters(), betas=(0.9, 0.99))\n",
    "scheduler =  optim.lr_scheduler.StepLR(optimizer, step_size=40, gamma=0.98)\n",
    "criterion = nn.CrossEntropyLoss()\n",
    "TD= T(model=model,\n",
    "            device=device\n",
    "                            )\n",
    "model = TD.train_model(train_dataset,val_dataset,\n",
    "                        criterion=criterion,  \n",
    "                        batch_size= batch_size,\n",
    "                        optimizer=optimizer,\n",
    "                        scheduler=scheduler,\n",
    "                        num_epochs=num_epochs,\n",
    "                        learning_rate=learning_rate,\n",
    "                        resname='SimpleCNN',verbose=False)"
   ]
  },
  {
   "cell_type": "code",
   "execution_count": 156,
   "metadata": {},
   "outputs": [
    {
     "data": {
      "text/plain": [
       "AbstractNN(\n",
       "  (conv1): Conv2d(1, 16, kernel_size=(3, 3), stride=(1, 1))\n",
       "  (conv2): Conv2d(16, 32, kernel_size=(3, 3), stride=(1, 1))\n",
       "  (maxpool): MaxPool2d(kernel_size=2, stride=2, padding=0, dilation=1, ceil_mode=False)\n",
       "  (fc1): Sequential(\n",
       "    (0): Flatten(start_dim=1, end_dim=-1)\n",
       "    (1): Linear(in_features=4608, out_features=64, bias=True)\n",
       "  )\n",
       "  (fc2): Sequential(\n",
       "    (0): Flatten(start_dim=1, end_dim=-1)\n",
       "    (1): Linear(in_features=64, out_features=10, bias=True)\n",
       "  )\n",
       "  (softMax): Softmax(dim=None)\n",
       ")"
      ]
     },
     "execution_count": 156,
     "metadata": {},
     "output_type": "execute_result"
    }
   ],
   "source": [
    "model=AbstractNN(num_depth=1,device=torch.device('cpu')    )\n",
    "model.load_state_dict(torch.load('dataset/FMNISTMAXPOOL.pth'))\n",
    "device = torch.device('cpu')\n",
    "model.to(device)"
   ]
  },
  {
   "cell_type": "code",
   "execution_count": 157,
   "metadata": {},
   "outputs": [
    {
     "name": "stdout",
     "output_type": "stream",
     "text": [
      "Label:9\n"
     ]
    },
    {
     "data": {
      "text/plain": [
       "torch.Size([1, 28, 28])"
      ]
     },
     "execution_count": 157,
     "metadata": {},
     "output_type": "execute_result"
    },
    {
     "data": {
      "image/png": "[encoded data removed]",
      "text/plain": [
       "<Figure size 640x480 with 1 Axes>"
      ]
     },
     "metadata": {},
     "output_type": "display_data"
    }
   ],
   "source": [
    "import matplotlib.pyplot as plt\n",
    "import numpy as np\n",
    "\n",
    "img, label = dataset_train[0]\n",
    "plt.imshow(img[0])\n",
    "print(f\"Label:{label}\")\n",
    "img.shape"
   ]
  },
  {
   "cell_type": "code",
   "execution_count": 158,
   "metadata": {},
   "outputs": [
    {
     "name": "stdout",
     "output_type": "stream",
     "text": [
      "tensor(5.)\n",
      "torch.Size([1, 28, 28])\n",
      "torch.Size([786, 1, 28, 28])\n"
     ]
    }
   ],
   "source": [
    "max= torch.max(img)\n",
    "min = torch.min(img)\n",
    "scale = max-min\n",
    "print(scale)\n",
    "\n",
    "from abstract import abstractTensor as AT\n",
    "\n",
    "x=AT(img,alpha =0.001*scale*torch.ones(28*28))\n",
    "x=x.abstract_tensor()\n",
    "x.shape\n",
    "x=x.to(device)\n",
    "print(x.shape)\n"
   ]
  },
  {
   "cell_type": "code",
   "execution_count": 159,
   "metadata": {},
   "outputs": [
    {
     "name": "stdout",
     "output_type": "stream",
     "text": [
      "torch.Size([1, 32, 24, 24])\n",
      "torch.Size([1, 32, 12, 12])\n",
      "x.shape=torch.Size([786, 1, 28, 28])\n",
      "x.shape=torch.Size([827, 16, 26, 26])\n"
     ]
    },
    {
     "name": "stderr",
     "output_type": "stream",
     "text": [
      "/Users/guillaumeberthelot/anaconda3/envs/NumalisEnv/lib/python3.12/site-packages/torch/nn/modules/module.py:1511: UserWarning: Implicit dimension choice for softmax has been deprecated. Change the call to include dim=X as an argument.\n",
      "  return self._call_impl(*args, **kwargs)\n"
     ]
    },
    {
     "name": "stdout",
     "output_type": "stream",
     "text": [
      "x.shape=torch.Size([1173, 32, 24, 24])\n",
      "x.shape=torch.Size([1173, 32, 24, 24])\n",
      "x.shape=torch.Size([1173, 32, 24, 24])\n",
      "x.shape=torch.Size([1173, 32, 24, 24])\n",
      "y_min       =  tensor([-0.0000, -0.0000, -0.0000, -0.0000,  2.1343, -0.0000, -0.0000,  6.9286,\n",
      "         0.3297, 28.5660])\n",
      "y_max       =  tensor([ 0.0000,  0.0000,  0.0000,  0.0000,  4.4760,  0.0000,  0.0000,  8.1324,\n",
      "         3.2948, 30.6449])\n",
      "center Ztp  =  tensor([-0.0000, -0.0000, -0.0000, -0.0000,  3.3051, -0.0000, -0.0000,  7.5305,\n",
      "         1.8122, 29.6054])\n",
      "y_true      =  tensor([[ 0.0000,  0.0000,  0.0000,  0.0000,  3.3419,  0.0000,  0.0000,  7.5643,\n",
      "          1.6197, 29.6233]])\n",
      "y_max-x_min =  tensor([0.0000, 0.0000, 0.0000, 0.0000, 2.3417, 0.0000, 0.0000, 1.2038, 2.9650,\n",
      "        2.0788])\n",
      "Trash symbol=  tensor([0., 0., 0., 0., 0., 0., 0., 0., 0., 0.])\n"
     ]
    }
   ],
   "source": [
    "with torch.no_grad():\n",
    "   result_1= model(x[0].unsqueeze(0))  \n",
    " \n",
    "   result,x_min,x_max,x_true=model.abstract_forward(x,add_symbol=True,device=torch.device('cpu'))\n",
    "\n",
    "print(f\"y_min       =  {x_min}\")\n",
    "print(f\"y_max       =  {x_max}\")\n",
    "print(f\"center Ztp  =  {result[0]}\")\n",
    "print(f\"y_true      =  {x_true[:]}\")\n",
    "print(f\"y_max-x_min =  {x_max-x_min}\")\n",
    "print(f\"Trash symbol=  {result[-1]}\")"
   ]
  },
  {
   "cell_type": "code",
   "execution_count": 160,
   "metadata": {},
   "outputs": [
    {
     "name": "stdout",
     "output_type": "stream",
     "text": [
      "torch.Size([1, 32, 24, 24])\n",
      "torch.Size([1, 32, 12, 12])\n",
      "x.shape=torch.Size([786, 1, 28, 28])\n",
      "x.shape=torch.Size([827, 16, 26, 26])\n",
      "x.shape=torch.Size([1173, 32, 24, 24])\n",
      "x.shape=torch.Size([1173, 32, 24, 24])\n",
      "x.shape=torch.Size([1173, 32, 24, 24])\n",
      "x.shape=torch.Size([1173, 32, 24, 24])\n",
      "y_min       =  tensor([-0.0000, -0.0000, -0.0000, -0.0000,  2.1343, -0.0000, -0.0000,  6.9286,\n",
      "         0.3297, 28.5660])\n",
      "y_max       =  tensor([ 0.0000,  0.0000,  0.0000,  0.0000,  4.4760,  0.0000,  0.0000,  8.1324,\n",
      "         3.2948, 30.6449])\n",
      "center Ztp  =  tensor([-0.0000, -0.0000, -0.0000, -0.0000,  3.3051, -0.0000, -0.0000,  7.5305,\n",
      "         1.8122, 29.6054])\n",
      "y_true      =  tensor([[ 0.0000,  0.0000,  0.0000,  0.0000,  3.3419,  0.0000,  0.0000,  7.5643,\n",
      "          1.6197, 29.6233]])\n",
      "y_max-x_min =  tensor([0.0000, 0.0000, 0.0000, 0.0000, 2.3417, 0.0000, 0.0000, 1.2038, 2.9650,\n",
      "        2.0788])\n",
      "Trash symbol=  tensor([0., 0., 0., 0., 0., 0., 0., 0., 0., 0.])\n"
     ]
    }
   ],
   "source": [
    "with torch.no_grad():\n",
    "   result_1= model(x[0].unsqueeze(0))  \n",
    " \n",
    "   result,x_min,x_max,x_true=model.abstract_forward(x,add_symbol=True,device=torch.device('cpu'))\n",
    "\n",
    "print(f\"y_min       =  {x_min}\")\n",
    "print(f\"y_max       =  {x_max}\")\n",
    "print(f\"center Ztp  =  {result[0]}\")\n",
    "print(f\"y_true      =  {x_true[:]}\")\n",
    "print(f\"y_max-x_min =  {x_max-x_min}\")\n",
    "print(f\"Trash symbol=  {result[-1]}\")\n"
   ]
  },
  {
   "cell_type": "markdown",
   "metadata": {},
   "source": [
    "Voici le premier affichage de relevance calculé par AbstractTorch"
   ]
  },
  {
   "cell_type": "code",
   "execution_count": 134,
   "metadata": {},
   "outputs": [
    {
     "name": "stdout",
     "output_type": "stream",
     "text": [
      "tensor(9)\n",
      "torch.Size([784])\n"
     ]
    },
    {
     "data": {
      "text/plain": [
       "<matplotlib.colorbar.Colorbar at 0x1f02bc0b0>"
      ]
     },
     "execution_count": 134,
     "metadata": {},
     "output_type": "execute_result"
    },
    {
     "data": {
      "image/png": "[encoded data removed]",
      "text/plain": [
       "<Figure size 640x480 with 2 Axes>"
      ]
     },
     "metadata": {},
     "output_type": "display_data"
    }
   ],
   "source": [
    "value=torch.argmax(result[0])\n",
    "print(value)\n",
    "concat= torch.abs(result[1:785,value])\n",
    "print(concat.size())\n",
    "\n",
    "concat = concat.reshape(28,28)\n",
    "plt.imshow(torch.abs(concat.cpu()).numpy(), cmap='viridis')\n",
    "plt.colorbar()"
   ]
  },
  {
   "cell_type": "markdown",
   "metadata": {},
   "source": [
    "## Essai sur un réseau de grande dimension"
   ]
  },
  {
   "cell_type": "code",
   "execution_count": 2,
   "metadata": {},
   "outputs": [],
   "source": [
    "from abstractModule import AbstractMaxpool2D as AM"
   ]
  },
  {
   "cell_type": "code",
   "execution_count": 136,
   "metadata": {},
   "outputs": [],
   "source": [
    "class AbstractNN2(nn.Module):\n",
    "    \n",
    "    def __init__(self,num_depth=1,device=torch.device(\"cpu\")):\n",
    "\n",
    "        super(AbstractNN2,self).__init__()\n",
    "       \n",
    "      \n",
    "        self.num_depth = num_depth\n",
    "        self.device = device\n",
    "        self.conv1=nn.Conv2d(self.num_depth,16,3,device=self.device)\n",
    "        self.conv2=nn.Conv2d(16,16,3,device=self.device)\n",
    "        self.conv3=nn.Conv2d(16,32,3,device=self.device) \n",
    "        self.conv4=nn.Conv2d(32,32,3,device=self.device)\n",
    "        self.maxpool=nn.MaxPool2d(2,2)\n",
    "        self.fc1=nn.Sequential(nn.Flatten(),nn.Linear(3200,6272,device=self.device))\n",
    "        self.fc2=nn.Sequential(nn.Flatten(),nn.Linear(6272,6272,device=self.device))\n",
    "        self.fc3=nn.Sequential(nn.Flatten(),nn.Linear(6272,6272,device=self.device))\n",
    "        self.fc4=nn.Sequential(nn.Flatten(),nn.Linear(6272,6272,device=self.device))\n",
    "        self.fc5=nn.Sequential(nn.Flatten(),nn.Linear(6272,512,device=self.device))\n",
    "        self.fc6=nn.Sequential(nn.Flatten(),nn.Linear(512,256,device=self.device))\n",
    "        self.fc7=nn.Sequential(nn.Flatten(),nn.Linear(256,8,device=self.device))\n",
    "\n",
    "    \n",
    "    def forward(self,x,add_symbol=False,device = torch.device(\"cpu\")):\n",
    "\n",
    "        self.device = device\n",
    "        x_true = x\n",
    "        x_true = x_true[0].unsqueeze(0)\n",
    "        print(f\"lenx:{len(x)}\")\n",
    "        x,x_min,x_max,x_true = AL.abstract_conv2D(self.conv1,x,x_true,device=self.device)\n",
    "        x,x_min,x_max,x_true = AR.abstract_relu_conv2D(x,x_min,x_max,x_true,add_symbol=add_symbol,device =self.device)\n",
    "        print(f\"lenx:{len(x)}\")\n",
    "       \n",
    "        x,x_min,x_max,x_true = AL.abstract_conv2D(self.conv2,x,x_true,device=self.device)\n",
    "        x,x_min,x_max,x_true = AR.abstract_relu_conv2D(x,x_min,x_max,x_true,add_symbol=add_symbol,device =self.device)\n",
    "        print(f\"lenx:{len(x)}\")\n",
    "        x,x_min,x_max,x_true = AL.abstract_conv2D(self.conv3,x,x_true,device=self.device)\n",
    "        x,x_min,x_max,x_true = AR.abstract_relu_conv2D(x,x_min,x_max,x_true,add_symbol=add_symbol,device =self.device)\n",
    "        print(f\"lenx:{len(x)}\")\n",
    "        x,x_min,x_max,x_true = AL.abstract_conv2D(self.conv4,x,x_true,device=self.device)\n",
    "        x,x_min,x_max,x_true = AR.abstract_relu_conv2D(x,x_min,x_max,x_true,add_symbol=add_symbol,device =self.device)\n",
    "        print(f\"lenx:{len(x)}\")\n",
    "\n",
    "        x,x_min,x_max,x_true = AM.abstract_maxpool2D(self.maxpool,x,x_true,device=self.device)\n",
    "        print(f\"x.shape:{x.shape}\")\n",
    "        x,x_min,x_max,x_true = AL.abstract_linear(self.fc1,x,x_true,device=self.device)\n",
    "        x,x_min,x_max,x_true = AR.abstract_relu(x,x_min,x_max,x_true,add_symbol=add_symbol,device =self.device)\n",
    "        print(f\"lenx:{len(x)}\")\n",
    "        x,x_min,x_max,x_true = AL.abstract_linear(self.fc2,x,x_true,device=self.device)\n",
    "        x,x_min,x_max,x_true = AR.abstract_relu(x,x_min,x_max,x_true,add_symbol=add_symbol,device =self.device)\n",
    "        print(f\"lenx:{len(x)}\")\n",
    "        x,x_min,x_max,x_true = AL.abstract_linear(self.fc3,x,x_true,device=self.device)\n",
    "        x,x_min,x_max,x_true = AR.abstract_relu(x,x_min,x_max,x_true,add_symbol=add_symbol,device =self.device)\n",
    "        print(f\"lenx:{len(x)}\")\n",
    "        x,x_min,x_max,x_true = AL.abstract_linear(self.fc4,x,x_true,device=self.device)\n",
    "        x,x_min,x_max,x_true = AR.abstract_relu(x,x_min,x_max,x_true,add_symbol=add_symbol,device =self.device)\n",
    "        print(f\"lenx:{len(x)}\")\n",
    "        x,x_min,x_max,x_true = AL.abstract_linear(self.fc5,x,x_true,device=self.device)\n",
    "        x,x_min,x_max,x_true = AR.abstract_relu(x,x_min,x_max,x_true,add_symbol=add_symbol,device =self.device)\n",
    "        print(f\"lenx:{len(x)}\")\n",
    "        x,x_min,x_max,x_true = AL.abstract_linear(self.fc6,x,x_true,device=self.device)\n",
    "        x,x_min,x_max,x_true = AR.abstract_relu(x,x_min,x_max,x_true,add_symbol=add_symbol,device =self.device)\n",
    "        print(f\"lenx:{len(x)}\")\n",
    "\n",
    "        x,x_min,x_max,x_true = AL.abstract_linear(self.fc7,x,x_true,device=self.device)\n",
    "        x,x_min,x_max,x_true = AR.abstract_relu(x,x_min,x_max,x_true,add_symbol=add_symbol,device =self.device)\n",
    "        print(f\"lenx:{len(x)}\")\n",
    "        return x,x_min,x_max,x_true"
   ]
  },
  {
   "cell_type": "code",
   "execution_count": 137,
   "metadata": {},
   "outputs": [
    {
     "name": "stdout",
     "output_type": "stream",
     "text": [
      "torch.Size([1, 28, 28])\n",
      "torch.Size([786, 1, 28, 28])\n",
      "lenx:786\n",
      "x.shape=torch.Size([786, 1, 28, 28])\n",
      "lenx:786\n",
      "x.shape=torch.Size([786, 16, 26, 26])\n",
      "lenx:786\n",
      "x.shape=torch.Size([786, 16, 24, 24])\n",
      "lenx:786\n",
      "x.shape=torch.Size([786, 32, 22, 22])\n",
      "lenx:786\n",
      "kernel_size 2\n",
      "x.shape=torch.Size([786, 32, 20, 20])\n",
      "x.shape=torch.Size([786, 32, 20, 20])\n",
      "x.shape=torch.Size([786, 32, 20, 20])\n",
      "x.shape=torch.Size([786, 32, 20, 20])\n",
      "x.shape:torch.Size([786, 32, 10, 10])\n",
      "lenx:786\n",
      "lenx:786\n",
      "lenx:786\n",
      "lenx:786\n",
      "lenx:786\n",
      "lenx:786\n",
      "lenx:786\n"
     ]
    },
    {
     "data": {
      "text/plain": [
       "(tensor([[ 4263832.0000,  4645969.5000,  4711804.5000,  ...,\n",
       "           4347658.5000,  4378832.0000,  4467462.5000],\n",
       "         [       0.0000,        0.0000,        0.0000,  ...,\n",
       "                 0.0000,        0.0000,        0.0000],\n",
       "         [       0.0000,        0.0000,        0.0000,  ...,\n",
       "                 0.0000,        0.0000,        0.0000],\n",
       "         ...,\n",
       "         [       0.0000,        0.0000,        0.0000,  ...,\n",
       "                 0.0000,        0.0000,        0.0000],\n",
       "         [       0.0000,        0.0000,        0.0000,  ...,\n",
       "                 0.0000,        0.0000,        0.0000],\n",
       "         [12739938.0000, 13520473.0000, 13952268.0000,  ...,\n",
       "          13100498.0000, 12964662.0000, 13382398.0000]], grad_fn=<CopySlices>),\n",
       " tensor([-8476106., -8874504., -9240464., -8963618., -8954628., -8752840.,\n",
       "         -8585830., -8914936.], grad_fn=<SubBackward0>),\n",
       " tensor([17003770., 18166442., 18664072., 18106772., 17509600., 17448156.,\n",
       "         17343494., 17849860.], grad_fn=<AddBackward0>),\n",
       " tensor([[0.0709, 0.0000, 0.0000, 0.0000, 0.0000, 0.0416, 0.0147, 0.0000]],\n",
       "        grad_fn=<ReluBackward0>))"
      ]
     },
     "execution_count": 137,
     "metadata": {},
     "output_type": "execute_result"
    }
   ],
   "source": [
    "img = torch.randn(1,28,28)\n",
    "from abstract import abstractTensor as AT\n",
    "\n",
    "x=AT(img,alpha =0.001*torch.ones(28*28))\n",
    "x=x.abstract_tensor()\n",
    "x.shape\n",
    "x=x.to(device)\n",
    "print(x.shape)\n",
    "model =AbstractNN2(num_depth=1,device=torch.device('cpu'))\n",
    "\n",
    "\n",
    "model(x)"
   ]
  }
 ],
 "metadata": {
  "kernelspec": {
   "display_name": "Python 3",
   "language": "python",
   "name": "python3"
  },
  "language_info": {
   "codemirror_mode": {
    "name": "ipython",
    "version": 3
   },
   "file_extension": ".py",
   "mimetype": "text/x-python",
   "name": "python",
   "nbconvert_exporter": "python",
   "pygments_lexer": "ipython3",
   "version": "3.12.3"
  }
 },
 "nbformat": 4,
 "nbformat_minor": 2
}
