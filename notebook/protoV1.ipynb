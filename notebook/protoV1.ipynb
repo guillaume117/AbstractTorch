{
 "cells": [
  {
   "cell_type": "markdown",
   "metadata": {},
   "source": [
    "## PROTO V1.0\n",
    "<div class='alert alert-success'>\n",
    "Ce petit notebook permet d'évaluer Abstract Torch sur un petit réseau. \n",
    "Pour cela, on créé AbstractNN, un petit réseau composé de 3 couches de convolution suivies de ReLU, puis de deux couches FC suivies également de ReLU. \n",
    "Pour l'entrainement uniquement, un softmax est appliqué en sortie de réseau\n",
    "</div>\n",
    "\n",
    "Dans la classe AbstractNN, la méthode forward de nn.Linear est surchargée de façon standard.\n",
    "C'est à dire que si l'on instancie model=AbstractNN(), model(x) applique forward à x comme dans n'importe quel réseau. \n",
    "\n",
    "AbstractNN possède une méthode abstract_forward() qui fait appelle à AbstractLinear et AbstractReLU. \n",
    "<div class='alert alert-info'>\n",
    "Le lecteur avisé notera que \n",
    "    model(x)=nn.softmax(model.abstract_forward(x_abstract)[0])\n",
    "</div>\n",
    "\n"
   ]
  },
  {
   "cell_type": "code",
   "execution_count": null,
   "metadata": {},
   "outputs": [],
   "source": [
    "\n",
    "\n",
    "%load_ext autoreload\n",
    "%autoreload 2\n",
    "import sys\n",
    "sys.path.append('../src')\n",
    "sys.path.append('../util')\n",
    "import torch\n",
    "import torch.nn as nn\n",
    "\n",
    "from abstractModule import AbstractLinear as AL\n",
    "from abstractModule import AbstractReLU as AR\n",
    "from abstractModule import AbstractMaxpool2D as AM\n",
    "\n",
    "from custom_train import CustomTrainer as T\n",
    "import torchvision.transforms as transforms\n",
    "from torchvision import datasets\n",
    "from torch.utils.data import random_split\n",
    "from torch import optim\n",
    "import os\n",
    "\n",
    "\n",
    "device = torch.device('cpu')"
   ]
  },
  {
   "cell_type": "markdown",
   "metadata": {},
   "source": [
    "Ici on importe le dataset FashionMNIST normalisation et random split pour l'entrainement"
   ]
  },
  {
   "cell_type": "code",
   "execution_count": null,
   "metadata": {},
   "outputs": [],
   "source": [
    "\n",
    "path ='dataset'\n",
    "\n",
    "os.makedirs(path, exist_ok=True)\n",
    "\n",
    "transform = transforms.Compose([\n",
    "        transforms.ToTensor(),\n",
    "        transforms.Normalize(mean =[0.5], std =[0.2]),\n",
    "        #transforms.Resize((56,56))\n",
    "    ])\n",
    "\n",
    "\n",
    "\n",
    "dataset_train = datasets.FashionMNIST(root = path,transform = transform, download = True, train = True)\n",
    "dataset_test =datasets.FashionMNIST( root =path,transform=transform ,download = True, train = False)\n",
    "val =0.2\n",
    "len_data_train = len(dataset_train)\n",
    "train_size =int((1-val)*len_data_train)\n",
    "\n",
    "val_size = int(val*len_data_train)\n",
    "\n",
    "train_dataset, val_dataset = random_split(dataset_train, [train_size,val_size])\n"
   ]
  },
  {
   "cell_type": "markdown",
   "metadata": {},
   "source": [
    "Ici on génère notre classe AbstractNN et sa fameuse méthode abstrac_forward\n"
   ]
  },
  {
   "cell_type": "code",
   "execution_count": null,
   "metadata": {},
   "outputs": [],
   "source": [
    "\n",
    "\n",
    "class AbstractNN(nn.Module):\n",
    "    \n",
    "    def __init__(self,num_depth=1,device=torch.device(\"cpu\")):\n",
    "\n",
    "        super(AbstractNN,self).__init__()\n",
    "       \n",
    "      \n",
    "        self.num_depth = num_depth\n",
    "        self.device = device\n",
    "        self.conv1=nn.Conv2d(self.num_depth,16,3,device=self.device)\n",
    "        self.conv2=nn.Conv2d(16,32,3,device=self.device)\n",
    "        self.maxpool = nn.MaxPool2d(kernel_size=2,stride=2,padding=0)\n",
    "  \n",
    "\n",
    "       \n",
    "\n",
    "        self.fc1=nn.Sequential(nn.Flatten(),nn.Linear(4608,64,device=self.device))\n",
    "        self.fc2=nn.Sequential(nn.Flatten(),nn.Linear(64,10,device=self.device))\n",
    "        self.softMax =nn.Softmax()\n",
    "    def forward(self,x):\n",
    "        x=self.conv1(x)\n",
    "        x=torch.relu(x)\n",
    "        x=self.conv2(x)\n",
    "        x=torch.relu(x)\n",
    "        print(x.shape)\n",
    "        x=self.maxpool(x)\n",
    "        print(x.shape)\n",
    "    \n",
    "        x=self.fc1(x)\n",
    "        x=torch.relu(x)\n",
    "        x=self.fc2(x)\n",
    "        x=torch.relu(x)\n",
    "        x= self.softMax(x)\n",
    "        return x\n",
    "    \n",
    "    def abstract_forward(self,x,add_symbol=False,device=torch.device(\"cpu\")):\n",
    "        self.device=device\n",
    "        \n",
    "        x_true = x\n",
    "        x_true = x_true[0].unsqueeze(0)\n",
    "\n",
    "        x,x_min,x_max,x_true = AL.abstract_conv2D(self.conv1,x,x_true,device=self.device)\n",
    "        x,x_min,x_max,x_true = AR.abstract_relu_conv2D(x,x_min,x_max,x_true,add_symbol=add_symbol,device =self.device)\n",
    "     \n",
    "       \n",
    "        x,x_min,x_max,x_true = AL.abstract_conv2D(self.conv2,x,x_true,device=self.device)\n",
    "        x,x_min,x_max,x_true = AR.abstract_relu_conv2D(x,x_min,x_max,x_true,add_symbol=add_symbol,device =self.device)\n",
    "        x,x_min,x_max ,x_true = AM.abstract_maxpool2D(self.maxpool,x,x_true,add_symbol=add_symbol,device=self.device)\n",
    "        x,x_min,x_max,x_true = AL.abstract_linear(self.fc1,x,x_true,device=self.device)\n",
    "        x,x_min,x_max,x_true = AR.abstract_relu(x,x_min,x_max,x_true,add_symbol=add_symbol,device =self.device)\n",
    "      \n",
    "        x,x_min,x_max,x_true = AL.abstract_linear(self.fc2,x,x_true,device=self.device)\n",
    "        x,x_min,x_max,x_true = AR.abstract_relu(x,x_min,x_max,x_true,add_symbol=add_symbol,device =self.device)\n",
    "       \n",
    "        \n",
    "        return x,x_min,x_max,x_true\n",
    "        "
   ]
  },
  {
   "cell_type": "markdown",
   "metadata": {},
   "source": [
    "Un petit script pour l'entrainement, disons 10 EPOCH"
   ]
  },
  {
   "cell_type": "code",
   "execution_count": null,
   "metadata": {},
   "outputs": [],
   "source": [
    "model =AbstractNN(num_depth=1,device=torch.device('cpu'))\n",
    "\n",
    "num_epochs =10\n",
    "learning_rate=0.01\n",
    "batch_size = 128\n",
    "\n",
    "optimizer = optim.Adam(model.parameters(), betas=(0.9, 0.99))\n",
    "scheduler =  optim.lr_scheduler.StepLR(optimizer, step_size=40, gamma=0.98)\n",
    "criterion = nn.CrossEntropyLoss()\n",
    "TD= T(model=model,\n",
    "            device=device\n",
    "                            )\n",
    "model = TD.train_model(train_dataset,val_dataset,\n",
    "                        criterion=criterion,  \n",
    "                        batch_size= batch_size,\n",
    "                        optimizer=optimizer,\n",
    "                        scheduler=scheduler,\n",
    "                        num_epochs=num_epochs,\n",
    "                        learning_rate=learning_rate,\n",
    "                        resname='SimpleCNN',verbose=False)"
   ]
  },
  {
   "cell_type": "code",
   "execution_count": null,
   "metadata": {},
   "outputs": [],
   "source": [
    "model=AbstractNN(num_depth=1,device=torch.device('cpu')    )\n",
    "model.load_state_dict(torch.load('dataset/FMNISTMAXPOOL.pth'))\n",
    "device = torch.device('cpu')\n",
    "model.to(device)"
   ]
  },
  {
   "cell_type": "code",
   "execution_count": null,
   "metadata": {},
   "outputs": [],
   "source": [
    "import matplotlib.pyplot as plt\n",
    "import numpy as np\n",
    "\n",
    "img, label = dataset_train[0]\n",
    "plt.imshow(img[0])\n",
    "print(f\"Label:{label}\")\n",
    "img.shape"
   ]
  },
  {
   "cell_type": "code",
   "execution_count": null,
   "metadata": {},
   "outputs": [],
   "source": [
    "max= torch.max(img)\n",
    "min = torch.min(img)\n",
    "scale = max-min\n",
    "print(scale)\n",
    "\n",
    "from abstract import abstractTensor as AT\n",
    "\n",
    "x=AT(img,alpha =0.001*scale*torch.ones(28*28))\n",
    "x=x.abstract_tensor()\n",
    "x.shape\n",
    "x=x.to(device)\n",
    "print(x.shape)\n"
   ]
  },
  {
   "cell_type": "code",
   "execution_count": null,
   "metadata": {},
   "outputs": [],
   "source": [
    "with torch.no_grad():\n",
    "   result_1= model(x[0].unsqueeze(0))  \n",
    " \n",
    "   result,x_min,x_max,x_true=model.abstract_forward(x,add_symbol=True,device=torch.device('cpu'))\n",
    "\n",
    "print(f\"y_min       =  {x_min}\")\n",
    "print(f\"y_max       =  {x_max}\")\n",
    "print(f\"center Ztp  =  {result[0]}\")\n",
    "print(f\"y_true      =  {x_true[:]}\")\n",
    "print(f\"y_max-x_min =  {x_max-x_min}\")\n",
    "print(f\"Trash symbol=  {result[-1]}\")"
   ]
  },
  {
   "cell_type": "code",
   "execution_count": null,
   "metadata": {},
   "outputs": [],
   "source": [
    "with torch.no_grad():\n",
    "   result_1= model(x[0].unsqueeze(0))  \n",
    " \n",
    "   result,x_min,x_max,x_true=model.abstract_forward(x,add_symbol=True,device=torch.device('cpu'))\n",
    "\n",
    "print(f\"y_min       =  {x_min}\")\n",
    "print(f\"y_max       =  {x_max}\")\n",
    "print(f\"center Ztp  =  {result[0]}\")\n",
    "print(f\"y_true      =  {x_true[:]}\")\n",
    "print(f\"y_max-x_min =  {x_max-x_min}\")\n",
    "print(f\"Trash symbol=  {result[-1]}\")\n"
   ]
  },
  {
   "cell_type": "markdown",
   "metadata": {},
   "source": [
    "Voici le premier affichage de relevance calculé par AbstractTorch"
   ]
  },
  {
   "cell_type": "code",
   "execution_count": null,
   "metadata": {},
   "outputs": [],
   "source": [
    "value=torch.argmax(result[0])\n",
    "print(value)\n",
    "concat= torch.abs(result[1:785,value])\n",
    "print(concat.size())\n",
    "\n",
    "concat = concat.reshape(28,28)\n",
    "plt.imshow(torch.abs(concat.cpu()).numpy(), cmap='viridis')\n",
    "plt.colorbar()"
   ]
  },
  {
   "cell_type": "markdown",
   "metadata": {},
   "source": [
    "## Essai sur un réseau de grande dimension"
   ]
  },
  {
   "cell_type": "code",
   "execution_count": null,
   "metadata": {},
   "outputs": [],
   "source": [
    "from abstractModule import AbstractMaxpool2D as AM"
   ]
  },
  {
   "cell_type": "code",
   "execution_count": null,
   "metadata": {},
   "outputs": [],
   "source": [
    "class AbstractNN2(nn.Module):\n",
    "    \n",
    "    def __init__(self,num_depth=1,device=torch.device(\"cpu\")):\n",
    "\n",
    "        super(AbstractNN2,self).__init__()\n",
    "       \n",
    "      \n",
    "        self.num_depth = num_depth\n",
    "        self.device = device\n",
    "        self.conv1=nn.Conv2d(self.num_depth,16,3,device=self.device)\n",
    "        self.conv2=nn.Conv2d(16,16,3,device=self.device)\n",
    "        self.conv3=nn.Conv2d(16,32,3,device=self.device) \n",
    "        self.conv4=nn.Conv2d(32,32,3,device=self.device)\n",
    "        self.maxpool=nn.MaxPool2d(2,2)\n",
    "        self.fc1=nn.Sequential(nn.Flatten(),nn.Linear(3200,6272,device=self.device))\n",
    "        self.fc2=nn.Sequential(nn.Flatten(),nn.Linear(6272,6272,device=self.device))\n",
    "        self.fc3=nn.Sequential(nn.Flatten(),nn.Linear(6272,6272,device=self.device))\n",
    "        self.fc4=nn.Sequential(nn.Flatten(),nn.Linear(6272,6272,device=self.device))\n",
    "        self.fc5=nn.Sequential(nn.Flatten(),nn.Linear(6272,512,device=self.device))\n",
    "        self.fc6=nn.Sequential(nn.Flatten(),nn.Linear(512,256,device=self.device))\n",
    "        self.fc7=nn.Sequential(nn.Flatten(),nn.Linear(256,8,device=self.device))\n",
    "\n",
    "    \n",
    "    def forward(self,x,add_symbol=False,device = torch.device(\"cpu\")):\n",
    "\n",
    "        self.device = device\n",
    "        x_true = x\n",
    "        x_true = x_true[0].unsqueeze(0)\n",
    "        print(f\"lenx:{len(x)}\")\n",
    "        x,x_min,x_max,x_true = AL.abstract_conv2D(self.conv1,x,x_true,device=self.device)\n",
    "        x,x_min,x_max,x_true = AR.abstract_relu_conv2D(x,x_min,x_max,x_true,add_symbol=add_symbol,device =self.device)\n",
    "        print(f\"lenx:{len(x)}\")\n",
    "       \n",
    "        x,x_min,x_max,x_true = AL.abstract_conv2D(self.conv2,x,x_true,device=self.device)\n",
    "        x,x_min,x_max,x_true = AR.abstract_relu_conv2D(x,x_min,x_max,x_true,add_symbol=add_symbol,device =self.device)\n",
    "        print(f\"lenx:{len(x)}\")\n",
    "        x,x_min,x_max,x_true = AL.abstract_conv2D(self.conv3,x,x_true,device=self.device)\n",
    "        x,x_min,x_max,x_true = AR.abstract_relu_conv2D(x,x_min,x_max,x_true,add_symbol=add_symbol,device =self.device)\n",
    "        print(f\"lenx:{len(x)}\")\n",
    "        x,x_min,x_max,x_true = AL.abstract_conv2D(self.conv4,x,x_true,device=self.device)\n",
    "        x,x_min,x_max,x_true = AR.abstract_relu_conv2D(x,x_min,x_max,x_true,add_symbol=add_symbol,device =self.device)\n",
    "        print(f\"lenx:{len(x)}\")\n",
    "\n",
    "        x,x_min,x_max,x_true = AM.abstract_maxpool2D(self.maxpool,x,x_true,device=self.device)\n",
    "        print(f\"x.shape:{x.shape}\")\n",
    "        x,x_min,x_max,x_true = AL.abstract_linear(self.fc1,x,x_true,device=self.device)\n",
    "        x,x_min,x_max,x_true = AR.abstract_relu(x,x_min,x_max,x_true,add_symbol=add_symbol,device =self.device)\n",
    "        print(f\"lenx:{len(x)}\")\n",
    "        x,x_min,x_max,x_true = AL.abstract_linear(self.fc2,x,x_true,device=self.device)\n",
    "        x,x_min,x_max,x_true = AR.abstract_relu(x,x_min,x_max,x_true,add_symbol=add_symbol,device =self.device)\n",
    "        print(f\"lenx:{len(x)}\")\n",
    "        x,x_min,x_max,x_true = AL.abstract_linear(self.fc3,x,x_true,device=self.device)\n",
    "        x,x_min,x_max,x_true = AR.abstract_relu(x,x_min,x_max,x_true,add_symbol=add_symbol,device =self.device)\n",
    "        print(f\"lenx:{len(x)}\")\n",
    "        x,x_min,x_max,x_true = AL.abstract_linear(self.fc4,x,x_true,device=self.device)\n",
    "        x,x_min,x_max,x_true = AR.abstract_relu(x,x_min,x_max,x_true,add_symbol=add_symbol,device =self.device)\n",
    "        print(f\"lenx:{len(x)}\")\n",
    "        x,x_min,x_max,x_true = AL.abstract_linear(self.fc5,x,x_true,device=self.device)\n",
    "        x,x_min,x_max,x_true = AR.abstract_relu(x,x_min,x_max,x_true,add_symbol=add_symbol,device =self.device)\n",
    "        print(f\"lenx:{len(x)}\")\n",
    "        x,x_min,x_max,x_true = AL.abstract_linear(self.fc6,x,x_true,device=self.device)\n",
    "        x,x_min,x_max,x_true = AR.abstract_relu(x,x_min,x_max,x_true,add_symbol=add_symbol,device =self.device)\n",
    "        print(f\"lenx:{len(x)}\")\n",
    "\n",
    "        x,x_min,x_max,x_true = AL.abstract_linear(self.fc7,x,x_true,device=self.device)\n",
    "        x,x_min,x_max,x_true = AR.abstract_relu(x,x_min,x_max,x_true,add_symbol=add_symbol,device =self.device)\n",
    "        print(f\"lenx:{len(x)}\")\n",
    "        return x,x_min,x_max,x_true"
   ]
  },
  {
   "cell_type": "code",
   "execution_count": null,
   "metadata": {},
   "outputs": [],
   "source": [
    "img = torch.randn(1,28,28)\n",
    "from abstract import abstractTensor as AT\n",
    "\n",
    "x=AT(img,alpha =0.001*torch.ones(28*28))\n",
    "x=x.abstract_tensor()\n",
    "x.shape\n",
    "x=x.to(device)\n",
    "print(x.shape)\n",
    "model =AbstractNN2(num_depth=1,device=torch.device('cpu'))\n",
    "\n",
    "\n",
    "model(x)"
   ]
  }
 ],
 "metadata": {
  "kernelspec": {
   "display_name": "Python 3",
   "language": "python",
   "name": "python3"
  },
  "language_info": {
   "codemirror_mode": {
    "name": "ipython",
    "version": 3
   },
   "file_extension": ".py",
   "mimetype": "text/x-python",
   "name": "python",
   "nbconvert_exporter": "python",
   "pygments_lexer": "ipython3",
   "version": "3.10.12"
  }
 },
 "nbformat": 4,
 "nbformat_minor": 2
}
