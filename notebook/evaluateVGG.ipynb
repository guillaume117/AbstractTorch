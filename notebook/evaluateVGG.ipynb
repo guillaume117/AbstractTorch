{
 "cells": [
  {
   "cell_type": "markdown",
   "metadata": {},
   "source": [
    "### In this notebook we'll try to evaluate VGG thanks to our abstract engine"
   ]
  },
  {
   "cell_type": "code",
   "execution_count": 1,
   "metadata": {},
   "outputs": [],
   "source": [
    "import sys\n",
    "sys.path.append('../src')\n",
    "sys.path.append('../src')\n",
    "import torch\n",
    "from torch import sparse\n",
    "import torch.nn as nn\n",
    "import torch.nn.functional as F\n",
    "from torchvision.models import vgg19\n",
    "from abstractModule import AbstractLinear as AL\n",
    "from abstractModule import AbstractReLU as AR\n",
    "from abstractModule import AbstractMaxpool2D as AM\n",
    "from abstractModule import abstractAvgPool2D as AMP\n",
    "device=torch.device(\"cpu\")\n",
    "%load_ext autoreload\n",
    "%autoreload 2"
   ]
  },
  {
   "cell_type": "code",
   "execution_count": 2,
   "metadata": {},
   "outputs": [
    {
     "name": "stderr",
     "output_type": "stream",
     "text": [
      "/home/guillaume/.local/lib/python3.10/site-packages/torchvision/models/_utils.py:208: UserWarning: The parameter 'pretrained' is deprecated since 0.13 and may be removed in the future, please use 'weights' instead.\n",
      "  warnings.warn(\n",
      "/home/guillaume/.local/lib/python3.10/site-packages/torchvision/models/_utils.py:223: UserWarning: Arguments other than a weight enum or `None` for 'weights' are deprecated since 0.13 and may be removed in the future. The current behavior is equivalent to passing `weights=VGG19_Weights.IMAGENET1K_V1`. You can also use `weights=VGG19_Weights.DEFAULT` to get the most up-to-date weights.\n",
      "  warnings.warn(msg)\n"
     ]
    },
    {
     "data": {
      "text/plain": [
       "VGG(\n",
       "  (features): Sequential(\n",
       "    (0): Conv2d(3, 64, kernel_size=(3, 3), stride=(1, 1), padding=(1, 1))\n",
       "    (1): ReLU(inplace=True)\n",
       "    (2): Conv2d(64, 64, kernel_size=(3, 3), stride=(1, 1), padding=(1, 1))\n",
       "    (3): ReLU(inplace=True)\n",
       "    (4): MaxPool2d(kernel_size=2, stride=2, padding=0, dilation=1, ceil_mode=False)\n",
       "    (5): Conv2d(64, 128, kernel_size=(3, 3), stride=(1, 1), padding=(1, 1))\n",
       "    (6): ReLU(inplace=True)\n",
       "    (7): Conv2d(128, 128, kernel_size=(3, 3), stride=(1, 1), padding=(1, 1))\n",
       "    (8): ReLU(inplace=True)\n",
       "    (9): MaxPool2d(kernel_size=2, stride=2, padding=0, dilation=1, ceil_mode=False)\n",
       "    (10): Conv2d(128, 256, kernel_size=(3, 3), stride=(1, 1), padding=(1, 1))\n",
       "    (11): ReLU(inplace=True)\n",
       "    (12): Conv2d(256, 256, kernel_size=(3, 3), stride=(1, 1), padding=(1, 1))\n",
       "    (13): ReLU(inplace=True)\n",
       "    (14): Conv2d(256, 256, kernel_size=(3, 3), stride=(1, 1), padding=(1, 1))\n",
       "    (15): ReLU(inplace=True)\n",
       "    (16): Conv2d(256, 256, kernel_size=(3, 3), stride=(1, 1), padding=(1, 1))\n",
       "    (17): ReLU(inplace=True)\n",
       "    (18): MaxPool2d(kernel_size=2, stride=2, padding=0, dilation=1, ceil_mode=False)\n",
       "    (19): Conv2d(256, 512, kernel_size=(3, 3), stride=(1, 1), padding=(1, 1))\n",
       "    (20): ReLU(inplace=True)\n",
       "    (21): Conv2d(512, 512, kernel_size=(3, 3), stride=(1, 1), padding=(1, 1))\n",
       "    (22): ReLU(inplace=True)\n",
       "    (23): Conv2d(512, 512, kernel_size=(3, 3), stride=(1, 1), padding=(1, 1))\n",
       "    (24): ReLU(inplace=True)\n",
       "    (25): Conv2d(512, 512, kernel_size=(3, 3), stride=(1, 1), padding=(1, 1))\n",
       "    (26): ReLU(inplace=True)\n",
       "    (27): MaxPool2d(kernel_size=2, stride=2, padding=0, dilation=1, ceil_mode=False)\n",
       "    (28): Conv2d(512, 512, kernel_size=(3, 3), stride=(1, 1), padding=(1, 1))\n",
       "    (29): ReLU(inplace=True)\n",
       "    (30): Conv2d(512, 512, kernel_size=(3, 3), stride=(1, 1), padding=(1, 1))\n",
       "    (31): ReLU(inplace=True)\n",
       "    (32): Conv2d(512, 512, kernel_size=(3, 3), stride=(1, 1), padding=(1, 1))\n",
       "    (33): ReLU(inplace=True)\n",
       "    (34): Conv2d(512, 512, kernel_size=(3, 3), stride=(1, 1), padding=(1, 1))\n",
       "    (35): ReLU(inplace=True)\n",
       "    (36): MaxPool2d(kernel_size=2, stride=2, padding=0, dilation=1, ceil_mode=False)\n",
       "  )\n",
       "  (avgpool): AdaptiveAvgPool2d(output_size=(7, 7))\n",
       "  (classifier): Sequential(\n",
       "    (0): Linear(in_features=25088, out_features=4096, bias=True)\n",
       "    (1): ReLU(inplace=True)\n",
       "    (2): Dropout(p=0.5, inplace=False)\n",
       "    (3): Linear(in_features=4096, out_features=4096, bias=True)\n",
       "    (4): ReLU(inplace=True)\n",
       "    (5): Dropout(p=0.5, inplace=False)\n",
       "    (6): Linear(in_features=4096, out_features=1000, bias=True)\n",
       "  )\n",
       ")"
      ]
     },
     "execution_count": 2,
     "metadata": {},
     "output_type": "execute_result"
    }
   ],
   "source": [
    "model = vgg19(pretrained=True)\n",
    "model"
   ]
  },
  {
   "cell_type": "code",
   "execution_count": 3,
   "metadata": {},
   "outputs": [],
   "source": [
    "def compute_memory(x:torch.tensor)->str:\n",
    "    memory = torch.prod(torch.tensor(x.size()))*4/10**9\n",
    "    return f\"Memory footprint of abstract domain {memory.numpy():.2f} GB\"\n"
   ]
  },
  {
   "cell_type": "code",
   "execution_count": 4,
   "metadata": {},
   "outputs": [],
   "source": [
    "import torch\n",
    "import torch.nn as nn\n",
    "\n",
    "class CustomCNN(nn.Module):\n",
    "    def __init__(self):\n",
    "        super(CustomCNN, self).__init__()\n",
    "        \n",
    "        # Couches de convolution\n",
    "        self.conv1 = nn.Conv2d(3, 64, kernel_size=3, stride=1, padding=1)\n",
    "        \n",
    "        self.conv2 = nn.Conv2d(64, 64, kernel_size=3, stride=1, padding=1)\n",
    "        self.conv3 = nn.Conv2d(64, 128, kernel_size=3, stride=1, padding=1)\n",
    "        self.conv4 = nn.Conv2d(128, 128, kernel_size=3, stride=1, padding=1)\n",
    "        self.conv5 = nn.Conv2d(128, 256, kernel_size=3, stride=1, padding=1)\n",
    "        self.conv6 = nn.Conv2d(256, 256, kernel_size=3, stride=1, padding=1)\n",
    "        self.conv7 = nn.Conv2d(256, 256, kernel_size=3, stride=1, padding=1)\n",
    "        self.conv8 = nn.Conv2d(256, 256, kernel_size=3, stride=1, padding=1)\n",
    "        self.conv9 = nn.Conv2d(256, 512, kernel_size=3, stride=1, padding=1)\n",
    "        self.conv10 = nn.Conv2d(512, 512, kernel_size=3, stride=1, padding=1)\n",
    "        self.conv11 = nn.Conv2d(512, 512, kernel_size=3, stride=1, padding=1)\n",
    "        self.conv12 = nn.Conv2d(512, 512, kernel_size=3, stride=1, padding=1)\n",
    "        self.conv13 = nn.Conv2d(512, 512, kernel_size=3, stride=1, padding=1)\n",
    "        self.conv14 = nn.Conv2d(512, 512, kernel_size=3, stride=1, padding=1)\n",
    "        self.conv15 = nn.Conv2d(512, 512, kernel_size=3, stride=1, padding=1)\n",
    "        self.conv16 = nn.Conv2d(512, 512, kernel_size=3, stride=1, padding=1)\n",
    "        \n",
    "        # Couches de ReLU\n",
    "        self.relu = nn.ReLU(inplace=True)\n",
    "        \n",
    "        # Couches de pooling\n",
    "        self.pool = nn.MaxPool2d(kernel_size=2, stride=2)\n",
    "        \n",
    "        # Couches Fully Connected (FC)\n",
    "        self.fc1 = nn.Sequential(\n",
    "            nn.Flatten(),\n",
    "            nn.Linear(25088, 4096),\n",
    "        \n",
    "        )\n",
    "        \n",
    "        self.fc2 = nn.Sequential(nn.Flatten(),\n",
    "            nn.Linear(4096, 4096),\n",
    "        )\n",
    "        \n",
    "        self.fc3 = nn.Sequential(nn.Flatten(),nn.Linear(4096, 1000))\n",
    "        self.avgpool = nn.AdaptiveAvgPool2d((7, 7))\n",
    "        \n",
    "    def forward(self, x):\n",
    "        x = self.conv1(x)\n",
    "        x = self.relu(x)\n",
    "        \n",
    "        x = self.conv2(x)\n",
    "        x = self.relu(x)\n",
    "\n",
    "        x = self.pool(x)\n",
    "        \n",
    "        x = self.conv3(x)\n",
    "        x = self.relu(x) \n",
    "        x = self.conv4(x)\n",
    "        x = self.relu(x)\n",
    "\n",
    "        x = self.pool(x)\n",
    "\n",
    "        x = self.conv5(x)\n",
    "        x = self.relu(x)\n",
    "        x = self.conv6(x)\n",
    "        x = self.relu(x)\n",
    "        x = self.conv7(x)\n",
    "        x = self.relu(x)\n",
    "        x = self.conv8(x)\n",
    "        x = self.relu(x)\n",
    "\n",
    "        x = self.pool(x)\n",
    "\n",
    "        x = self.conv9(x)\n",
    "        x = self.relu(x)\n",
    "        x = self.conv10(x)\n",
    "        x = self.relu(x)\n",
    "        x = self.conv11(x)\n",
    "        x = self.relu(x)\n",
    "        x = self.conv12(x)\n",
    "        x = self.relu(x)\n",
    "\n",
    "        x = self.pool(x)\n",
    "\n",
    "        x = self.conv13(x)\n",
    "        x = self.relu(x)\n",
    "        x = self.conv14(x)\n",
    "        x = self.relu(x)\n",
    "        x = self.conv15(x)\n",
    "        x = self.relu(x)\n",
    "        x = self.conv16(x)\n",
    "        x = self.relu(x)\n",
    "\n",
    "        x = self.pool(x)\n",
    "        print(x.shape)\n",
    "        x = self.avgpool(x)\n",
    " \n",
    "        \n",
    "        \n",
    "        # Fully Connected Layers\n",
    "        x = self.fc1(x)\n",
    "        x= self.relu(x)\n",
    "        x = self.fc2(x)\n",
    "        x= self.relu(x)\n",
    "        x = self.fc3(x)\n",
    "        x= self.relu(x)\n",
    "     \n",
    "        \n",
    "        return x\n",
    "    \n",
    "    def abstract_forward(self,x,add_symbol=False,device=torch.device(\"cpu\")):\n",
    "        self.device=device\n",
    "        \n",
    "        x_true = x\n",
    "        x_true = x_true[0].unsqueeze(0)\n",
    "        print(compute_memory(x))\n",
    "        #AR.max_symbol = 8000\n",
    "        #AM.max_symbol = 8000\n",
    "        #AR.recycling = 1\n",
    "        #AM.recycling = 1\n",
    "        print(compute_memory(x))\n",
    "        x,x_min,x_max,x_true = AL.abstract_conv2D(self.conv1,x,x_true,device=self.device)\n",
    "        print(x.shape)\n",
    "        print(f\"layer CONV1 passed, {len(x)-2} symbols\")\n",
    "      \n",
    "        print(compute_memory(x))\n",
    "            \n",
    "        x,x_min,x_max,x_true = AR.abstract_relu_conv2D(x,x_min,x_max,x_true,add_symbol=add_symbol, device =self.device)\n",
    "        print(x.shape)\n",
    "        print(f\"layer relu 1 passed, {len(x)-2} symbols\")\n",
    "        print(compute_memory(x))\n",
    "\n",
    "        print(f\"nombre de zeros {torch.sum(x==0)/torch.prod(torch.tensor(x.size()))*100:.2f}%\")\n",
    "        \n",
    "        x,x_min,x_max,x_true = AL.abstract_conv2D(self.conv2,x,x_true,device=self.device)\n",
    "        print(x.shape)\n",
    "        print(f\"layer conv2 1 passed, {len(x[0])-2} symbols\")\n",
    "        print(f\"nombre de zeros {torch.sum(x==0)/torch.prod(torch.tensor(x.size()))*100:.2f}%\")\n",
    "        x,x_min,x_max,x_true = AR.abstract_relu_conv2D(x,x_min,x_max,x_true,add_symbol=add_symbol,device =self.device)\n",
    "        print(\"abstract relu conv2 passed\")\n",
    "        print(x.shape)\n",
    "        print(compute_memory(x))\n",
    "        print(f\"nombre de zeros {torch.sum(x==0)/torch.prod(torch.tensor(x.size()))*100:.2f}%\")\n",
    "        #AR.max_symbol = 12000\n",
    "        #AM.max_symbol = 12000\n",
    "        x,x_min,x_max ,x_true = AM.abstract_maxpool2D(self.pool,x,x_true,add_symbol=add_symbol,device=self.device)\n",
    "        print(x.shape)\n",
    "        print(compute_memory(x))\n",
    "        print(f\"layer pool 1 passed, {len(x[0])-2} symbols\")\n",
    "        print(f\"nombre de zeros {torch.sum(x==0)/torch.prod(torch.tensor(x.size()))*100:.2f}%\")\n",
    "      \n",
    "        x,x_min,x_max,x_true = AL.abstract_conv2D(self.conv3,x,x_true,device=self.device)\n",
    "        print(x.shape)\n",
    "        print(compute_memory(x))\n",
    "        print(f\"layer conv3 1 passed, {len(x[0])-2} symbols\")\n",
    "        x,x_min,x_max,x_true = AR.abstract_relu_conv2D(x,x_min,x_max,x_true,add_symbol=add_symbol,device =self.device)\n",
    "        print(x.shape)\n",
    "        print(compute_memory(x))\n",
    "        print(f\"layer relu 3 passed, {len(x[0])-2} symbols\")\n",
    "\n",
    "        x,x_min,x_max,x_true = AL.abstract_conv2D(self.conv4,x,x_true,device=self.device)\n",
    "        print(x.shape)\n",
    "       \n",
    "        print(compute_memory(x))\n",
    "        print(f\"layer conv4 1 passed, {len(x)-2} symbols\")\n",
    "\n",
    "        x,x_min,x_max,x_true = AR.abstract_relu_conv2D(x,x_min,x_max,x_true,add_symbol=add_symbol,device =self.device)\n",
    "        print(x.shape)\n",
    "        print(compute_memory(x))\n",
    "        print(f\"layer relu 4 passed, {len(x)-2} symbols\")\n",
    "\n",
    "        #AR.max_symbol = 24000\n",
    "        #AM.max_symbol = 24000\n",
    "        x,x_min,x_max ,x_true = AM.abstract_maxpool2D(self.pool,x,x_true,add_symbol=add_symbol,device=self.device)\n",
    "        print(x.shape)\n",
    "        print(compute_memory(x))\n",
    "        print(f\"layer pool 2 passed, {len(x)-2} symbols\")\n",
    "      \n",
    "        x,x_min,x_max,x_true = AL.abstract_conv2D(self.conv5,x,x_true,device=self.device)\n",
    "        print(x.shape)\n",
    "        print(compute_memory(x))\n",
    "        print(f\"layer conv5 1 passed, {len(x)-2} symbols\")\n",
    "\n",
    "        x,x_min,x_max,x_true = AR.abstract_relu_conv2D(x,x_min,x_max,x_true,add_symbol=add_symbol,device =self.device)\n",
    "        print(x.shape)\n",
    "        print(compute_memory(x))\n",
    "        print(f\"layer relu 5 passed, {len(x)-2} symbols\")\n",
    "\n",
    "        x,x_min,x_max,x_true = AL.abstract_conv2D(self.conv6,x,x_true,device=self.device)\n",
    "        print(x.shape)\n",
    "        print(compute_memory(x))\n",
    "        print(f\"layer conv6 1 passed, {len(x)-2} symbols\")\n",
    "\n",
    "        x,x_min,x_max,x_true = AR.abstract_relu_conv2D(x,x_min,x_max,x_true,add_symbol=add_symbol,device =self.device)\n",
    "        print(x.shape)\n",
    "        print(compute_memory(x))\n",
    "        print(f\"layer relu 6 passed, {len(x)-2} symbols\")\n",
    "\n",
    "\n",
    "        \n",
    "        x,x_min,x_max,x_true = AL.abstract_conv2D(self.conv7,x,x_true,device=self.device)\n",
    "        print(x.shape)\n",
    "        print(compute_memory(x))\n",
    "        print(f\"layer conv7  passed, {len(x)-2} symbols\")\n",
    "\n",
    "        x,x_min,x_max,x_true = AR.abstract_relu_conv2D(x,x_min,x_max,x_true,add_symbol=add_symbol,device =self.device)\n",
    "        print(x.shape)\n",
    "        print(compute_memory(x))\n",
    "        print(f\"layer relu 7 passed, {len(x)-2} symbols\")\n",
    "\n",
    "        x,x_min,x_max,x_true = AL.abstract_conv2D(self.conv8,x,x_true,device=self.device)\n",
    "        print(x.shape)\n",
    "        print(compute_memory(x))\n",
    "        print(f\"layer conv8 passed, {len(x)-2} symbols\")\n",
    "        \n",
    "        x,x_min,x_max,x_true = AR.abstract_relu_conv2D(x,x_min,x_max,x_true,add_symbol=add_symbol,device =self.device)\n",
    "        #AR.max_symbol = 48000\n",
    "        #AM.max_symbol = 48000\n",
    "\n",
    "        x,x_min,x_max ,x_true = AM.abstract_maxpool2D(self.pool,x,x_true,add_symbol=add_symbol,device=self.device)\n",
    "        \n",
    "        x,x_min,x_max,x_true = AL.abstract_conv2D(self.conv9,x,x_true,device=self.device)\n",
    "        x,x_min,x_max,x_true = AR.abstract_relu_conv2D(x,x_min,x_max,x_true,add_symbol=add_symbol,device =self.device)\n",
    "        print(x.shape)\n",
    "        print(compute_memory(x))\n",
    "        print(f\"layer conv9 passed, {len(x)-2} symbols\")\n",
    "\n",
    "        x,x_min,x_max,x_true = AL.abstract_conv2D(self.conv10,x,x_true,device=self.device)\n",
    "        print(x.shape)\n",
    "        print(compute_memory(x))\n",
    "        print(f\"layer conv10 passed, {len(x)-2} symbols\")\n",
    "        x,x_min,x_max,x_true = AR.abstract_relu_conv2D(x,x_min,x_max,x_true,add_symbol=add_symbol,device =self.device)\n",
    "      \n",
    "\n",
    "        x,x_min,x_max,x_true = AL.abstract_conv2D(self.conv11,x,x_true,device=self.device)\n",
    "        print(x.shape)\n",
    "        print(compute_memory(x))\n",
    "        print(f\"layer conv11 passed, {len(x)-2} symbols\")\n",
    "        x,x_min,x_max,x_true = AR.abstract_relu_conv2D(x,x_min,x_max,x_true,add_symbol=add_symbol,device =self.device)\n",
    "      \n",
    "\n",
    "        x,x_min,x_max,x_true = AL.abstract_conv2D(self.conv12,x,x_true,device=self.device)\n",
    "        print(x.shape)\n",
    "        print(compute_memory(x))\n",
    "        print(f\"layer conv12 1 passed, {len(x)-2} symbols\")\n",
    "        x,x_min,x_max,x_true = AR.abstract_relu_conv2D(x,x_min,x_max,x_true,add_symbol=add_symbol,device =self.device)\n",
    "        #AR.max_symbol = 2*96000\n",
    "        #AM.max_symbol = 2*96000\n",
    "\n",
    "\n",
    "        x,x_min,x_max ,x_true = AM.abstract_maxpool2D(self.pool,x,x_true,add_symbol=add_symbol,device=self.device)\n",
    "        \n",
    "        x,x_min,x_max,x_true = AL.abstract_conv2D(self.conv13,x,x_true,device=self.device)\n",
    "        print(x.shape)\n",
    "        print(compute_memory(x))\n",
    "        print(f\"layer conv13 passed, {len(x)-2} symbols\")\n",
    "        x,x_min,x_max,x_true = AR.abstract_relu_conv2D(x,x_min,x_max,x_true,add_symbol=add_symbol,device =self.device)\n",
    "      \n",
    "\n",
    "        x,x_min,x_max,x_true = AL.abstract_conv2D(self.conv14,x,x_true,device=self.device)\n",
    "        print(x.shape)\n",
    "        print(compute_memory(x))\n",
    "        print(f\"layer conv14 1 passed, {len(x)-2} symbols\")\n",
    "        x,x_min,x_max,x_true = AR.abstract_relu_conv2D(x,x_min,x_max,x_true,add_symbol=add_symbol,device =self.device)\n",
    "      \n",
    "\n",
    "        x,x_min,x_max,x_true = AL.abstract_conv2D(self.conv15,x,x_true,device=self.device)\n",
    "        print(x.shape)\n",
    "        print(compute_memory(x))\n",
    "        print(f\"layer conv15 1 passed, {len(x)-2} symbols\")\n",
    "        x,x_min,x_max,x_true = AR.abstract_relu_conv2D(x,x_min,x_max,x_true,add_symbol=add_symbol,device =self.device)\n",
    "      \n",
    "\n",
    "        x,x_min,x_max,x_true = AL.abstract_conv2D(self.conv16,x,x_true,device=self.device)\n",
    "        print(x.shape)\n",
    "        print(compute_memory(x))\n",
    "        print(f\"layer conv16 1 passed, {len(x)-2} symbols\")\n",
    "        x,x_min,x_max,x_true = AR.abstract_relu_conv2D(x,x_min,x_max,x_true,add_symbol=add_symbol,device =self.device)\n",
    "      \n",
    "        #AR.max_symbol = 1_000_000\n",
    "        #AM.max_symbol = 1_000_000\n",
    "\n",
    "        x,x_min,x_max ,x_true = AM.abstract_maxpool2D(self.pool,x,x_true,add_symbol=add_symbol,device=self.device)\n",
    "        \n",
    "        \n",
    "\n",
    "        x,x_min,x_max,x_true = AMP.abstract_AvgPool2D(self.avgpool,x,x_true,device=self.device)\n",
    " \n",
    "        \n",
    "        \n",
    "        # Fully Connected Layers\n",
    "        x,x_min,x_max,x_true = AL.abstract_linear(self.fc1,x,x_true,device=self.device)\n",
    "        print(x.shape)\n",
    "        print(compute_memory(x))\n",
    "        print(f\"layer lin 1 passed, {len(x)-2} symbols\")\n",
    "        x,x_min,x_max,x_true = AR.abstract_relu(x,x_min,x_max,x_true,add_symbol=add_symbol,device =self.device)\n",
    "        \n",
    "        x,x_min,x_max,x_true = AL.abstract_linear(self.fc2,x,x_true,device=self.device)\n",
    "        print(x.shape)\n",
    "        print(compute_memory(x))\n",
    "        print(f\"layer lin2 passed, {len(x)-2} symbols\")\n",
    "        x,x_min,x_max,x_true = AR.abstract_relu(x,x_min,x_max,x_true,add_symbol=add_symbol,device =self.device)\n",
    "        \n",
    "        \n",
    "        x,x_min,x_max,x_true = AL.abstract_linear(self.fc3,x,x_true,device=self.device)\n",
    "        print(x.shape)\n",
    "        print(compute_memory(x))\n",
    "        print(f\"layer lin3 passed, {len(x)-2} symbols\")\n",
    "        x,x_min,x_max,x_true = AR.abstract_relu(x,x_min,x_max,x_true,add_symbol=add_symbol,device =self.device)\n",
    "        return x,x_min,x_max,x_true\n"
   ]
  },
  {
   "cell_type": "code",
   "execution_count": 5,
   "metadata": {},
   "outputs": [],
   "source": [
    "C=CustomCNN()\n"
   ]
  },
  {
   "cell_type": "code",
   "execution_count": 6,
   "metadata": {},
   "outputs": [],
   "source": [
    "#AR.max_symbol = 8000"
   ]
  },
  {
   "cell_type": "code",
   "execution_count": 7,
   "metadata": {},
   "outputs": [
    {
     "data": {
      "text/plain": [
       "inf"
      ]
     },
     "execution_count": 7,
     "metadata": {},
     "output_type": "execute_result"
    }
   ],
   "source": [
    "AR.max_symbol"
   ]
  },
  {
   "cell_type": "code",
   "execution_count": 8,
   "metadata": {},
   "outputs": [
    {
     "name": "stdout",
     "output_type": "stream",
     "text": [
      "38 38\n",
      "torch.Size([64, 3, 3, 3]) torch.Size([64, 3, 3, 3])\n",
      "torch.Size([64]) torch.Size([64])\n",
      "torch.Size([64, 64, 3, 3]) torch.Size([64, 64, 3, 3])\n",
      "torch.Size([64]) torch.Size([64])\n",
      "torch.Size([128, 64, 3, 3]) torch.Size([128, 64, 3, 3])\n",
      "torch.Size([128]) torch.Size([128])\n",
      "torch.Size([128, 128, 3, 3]) torch.Size([128, 128, 3, 3])\n",
      "torch.Size([128]) torch.Size([128])\n",
      "torch.Size([256, 128, 3, 3]) torch.Size([256, 128, 3, 3])\n",
      "torch.Size([256]) torch.Size([256])\n",
      "torch.Size([256, 256, 3, 3]) torch.Size([256, 256, 3, 3])\n",
      "torch.Size([256]) torch.Size([256])\n",
      "torch.Size([256, 256, 3, 3]) torch.Size([256, 256, 3, 3])\n",
      "torch.Size([256]) torch.Size([256])\n",
      "torch.Size([256, 256, 3, 3]) torch.Size([256, 256, 3, 3])\n",
      "torch.Size([256]) torch.Size([256])\n",
      "torch.Size([512, 256, 3, 3]) torch.Size([512, 256, 3, 3])\n",
      "torch.Size([512]) torch.Size([512])\n",
      "torch.Size([512, 512, 3, 3]) torch.Size([512, 512, 3, 3])\n",
      "torch.Size([512]) torch.Size([512])\n",
      "torch.Size([512, 512, 3, 3]) torch.Size([512, 512, 3, 3])\n",
      "torch.Size([512]) torch.Size([512])\n",
      "torch.Size([512, 512, 3, 3]) torch.Size([512, 512, 3, 3])\n",
      "torch.Size([512]) torch.Size([512])\n",
      "torch.Size([512, 512, 3, 3]) torch.Size([512, 512, 3, 3])\n",
      "torch.Size([512]) torch.Size([512])\n",
      "torch.Size([512, 512, 3, 3]) torch.Size([512, 512, 3, 3])\n",
      "torch.Size([512]) torch.Size([512])\n",
      "torch.Size([512, 512, 3, 3]) torch.Size([512, 512, 3, 3])\n",
      "torch.Size([512]) torch.Size([512])\n",
      "torch.Size([512, 512, 3, 3]) torch.Size([512, 512, 3, 3])\n",
      "torch.Size([512]) torch.Size([512])\n",
      "torch.Size([4096, 25088]) torch.Size([4096, 25088])\n",
      "torch.Size([4096]) torch.Size([4096])\n",
      "torch.Size([4096, 4096]) torch.Size([4096, 4096])\n",
      "torch.Size([4096]) torch.Size([4096])\n",
      "torch.Size([1000, 4096]) torch.Size([1000, 4096])\n",
      "torch.Size([1000]) torch.Size([1000])\n",
      "tensor(0.)\n",
      "tensor(0.)\n",
      "tensor(0.)\n",
      "tensor(0.)\n",
      "tensor(0.)\n",
      "tensor(0.)\n",
      "tensor(0.)\n",
      "tensor(0.)\n",
      "tensor(0.)\n",
      "tensor(0.)\n",
      "tensor(0.)\n",
      "tensor(0.)\n",
      "tensor(0.)\n",
      "tensor(0.)\n",
      "tensor(0.)\n",
      "tensor(0.)\n",
      "tensor(0.)\n",
      "tensor(0.)\n",
      "tensor(0.)\n",
      "tensor(0.)\n",
      "tensor(0.)\n",
      "tensor(0.)\n",
      "tensor(0.)\n",
      "tensor(0.)\n",
      "tensor(0.)\n",
      "tensor(0.)\n",
      "tensor(0.)\n",
      "tensor(0.)\n",
      "tensor(0.)\n",
      "tensor(0.)\n",
      "tensor(0.)\n",
      "tensor(0.)\n",
      "tensor(0.)\n",
      "tensor(0.)\n",
      "tensor(0.)\n",
      "tensor(0.)\n",
      "tensor(0.)\n",
      "tensor(0.)\n"
     ]
    }
   ],
   "source": [
    "num_layer_C = 0\n",
    "num_layer_model = 0\n",
    "for param_1 in C.parameters():\n",
    "    num_layer_C +=1\n",
    "\n",
    "for param_2 in model.parameters():\n",
    "    num_layer_model += 1\n",
    "print(num_layer_C,num_layer_model)\n",
    "for param_1, param_2 in zip(C.parameters(), model.parameters()):\n",
    "    print(param_1.data.shape, param_2.data.shape)\n",
    "    param_1.data = param_2.data\n",
    "\n",
    "for param_1, param_2 in zip(C.parameters(), model.parameters()):\n",
    "\n",
    "    print(torch.sum(param_1.data) -torch.sum(param_2.data))"
   ]
  },
  {
   "cell_type": "code",
   "execution_count": 9,
   "metadata": {},
   "outputs": [
    {
     "name": "stdout",
     "output_type": "stream",
     "text": [
      "torch.Size([1, 512, 4, 4])\n",
      "tensor(698.1432)\n"
     ]
    }
   ],
   "source": [
    "C.eval()\n",
    "model.eval()\n",
    "with torch.no_grad():\n",
    "    x=torch.randn(1,3,128,128)\n",
    "    print(torch.sum(C(x.detach())-model(x.detach())))"
   ]
  },
  {
   "cell_type": "code",
   "execution_count": 20,
   "metadata": {},
   "outputs": [
    {
     "data": {
      "text/plain": [
       "torch.Size([501044, 1000])"
      ]
     },
     "execution_count": 20,
     "metadata": {},
     "output_type": "execute_result"
    }
   ],
   "source": [
    "result.shape"
   ]
  },
  {
   "cell_type": "code",
   "execution_count": 10,
   "metadata": {},
   "outputs": [
    {
     "name": "stdout",
     "output_type": "stream",
     "text": [
      "torch.Size([1, 3, 72, 72])\n"
     ]
    },
    {
     "data": {
      "text/plain": [
       "<matplotlib.image.AxesImage at 0x723784563bb0>"
      ]
     },
     "execution_count": 10,
     "metadata": {},
     "output_type": "execute_result"
    },
    {
     "data": {
      "image/png": "[encoded data removed]",
      "text/plain": [
       "<Figure size 640x480 with 1 Axes>"
      ]
     },
     "metadata": {},
     "output_type": "display_data"
    }
   ],
   "source": [
    "from PIL import Image\n",
    "import torch\n",
    "import torchvision.transforms as transforms\n",
    "\n",
    "image = Image.open(\"../images/bateau.jpg\")\n",
    "\n",
    "transform = transforms.Compose([\n",
    "    transforms.Resize((72, 72)),\n",
    "    transforms.ToTensor(),\n",
    "   \n",
    "    \n",
    "])\n",
    "image_tensor = transform(image)\n",
    "\n",
    "image_tensor = image_tensor.unsqueeze(0)\n",
    "print(image_tensor.size())\n",
    "import matplotlib.pyplot as plt\n",
    "plt.imshow(image_tensor[0].permute(1, 2, 0))"
   ]
  },
  {
   "cell_type": "code",
   "execution_count": 11,
   "metadata": {},
   "outputs": [],
   "source": [
    "import gc"
   ]
  },
  {
   "cell_type": "code",
   "execution_count": 12,
   "metadata": {},
   "outputs": [
    {
     "name": "stdout",
     "output_type": "stream",
     "text": [
      "span=0.9490196108818054\n",
      "torch.Size([5186, 3, 72, 72])\n"
     ]
    }
   ],
   "source": [
    "dim_abstract=5184\n",
    "alpha_value = 0.001\n",
    "span =torch.max(image_tensor)-torch.min(image_tensor)\n",
    "print(f\"span={span}\")\n",
    "from abstract import abstractTensor as AT \n",
    "\n",
    "x=AT(image_tensor.squeeze(0),alpha=alpha_value*span*torch.ones(dim_abstract)).abstract_tensor()\n",
    "\n",
    "print(x.shape)"
   ]
  },
  {
   "cell_type": "code",
   "execution_count": 13,
   "metadata": {},
   "outputs": [
    {
     "name": "stdout",
     "output_type": "stream",
     "text": [
      "Memory footprint of abstract domain 0.32 GB\n",
      "Memory footprint of abstract domain 0.32 GB\n",
      "torch.Size([5186, 64, 72, 72])\n",
      "layer CONV1 passed, 5184 symbols\n",
      "Memory footprint of abstract domain 6.88 GB\n",
      "torch.Size([5568, 64, 72, 72])\n",
      "layer relu 1 passed, 5566 symbols\n",
      "Memory footprint of abstract domain 7.39 GB\n",
      "nombre de zeros 99.89%\n",
      "torch.Size([5568, 64, 72, 72])\n",
      "layer conv2 1 passed, 62 symbols\n",
      "nombre de zeros 99.54%\n",
      "abstract relu conv2 passed\n",
      "torch.Size([10074, 64, 72, 72])\n",
      "Memory footprint of abstract domain 13.37 GB\n",
      "nombre de zeros 99.90%\n",
      "torch.Size([23568, 64, 36, 36])\n",
      "Memory footprint of abstract domain 7.82 GB\n",
      "layer pool 1 passed, 62 symbols\n",
      "nombre de zeros 99.94%\n",
      "torch.Size([23568, 128, 36, 36])\n",
      "Memory footprint of abstract domain 15.64 GB\n",
      "layer conv3 1 passed, 126 symbols\n",
      "torch.Size([31760, 128, 36, 36])\n",
      "Memory footprint of abstract domain 21.07 GB\n",
      "layer relu 3 passed, 126 symbols\n",
      "torch.Size([31760, 128, 36, 36])\n",
      "Memory footprint of abstract domain 21.07 GB\n",
      "layer conv4 1 passed, 31758 symbols\n",
      "torch.Size([46511, 128, 36, 36])\n",
      "Memory footprint of abstract domain 30.86 GB\n",
      "layer relu 4 passed, 46509 symbols\n",
      "torch.Size([57526, 128, 18, 18])\n",
      "Memory footprint of abstract domain 9.54 GB\n",
      "layer pool 2 passed, 57524 symbols\n",
      "torch.Size([57526, 256, 18, 18])\n",
      "Memory footprint of abstract domain 19.09 GB\n",
      "layer conv5 1 passed, 57524 symbols\n",
      "torch.Size([84878, 256, 18, 18])\n",
      "Memory footprint of abstract domain 28.16 GB\n",
      "layer relu 5 passed, 84876 symbols\n",
      "torch.Size([84878, 256, 18, 18])\n",
      "Memory footprint of abstract domain 28.16 GB\n",
      "layer conv6 1 passed, 84876 symbols\n",
      "torch.Size([127801, 256, 18, 18])\n",
      "Memory footprint of abstract domain 42.40 GB\n",
      "layer relu 6 passed, 127799 symbols\n",
      "torch.Size([127801, 256, 18, 18])\n",
      "Memory footprint of abstract domain 42.40 GB\n",
      "layer conv7  passed, 127799 symbols\n",
      "torch.Size([189608, 256, 18, 18])\n",
      "Memory footprint of abstract domain 62.91 GB\n",
      "layer relu 7 passed, 189606 symbols\n",
      "torch.Size([189608, 256, 18, 18])\n",
      "Memory footprint of abstract domain 62.91 GB\n",
      "layer conv8 passed, 189606 symbols\n",
      "torch.Size([324428, 512, 9, 9])\n",
      "Memory footprint of abstract domain 53.82 GB\n",
      "layer conv9 passed, 324426 symbols\n",
      "torch.Size([324428, 512, 9, 9])\n",
      "Memory footprint of abstract domain 53.82 GB\n",
      "layer conv10 passed, 324426 symbols\n",
      "torch.Size([365900, 512, 9, 9])\n",
      "Memory footprint of abstract domain 60.70 GB\n",
      "layer conv11 passed, 365898 symbols\n",
      "torch.Size([407372, 512, 9, 9])\n",
      "Memory footprint of abstract domain 67.58 GB\n",
      "layer conv12 1 passed, 407370 symbols\n",
      "torch.Size([457036, 512, 4, 4])\n",
      "Memory footprint of abstract domain 14.98 GB\n",
      "layer conv13 passed, 457034 symbols\n",
      "torch.Size([465228, 512, 4, 4])\n",
      "Memory footprint of abstract domain 15.24 GB\n",
      "layer conv14 1 passed, 465226 symbols\n",
      "torch.Size([473420, 512, 4, 4])\n",
      "Memory footprint of abstract domain 15.51 GB\n",
      "layer conv15 1 passed, 473418 symbols\n",
      "torch.Size([481612, 512, 4, 4])\n",
      "Memory footprint of abstract domain 15.78 GB\n",
      "layer conv16 1 passed, 481610 symbols\n",
      "torch.Size([491852, 4096])\n",
      "Memory footprint of abstract domain 8.06 GB\n",
      "layer lin 1 passed, 491850 symbols\n",
      "torch.Size([495948, 4096])\n",
      "Memory footprint of abstract domain 8.13 GB\n",
      "layer lin2 passed, 495946 symbols\n",
      "torch.Size([500044, 1000])\n",
      "Memory footprint of abstract domain 2.00 GB\n",
      "layer lin3 passed, 500042 symbols\n",
      "Memory footprint of abstract domain 2.00 GB\n"
     ]
    }
   ],
   "source": [
    "\n",
    "x=x.to(device)\n",
    "C.eval()\n",
    "\n",
    "with torch.no_grad():\n",
    "   result,x_min,x_max,x_true= C.abstract_forward(x.detach(),add_symbol=True,device=device)\n",
    "\n",
    "print(compute_memory(result))"
   ]
  },
  {
   "cell_type": "code",
   "execution_count": 14,
   "metadata": {},
   "outputs": [
    {
     "name": "stdout",
     "output_type": "stream",
     "text": [
      "tensor([852, 772, 868, 778, 600, 700, 463, 758, 618])\n",
      "Evaluation effectuée sur VGG19, sur un domaine abstrait comportant 5184 symboles, avec un alpha de 0.001.\n",
      "l'évaluation a généré 495858 symboles de bruits.\n",
      "Les 9 classes les plus probables sont :\n",
      "['tennis_ball', 'safety_pin', 'tray', 'scale', 'hook', 'paper_towel', 'bucket', 'reel', 'ladle']\n",
      "y_min       =  tensor([-7.9313e+16, -7.9954e+16, -7.8023e+16, -7.9049e+16, -6.7937e+16,\n",
      "        -7.5279e+16, -6.7711e+16, -7.7612e+16, -7.4716e+16])\n",
      "y_max       =  tensor([1.7690e+17, 1.7530e+17, 1.7333e+17, 1.7425e+17, 1.6226e+17, 1.6925e+17,\n",
      "        1.6130e+17, 1.7105e+17, 1.6807e+17])\n",
      "center Ztp  =  tensor([4.8795e+16, 4.7675e+16, 4.7654e+16, 4.7601e+16, 4.7160e+16, 4.6986e+16,\n",
      "        4.6794e+16, 4.6718e+16, 4.6674e+16])\n",
      "y_true      =  tensor([0.0000, 0.0000, 1.4677, 4.1011, 6.7653, 0.0000, 5.9658, 4.8513, 0.0000])\n",
      "y_max-x_min =  tensor([2.5622e+17, 2.5526e+17, 2.5135e+17, 2.5330e+17, 2.3019e+17, 2.4453e+17,\n",
      "        2.2901e+17, 2.4866e+17, 2.4278e+17])\n",
      "Trash symbol=  tensor([0., 0., 0., 0., 0., 0., 0., 0., 0.])\n"
     ]
    }
   ],
   "source": [
    "_ , index = torch.topk(result[0], 9)\n",
    "\n",
    "print(index)\n",
    "print(f\"Evaluation effectuée sur VGG19, sur un domaine abstrait comportant {dim_abstract} symboles, avec un alpha de {alpha_value}.\")\n",
    "print(f\"l'évaluation a généré {len(result)-2-dim_abstract} symboles de bruits.\")\n",
    "\n",
    "import json\n",
    "with open(\"VGG_index/imagenet_class_index.json\") as f:\n",
    "    class_idx = json.load(f)\n",
    "idx2label = [class_idx[str(k)][1] for k in range(len(class_idx))]\n",
    "\n",
    "print(\"Les 9 classes les plus probables sont :\")\n",
    "labels = [idx2label[i] for i in index]\n",
    "print(labels)\n",
    "\n",
    "print(f\"y_min       =  {x_min[index]}\")\n",
    "print(f\"y_max       =  {x_max[index]}\")\n",
    "print(f\"center Ztp  =  {result[0][index]}\")\n",
    "print(f\"y_true      =  {x_true.squeeze(0)[index]}\")\n",
    "print(f\"y_max-x_min =  {x_max[index]-x_min[index]}\")\n",
    "print(f\"Trash symbol=  {result[-1][index]}\")"
   ]
  },
  {
   "cell_type": "code",
   "execution_count": 15,
   "metadata": {},
   "outputs": [
    {
     "name": "stderr",
     "output_type": "stream",
     "text": [
      "No artists with labels found to put in legend.  Note that artists whose label start with an underscore are ignored when legend() is called with no argument.\n"
     ]
    },
    {
     "name": "stdout",
     "output_type": "stream",
     "text": [
      "[[-7.9313392e+16]\n",
      " [-7.9953823e+16]\n",
      " [-7.8022659e+16]\n",
      " [-7.9048916e+16]\n",
      " [-6.7937157e+16]\n",
      " [-7.5278553e+16]\n",
      " [-6.7710640e+16]\n",
      " [-7.7611811e+16]\n",
      " [-7.4716419e+16]]\n",
      "[0 1 2 3 4 5 6 7 8]\n",
      "(9, 2)\n",
      "[[-7.9313392e+16  1.7690390e+17]\n",
      " [-7.9953823e+16  1.7530356e+17]\n",
      " [-7.8022659e+16  1.7333145e+17]\n",
      " [-7.9048916e+16  1.7425112e+17]\n",
      " [-6.7937157e+16  1.6225735e+17]\n",
      " [-7.5278553e+16  1.6925116e+17]\n",
      " [-6.7710640e+16  1.6129829e+17]\n",
      " [-7.7611811e+16  1.7104807e+17]\n",
      " [-7.4716419e+16  1.6806503e+17]]\n",
      "(9, 1)\n",
      "(9, 1)\n"
     ]
    },
    {
     "data": {
      "image/png": "[encoded data removed]",
      "text/plain": [
       "<Figure size 800x400 with 1 Axes>"
      ]
     },
     "metadata": {},
     "output_type": "display_data"
    }
   ],
   "source": [
    "\n",
    "import matplotlib.pyplot as plt\n",
    "import numpy as np\n",
    "y_min       =  np.expand_dims(np.array(x_min[index]),axis=1)\n",
    "y_max       =  np.expand_dims(np.array(x_max[index]),axis=1)\n",
    "center_Ztp  =  np.expand_dims(np.array(result[0][index]),axis=1)\n",
    "y_true      =  np.expand_dims(np.array(x_true.squeeze(0)[index]),axis=1)\n",
    "y_max_minus_y_min =  np.array(x_max[index]-x_min[index])\n",
    "Trash_symbol=  np.array(result[-1][index])\n",
    "\n",
    "\n",
    "print(y_min)\n",
    "\n",
    "\n",
    "\n",
    "x = np.arange(len(y_min))\n",
    "print(x)\n",
    "D =np.stack((y_min,y_max),axis=1).reshape(-1,2)\n",
    "print(D.shape)\n",
    "print(D)\n",
    "\n",
    "print(center_Ztp.shape)\n",
    "print(y_true.shape)\n",
    "# plot:\n",
    "\n",
    "fig,ax = plt.subplots(1, 1, figsize=(8,4), tight_layout=True)\n",
    "ax.eventplot(D, orientation=\"vertical\", linewidth=1,color='blue',linelengths=0.3)\n",
    "ax.eventplot(y_true, orientation=\"vertical\", linewidth=0.5,color='green',linelengths=0.4)\n",
    "ax.eventplot(center_Ztp, orientation=\"vertical\", linewidth=1,color='red',linelengths=0.5)\n",
    "\n",
    "ax.set(xlim=(-0.5, 9),xticks=x,xticklabels=labels,\n",
    "       ylim=(np.min(D)-1, np.max(D)+1))\n",
    "plt.ylabel(\"Value of the abstract domain\")\n",
    "plt.title(\"Dominance of the abstract domain\")\n",
    "plt.legend()\n",
    "plt.show()"
   ]
  },
  {
   "cell_type": "code",
   "execution_count": 16,
   "metadata": {},
   "outputs": [
    {
     "name": "stdout",
     "output_type": "stream",
     "text": [
      "tensor([[510, 540, 536, 628, 517, 554, 460, 913]])\n"
     ]
    }
   ],
   "source": [
    "model.eval()\n",
    "res =model(image_tensor)\n",
    "_ , index = torch.topk(res, 8)\n",
    "print(index)"
   ]
  },
  {
   "cell_type": "code",
   "execution_count": 17,
   "metadata": {},
   "outputs": [
    {
     "name": "stdout",
     "output_type": "stream",
     "text": [
      "Les 8 classes les plus probables sont :\n",
      "['container_ship', 'drilling_platform', 'dock', 'liner', 'crane', 'fireboat', 'breakwater', 'wreck']\n"
     ]
    }
   ],
   "source": [
    "import json\n",
    "with open(\"VGG_index/imagenet_class_index.json\") as f:\n",
    "    class_idx = json.load(f)\n",
    "idx2label = [class_idx[str(k)][1] for k in range(len(class_idx))]\n",
    "\n",
    "print(\"Les 8 classes les plus probables sont :\")\n",
    "print([idx2label[i] for i in index[0]])"
   ]
  },
  {
   "cell_type": "code",
   "execution_count": 19,
   "metadata": {},
   "outputs": [
    {
     "name": "stdout",
     "output_type": "stream",
     "text": [
      "tensor(852)\n",
      "torch.Size([5184])\n"
     ]
    },
    {
     "ename": "TypeError",
     "evalue": "Invalid shape (1, 72, 72) for image data",
     "output_type": "error",
     "traceback": [
      "\u001b[0;31m---------------------------------------------------------------------------\u001b[0m",
      "\u001b[0;31mTypeError\u001b[0m                                 Traceback (most recent call last)",
      "Cell \u001b[0;32mIn[19], line 7\u001b[0m\n\u001b[1;32m      5\u001b[0m concat \u001b[38;5;241m=\u001b[39m concat\u001b[38;5;241m/\u001b[39m (torch\u001b[38;5;241m.\u001b[39mmax(concat)\u001b[38;5;241m-\u001b[39mtorch\u001b[38;5;241m.\u001b[39mmin(concat))\n\u001b[1;32m      6\u001b[0m concat \u001b[38;5;241m=\u001b[39m concat\u001b[38;5;241m.\u001b[39mreshape(\u001b[38;5;241m1\u001b[39m,\u001b[38;5;241m72\u001b[39m,\u001b[38;5;241m72\u001b[39m)\n\u001b[0;32m----> 7\u001b[0m \u001b[43mplt\u001b[49m\u001b[38;5;241;43m.\u001b[39;49m\u001b[43mimshow\u001b[49m\u001b[43m(\u001b[49m\u001b[43mtorch\u001b[49m\u001b[38;5;241;43m.\u001b[39;49m\u001b[43mabs\u001b[49m\u001b[43m(\u001b[49m\u001b[43mconcat\u001b[49m\u001b[38;5;241;43m.\u001b[39;49m\u001b[43mcpu\u001b[49m\u001b[43m(\u001b[49m\u001b[43m)\u001b[49m\u001b[43m)\u001b[49m\u001b[38;5;241;43m.\u001b[39;49m\u001b[43mnumpy\u001b[49m\u001b[43m(\u001b[49m\u001b[43m)\u001b[49m\u001b[43m,\u001b[49m\u001b[43m \u001b[49m\u001b[43mcmap\u001b[49m\u001b[38;5;241;43m=\u001b[39;49m\u001b[38;5;124;43m'\u001b[39;49m\u001b[38;5;124;43mReds\u001b[39;49m\u001b[38;5;124;43m'\u001b[39;49m\u001b[43m)\u001b[49m\n\u001b[1;32m      8\u001b[0m plt\u001b[38;5;241m.\u001b[39mcolorbar()\n\u001b[1;32m      9\u001b[0m plt\u001b[38;5;241m.\u001b[39mshow()\n",
      "File \u001b[0;32m~/.local/lib/python3.10/site-packages/matplotlib/pyplot.py:3358\u001b[0m, in \u001b[0;36mimshow\u001b[0;34m(X, cmap, norm, aspect, interpolation, alpha, vmin, vmax, origin, extent, interpolation_stage, filternorm, filterrad, resample, url, data, **kwargs)\u001b[0m\n\u001b[1;32m   3337\u001b[0m \u001b[38;5;129m@_copy_docstring_and_deprecators\u001b[39m(Axes\u001b[38;5;241m.\u001b[39mimshow)\n\u001b[1;32m   3338\u001b[0m \u001b[38;5;28;01mdef\u001b[39;00m \u001b[38;5;21mimshow\u001b[39m(\n\u001b[1;32m   3339\u001b[0m     X: ArrayLike \u001b[38;5;241m|\u001b[39m PIL\u001b[38;5;241m.\u001b[39mImage\u001b[38;5;241m.\u001b[39mImage,\n\u001b[0;32m   (...)\u001b[0m\n\u001b[1;32m   3356\u001b[0m     \u001b[38;5;241m*\u001b[39m\u001b[38;5;241m*\u001b[39mkwargs,\n\u001b[1;32m   3357\u001b[0m ) \u001b[38;5;241m-\u001b[39m\u001b[38;5;241m>\u001b[39m AxesImage:\n\u001b[0;32m-> 3358\u001b[0m     __ret \u001b[38;5;241m=\u001b[39m \u001b[43mgca\u001b[49m\u001b[43m(\u001b[49m\u001b[43m)\u001b[49m\u001b[38;5;241;43m.\u001b[39;49m\u001b[43mimshow\u001b[49m\u001b[43m(\u001b[49m\n\u001b[1;32m   3359\u001b[0m \u001b[43m        \u001b[49m\u001b[43mX\u001b[49m\u001b[43m,\u001b[49m\n\u001b[1;32m   3360\u001b[0m \u001b[43m        \u001b[49m\u001b[43mcmap\u001b[49m\u001b[38;5;241;43m=\u001b[39;49m\u001b[43mcmap\u001b[49m\u001b[43m,\u001b[49m\n\u001b[1;32m   3361\u001b[0m \u001b[43m        \u001b[49m\u001b[43mnorm\u001b[49m\u001b[38;5;241;43m=\u001b[39;49m\u001b[43mnorm\u001b[49m\u001b[43m,\u001b[49m\n\u001b[1;32m   3362\u001b[0m \u001b[43m        \u001b[49m\u001b[43maspect\u001b[49m\u001b[38;5;241;43m=\u001b[39;49m\u001b[43maspect\u001b[49m\u001b[43m,\u001b[49m\n\u001b[1;32m   3363\u001b[0m \u001b[43m        \u001b[49m\u001b[43minterpolation\u001b[49m\u001b[38;5;241;43m=\u001b[39;49m\u001b[43minterpolation\u001b[49m\u001b[43m,\u001b[49m\n\u001b[1;32m   3364\u001b[0m \u001b[43m        \u001b[49m\u001b[43malpha\u001b[49m\u001b[38;5;241;43m=\u001b[39;49m\u001b[43malpha\u001b[49m\u001b[43m,\u001b[49m\n\u001b[1;32m   3365\u001b[0m \u001b[43m        \u001b[49m\u001b[43mvmin\u001b[49m\u001b[38;5;241;43m=\u001b[39;49m\u001b[43mvmin\u001b[49m\u001b[43m,\u001b[49m\n\u001b[1;32m   3366\u001b[0m \u001b[43m        \u001b[49m\u001b[43mvmax\u001b[49m\u001b[38;5;241;43m=\u001b[39;49m\u001b[43mvmax\u001b[49m\u001b[43m,\u001b[49m\n\u001b[1;32m   3367\u001b[0m \u001b[43m        \u001b[49m\u001b[43morigin\u001b[49m\u001b[38;5;241;43m=\u001b[39;49m\u001b[43morigin\u001b[49m\u001b[43m,\u001b[49m\n\u001b[1;32m   3368\u001b[0m \u001b[43m        \u001b[49m\u001b[43mextent\u001b[49m\u001b[38;5;241;43m=\u001b[39;49m\u001b[43mextent\u001b[49m\u001b[43m,\u001b[49m\n\u001b[1;32m   3369\u001b[0m \u001b[43m        \u001b[49m\u001b[43minterpolation_stage\u001b[49m\u001b[38;5;241;43m=\u001b[39;49m\u001b[43minterpolation_stage\u001b[49m\u001b[43m,\u001b[49m\n\u001b[1;32m   3370\u001b[0m \u001b[43m        \u001b[49m\u001b[43mfilternorm\u001b[49m\u001b[38;5;241;43m=\u001b[39;49m\u001b[43mfilternorm\u001b[49m\u001b[43m,\u001b[49m\n\u001b[1;32m   3371\u001b[0m \u001b[43m        \u001b[49m\u001b[43mfilterrad\u001b[49m\u001b[38;5;241;43m=\u001b[39;49m\u001b[43mfilterrad\u001b[49m\u001b[43m,\u001b[49m\n\u001b[1;32m   3372\u001b[0m \u001b[43m        \u001b[49m\u001b[43mresample\u001b[49m\u001b[38;5;241;43m=\u001b[39;49m\u001b[43mresample\u001b[49m\u001b[43m,\u001b[49m\n\u001b[1;32m   3373\u001b[0m \u001b[43m        \u001b[49m\u001b[43murl\u001b[49m\u001b[38;5;241;43m=\u001b[39;49m\u001b[43murl\u001b[49m\u001b[43m,\u001b[49m\n\u001b[1;32m   3374\u001b[0m \u001b[43m        \u001b[49m\u001b[38;5;241;43m*\u001b[39;49m\u001b[38;5;241;43m*\u001b[39;49m\u001b[43m(\u001b[49m\u001b[43m{\u001b[49m\u001b[38;5;124;43m\"\u001b[39;49m\u001b[38;5;124;43mdata\u001b[39;49m\u001b[38;5;124;43m\"\u001b[39;49m\u001b[43m:\u001b[49m\u001b[43m \u001b[49m\u001b[43mdata\u001b[49m\u001b[43m}\u001b[49m\u001b[43m \u001b[49m\u001b[38;5;28;43;01mif\u001b[39;49;00m\u001b[43m \u001b[49m\u001b[43mdata\u001b[49m\u001b[43m \u001b[49m\u001b[38;5;129;43;01mis\u001b[39;49;00m\u001b[43m \u001b[49m\u001b[38;5;129;43;01mnot\u001b[39;49;00m\u001b[43m \u001b[49m\u001b[38;5;28;43;01mNone\u001b[39;49;00m\u001b[43m \u001b[49m\u001b[38;5;28;43;01melse\u001b[39;49;00m\u001b[43m \u001b[49m\u001b[43m{\u001b[49m\u001b[43m}\u001b[49m\u001b[43m)\u001b[49m\u001b[43m,\u001b[49m\n\u001b[1;32m   3375\u001b[0m \u001b[43m        \u001b[49m\u001b[38;5;241;43m*\u001b[39;49m\u001b[38;5;241;43m*\u001b[39;49m\u001b[43mkwargs\u001b[49m\u001b[43m,\u001b[49m\n\u001b[1;32m   3376\u001b[0m \u001b[43m    \u001b[49m\u001b[43m)\u001b[49m\n\u001b[1;32m   3377\u001b[0m     sci(__ret)\n\u001b[1;32m   3378\u001b[0m     \u001b[38;5;28;01mreturn\u001b[39;00m __ret\n",
      "File \u001b[0;32m~/.local/lib/python3.10/site-packages/matplotlib/__init__.py:1465\u001b[0m, in \u001b[0;36m_preprocess_data.<locals>.inner\u001b[0;34m(ax, data, *args, **kwargs)\u001b[0m\n\u001b[1;32m   1462\u001b[0m \u001b[38;5;129m@functools\u001b[39m\u001b[38;5;241m.\u001b[39mwraps(func)\n\u001b[1;32m   1463\u001b[0m \u001b[38;5;28;01mdef\u001b[39;00m \u001b[38;5;21minner\u001b[39m(ax, \u001b[38;5;241m*\u001b[39margs, data\u001b[38;5;241m=\u001b[39m\u001b[38;5;28;01mNone\u001b[39;00m, \u001b[38;5;241m*\u001b[39m\u001b[38;5;241m*\u001b[39mkwargs):\n\u001b[1;32m   1464\u001b[0m     \u001b[38;5;28;01mif\u001b[39;00m data \u001b[38;5;129;01mis\u001b[39;00m \u001b[38;5;28;01mNone\u001b[39;00m:\n\u001b[0;32m-> 1465\u001b[0m         \u001b[38;5;28;01mreturn\u001b[39;00m \u001b[43mfunc\u001b[49m\u001b[43m(\u001b[49m\u001b[43max\u001b[49m\u001b[43m,\u001b[49m\u001b[43m \u001b[49m\u001b[38;5;241;43m*\u001b[39;49m\u001b[38;5;28;43mmap\u001b[39;49m\u001b[43m(\u001b[49m\u001b[43msanitize_sequence\u001b[49m\u001b[43m,\u001b[49m\u001b[43m \u001b[49m\u001b[43margs\u001b[49m\u001b[43m)\u001b[49m\u001b[43m,\u001b[49m\u001b[43m \u001b[49m\u001b[38;5;241;43m*\u001b[39;49m\u001b[38;5;241;43m*\u001b[39;49m\u001b[43mkwargs\u001b[49m\u001b[43m)\u001b[49m\n\u001b[1;32m   1467\u001b[0m     bound \u001b[38;5;241m=\u001b[39m new_sig\u001b[38;5;241m.\u001b[39mbind(ax, \u001b[38;5;241m*\u001b[39margs, \u001b[38;5;241m*\u001b[39m\u001b[38;5;241m*\u001b[39mkwargs)\n\u001b[1;32m   1468\u001b[0m     auto_label \u001b[38;5;241m=\u001b[39m (bound\u001b[38;5;241m.\u001b[39marguments\u001b[38;5;241m.\u001b[39mget(label_namer)\n\u001b[1;32m   1469\u001b[0m                   \u001b[38;5;129;01mor\u001b[39;00m bound\u001b[38;5;241m.\u001b[39mkwargs\u001b[38;5;241m.\u001b[39mget(label_namer))\n",
      "File \u001b[0;32m~/.local/lib/python3.10/site-packages/matplotlib/axes/_axes.py:5759\u001b[0m, in \u001b[0;36mAxes.imshow\u001b[0;34m(self, X, cmap, norm, aspect, interpolation, alpha, vmin, vmax, origin, extent, interpolation_stage, filternorm, filterrad, resample, url, **kwargs)\u001b[0m\n\u001b[1;32m   5756\u001b[0m \u001b[38;5;28;01mif\u001b[39;00m aspect \u001b[38;5;129;01mis\u001b[39;00m \u001b[38;5;129;01mnot\u001b[39;00m \u001b[38;5;28;01mNone\u001b[39;00m:\n\u001b[1;32m   5757\u001b[0m     \u001b[38;5;28mself\u001b[39m\u001b[38;5;241m.\u001b[39mset_aspect(aspect)\n\u001b[0;32m-> 5759\u001b[0m \u001b[43mim\u001b[49m\u001b[38;5;241;43m.\u001b[39;49m\u001b[43mset_data\u001b[49m\u001b[43m(\u001b[49m\u001b[43mX\u001b[49m\u001b[43m)\u001b[49m\n\u001b[1;32m   5760\u001b[0m im\u001b[38;5;241m.\u001b[39mset_alpha(alpha)\n\u001b[1;32m   5761\u001b[0m \u001b[38;5;28;01mif\u001b[39;00m im\u001b[38;5;241m.\u001b[39mget_clip_path() \u001b[38;5;129;01mis\u001b[39;00m \u001b[38;5;28;01mNone\u001b[39;00m:\n\u001b[1;32m   5762\u001b[0m     \u001b[38;5;66;03m# image does not already have clipping set, clip to axes patch\u001b[39;00m\n",
      "File \u001b[0;32m~/.local/lib/python3.10/site-packages/matplotlib/image.py:723\u001b[0m, in \u001b[0;36m_ImageBase.set_data\u001b[0;34m(self, A)\u001b[0m\n\u001b[1;32m    721\u001b[0m \u001b[38;5;28;01mif\u001b[39;00m \u001b[38;5;28misinstance\u001b[39m(A, PIL\u001b[38;5;241m.\u001b[39mImage\u001b[38;5;241m.\u001b[39mImage):\n\u001b[1;32m    722\u001b[0m     A \u001b[38;5;241m=\u001b[39m pil_to_array(A)  \u001b[38;5;66;03m# Needed e.g. to apply png palette.\u001b[39;00m\n\u001b[0;32m--> 723\u001b[0m \u001b[38;5;28mself\u001b[39m\u001b[38;5;241m.\u001b[39m_A \u001b[38;5;241m=\u001b[39m \u001b[38;5;28;43mself\u001b[39;49m\u001b[38;5;241;43m.\u001b[39;49m\u001b[43m_normalize_image_array\u001b[49m\u001b[43m(\u001b[49m\u001b[43mA\u001b[49m\u001b[43m)\u001b[49m\n\u001b[1;32m    724\u001b[0m \u001b[38;5;28mself\u001b[39m\u001b[38;5;241m.\u001b[39m_imcache \u001b[38;5;241m=\u001b[39m \u001b[38;5;28;01mNone\u001b[39;00m\n\u001b[1;32m    725\u001b[0m \u001b[38;5;28mself\u001b[39m\u001b[38;5;241m.\u001b[39mstale \u001b[38;5;241m=\u001b[39m \u001b[38;5;28;01mTrue\u001b[39;00m\n",
      "File \u001b[0;32m~/.local/lib/python3.10/site-packages/matplotlib/image.py:693\u001b[0m, in \u001b[0;36m_ImageBase._normalize_image_array\u001b[0;34m(A)\u001b[0m\n\u001b[1;32m    691\u001b[0m     A \u001b[38;5;241m=\u001b[39m A\u001b[38;5;241m.\u001b[39msqueeze(\u001b[38;5;241m-\u001b[39m\u001b[38;5;241m1\u001b[39m)  \u001b[38;5;66;03m# If just (M, N, 1), assume scalar and apply colormap.\u001b[39;00m\n\u001b[1;32m    692\u001b[0m \u001b[38;5;28;01mif\u001b[39;00m \u001b[38;5;129;01mnot\u001b[39;00m (A\u001b[38;5;241m.\u001b[39mndim \u001b[38;5;241m==\u001b[39m \u001b[38;5;241m2\u001b[39m \u001b[38;5;129;01mor\u001b[39;00m A\u001b[38;5;241m.\u001b[39mndim \u001b[38;5;241m==\u001b[39m \u001b[38;5;241m3\u001b[39m \u001b[38;5;129;01mand\u001b[39;00m A\u001b[38;5;241m.\u001b[39mshape[\u001b[38;5;241m-\u001b[39m\u001b[38;5;241m1\u001b[39m] \u001b[38;5;129;01min\u001b[39;00m [\u001b[38;5;241m3\u001b[39m, \u001b[38;5;241m4\u001b[39m]):\n\u001b[0;32m--> 693\u001b[0m     \u001b[38;5;28;01mraise\u001b[39;00m \u001b[38;5;167;01mTypeError\u001b[39;00m(\u001b[38;5;124mf\u001b[39m\u001b[38;5;124m\"\u001b[39m\u001b[38;5;124mInvalid shape \u001b[39m\u001b[38;5;132;01m{\u001b[39;00mA\u001b[38;5;241m.\u001b[39mshape\u001b[38;5;132;01m}\u001b[39;00m\u001b[38;5;124m for image data\u001b[39m\u001b[38;5;124m\"\u001b[39m)\n\u001b[1;32m    694\u001b[0m \u001b[38;5;28;01mif\u001b[39;00m A\u001b[38;5;241m.\u001b[39mndim \u001b[38;5;241m==\u001b[39m \u001b[38;5;241m3\u001b[39m:\n\u001b[1;32m    695\u001b[0m     \u001b[38;5;66;03m# If the input data has values outside the valid range (after\u001b[39;00m\n\u001b[1;32m    696\u001b[0m     \u001b[38;5;66;03m# normalisation), we issue a warning and then clip X to the bounds\u001b[39;00m\n\u001b[1;32m    697\u001b[0m     \u001b[38;5;66;03m# - otherwise casting wraps extreme values, hiding outliers and\u001b[39;00m\n\u001b[1;32m    698\u001b[0m     \u001b[38;5;66;03m# making reliable interpretation impossible.\u001b[39;00m\n\u001b[1;32m    699\u001b[0m     high \u001b[38;5;241m=\u001b[39m \u001b[38;5;241m255\u001b[39m \u001b[38;5;28;01mif\u001b[39;00m np\u001b[38;5;241m.\u001b[39missubdtype(A\u001b[38;5;241m.\u001b[39mdtype, np\u001b[38;5;241m.\u001b[39minteger) \u001b[38;5;28;01melse\u001b[39;00m \u001b[38;5;241m1\u001b[39m\n",
      "\u001b[0;31mTypeError\u001b[0m: Invalid shape (1, 72, 72) for image data"
     ]
    },
    {
     "data": {
      "image/png": "[encoded data removed]",
      "text/plain": [
       "<Figure size 640x480 with 1 Axes>"
      ]
     },
     "metadata": {},
     "output_type": "display_data"
    }
   ],
   "source": [
    "value=torch.argmax(result[0])\n",
    "print(value)\n",
    "concat= torch.abs(result[1:5185,value])\n",
    "print(concat.size())\n",
    "concat = concat/ (torch.max(concat)-torch.min(concat))\n",
    "concat = concat.reshape(1,72,72)\n",
    "plt.imshow(torch.abs(concat.cpu()).numpy(), cmap='Reds')\n",
    "plt.colorbar()\n",
    "plt.show()\n",
    "transform = transforms.Resize((224, 224))\n",
    "heatmap = transform(concat.unsqueeze(0))\n",
    "plt.imshow(heatmap.cpu().numpy(), cmap='Reds')\n",
    "heatmap.shape\n",
    "\n",
    "heatmap = torch.cat((heatmap, torch.zeros_like(heatmap[0]).unsqueeze(0), torch.zeros_like(heatmap[0]).unsqueeze(0)), dim=0)\n"
   ]
  },
  {
   "cell_type": "code",
   "execution_count": null,
   "metadata": {},
   "outputs": [],
   "source": [
    "from PIL import Image\n",
    "import torch\n",
    "import torchvision.transforms as transforms\n",
    "\n",
    "image = Image.open(\"../images/bateau.jpg\")\n",
    "\n",
    "transform = transforms.Compose([\n",
    "    transforms.Resize((224, 224)),\n",
    "    transforms.ToTensor(),\n",
    "])\n",
    "image_tensor = transform(image)\n",
    "\n",
    "image_tensor = image_tensor.unsqueeze(0)\n",
    "image_heatmaped = 0.8*image_tensor + 1.5*heatmap\n",
    "print(image_heatmaped.size())\n",
    "import matplotlib.pyplot as plt\n",
    "plt.imshow(image_heatmaped[0].permute(1, 2, 0))"
   ]
  },
  {
   "cell_type": "code",
   "execution_count": null,
   "metadata": {},
   "outputs": [],
   "source": [
    "AR.max_symbol"
   ]
  },
  {
   "cell_type": "markdown",
   "metadata": {},
   "source": [
    "## Principe de sélection des nouveaux symboles\n",
    "Pour comprendre le principe de sélection des symboles portants les poids les plus élevés en VA, on peut observer le code ci-dessous."
   ]
  },
  {
   "cell_type": "code",
   "execution_count": null,
   "metadata": {},
   "outputs": [],
   "source": [
    "import torch"
   ]
  },
  {
   "cell_type": "code",
   "execution_count": null,
   "metadata": {},
   "outputs": [],
   "source": [
    "x =torch.randn(1000,29098)\n",
    "len(x)-2+len(torch.where(x[-1].flatten()!=0)[0])"
   ]
  },
  {
   "cell_type": "code",
   "execution_count": null,
   "metadata": {},
   "outputs": [],
   "source": [
    "import torch\n",
    "x = torch.zeros(2,8)\n",
    "x[0,5]=1\n",
    "x[1,2]=0.02\n",
    "x[1,3]=0.02\n",
    "x[1,5]=0.04\n",
    "\n",
    "recycle_symbols =2\n",
    "device = torch.device(\"cpu\")\n",
    "print(x)"
   ]
  },
  {
   "cell_type": "code",
   "execution_count": null,
   "metadata": {},
   "outputs": [],
   "source": [
    "new_eps = torch.topk((x[-1].flatten()),recycle_symbols,largest=True).indices.to(device)\n",
    "index = torch.arange(len(new_eps)).to(device)\n",
    "new_eps_batch_shape = x[-1].expand(len(new_eps)+1,-1).shape\n",
    "new_eps_batch = torch.zeros(new_eps_batch_shape).to(device)\n",
    "new_eps_batch[index,new_eps]=x[-1][new_eps]\n",
    "\n",
    "x[-1].flatten()[new_eps]=0\n",
    "new_eps_batch[-1] =x[-1].flatten()\n",
    "\n",
    "\n",
    "x=x[:-1]\n",
    "\n",
    "x = torch.cat((x,new_eps_batch),dim=0)"
   ]
  },
  {
   "cell_type": "code",
   "execution_count": null,
   "metadata": {},
   "outputs": [],
   "source": [
    "print(x)\n"
   ]
  },
  {
   "cell_type": "code",
   "execution_count": null,
   "metadata": {},
   "outputs": [],
   "source": [
    "\n",
    "x=x[:-1]\n",
    "print(x)\n",
    "\n",
    "x = torch.cat((x,new_eps_batch),dim=0) \n",
    "x"
   ]
  },
  {
   "cell_type": "code",
   "execution_count": null,
   "metadata": {},
   "outputs": [],
   "source": [
    "import torch.nn as nn\n",
    "from abstractModule import AbstractLinear as AL\n",
    "fc = nn.Sequential(nn.Flatten(),nn.Linear(8,2))\n",
    "\n",
    "x, x_min, x_max, x_true = AL.abstract_linear(fc,x,x[0].unsqueeze(0),device=device)"
   ]
  },
  {
   "cell_type": "code",
   "execution_count": null,
   "metadata": {},
   "outputs": [],
   "source": [
    "x.shape"
   ]
  },
  {
   "cell_type": "code",
   "execution_count": null,
   "metadata": {},
   "outputs": [],
   "source": [
    "x"
   ]
  }
 ],
 "metadata": {
  "kernelspec": {
   "display_name": "NumalisEnv",
   "language": "python",
   "name": "python3"
  },
  "language_info": {
   "codemirror_mode": {
    "name": "ipython",
    "version": 3
   },
   "file_extension": ".py",
   "mimetype": "text/x-python",
   "name": "python",
   "nbconvert_exporter": "python",
   "pygments_lexer": "ipython3",
   "version": "3.10.12"
  }
 },
 "nbformat": 4,
 "nbformat_minor": 2
}
