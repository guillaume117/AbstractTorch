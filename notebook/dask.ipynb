{
 "cells": [
  {
   "cell_type": "code",
   "execution_count": 1,
   "metadata": {},
   "outputs": [
    {
     "name": "stdout",
     "output_type": "stream",
     "text": [
      "(501, 300, 20000)\n"
     ]
    }
   ],
   "source": [
    "\n",
    "import dask\n",
    "import dask.array as da\n",
    "import torch\n",
    "import numpy as np\n",
    "tensor = torch.randn(501,300,20000)\n",
    "chunks_size = (50,300,20000)\n",
    "dask_array = da.from_array(tensor.numpy(), chunks=chunks_size)  \n",
    "print(dask_array.shape)\n",
    "import torch.nn as nn\n",
    "model = nn.Sequential(nn.Flatten(),nn.Linear(in_features=300*200*100, out_features=10))  \n",
    "def inference(chunk, model):\n",
    " \n",
    "    model.eval()\n",
    "\n",
    "\n",
    "    expected_shape = (chunk.shape[0], 300, 20000)\n",
    "    assert chunk.shape == expected_shape, f\"Invalid chunk shape: {chunk.shape}\"\n",
    "\n",
    "    with torch.no_grad():\n",
    "        chunk_tensor = torch.from_numpy(chunk)\n",
    "        chunk_flat = chunk_tensor.view(chunk_tensor.size(0), -1)\n",
    "        output=model(chunk_flat)\n",
    "        \n",
    "    output=output.detach().numpy()\n",
    "    output = output[:,np.newaxis]\n",
    "    return output\n",
    "\n",
    "result = dask_array.map_blocks(inference,model=model,dtype=np.float32,chunks = chunks_size)\n",
    "result_array = result.compute()\n",
    "#\n"
   ]
  },
  {
   "cell_type": "code",
   "execution_count": 2,
   "metadata": {},
   "outputs": [
    {
     "data": {
      "text/plain": [
       "(501, 1, 10)"
      ]
     },
     "execution_count": 2,
     "metadata": {},
     "output_type": "execute_result"
    }
   ],
   "source": [
    "result_array.shape"
   ]
  },
  {
   "cell_type": "code",
   "execution_count": 4,
   "metadata": {},
   "outputs": [
    {
     "data": {
      "text/plain": [
       "torch.Size([500, 10])"
      ]
     },
     "execution_count": 4,
     "metadata": {},
     "output_type": "execute_result"
    }
   ],
   "source": [
    "result_serial = model(tensor)\n",
    "result_serial.shape"
   ]
  },
  {
   "cell_type": "code",
   "execution_count": 4,
   "metadata": {},
   "outputs": [
    {
     "name": "stdout",
     "output_type": "stream",
     "text": [
      "Defaulting to user installation because normal site-packages is not writeable\n",
      "Collecting h5py\n",
      "  Downloading h5py-3.11.0-cp310-cp310-manylinux_2_17_x86_64.manylinux2014_x86_64.whl (5.3 MB)\n",
      "\u001b[2K     \u001b[38;2;114;156;31m━━━━━━━━━━━━━━━━━━━━━━━━━━━━━━━━━━━━━━━━\u001b[0m \u001b[32m5.3/5.3 MB\u001b[0m \u001b[31m29.8 MB/s\u001b[0m eta \u001b[36m0:00:00\u001b[0mm eta \u001b[36m0:00:01\u001b[0m0:01\u001b[0m\n",
      "\u001b[?25hRequirement already satisfied: numpy>=1.17.3 in /home/guillaume/.local/lib/python3.10/site-packages (from h5py) (1.26.4)\n",
      "Installing collected packages: h5py\n",
      "Successfully installed h5py-3.11.0\n"
     ]
    }
   ],
   "source": [
    "!pip install h5py\n"
   ]
  },
  {
   "cell_type": "code",
   "execution_count": 4,
   "metadata": {},
   "outputs": [],
   "source": [
    "import h5py\n",
    "import torch\n",
    "\n",
    "# Suppose your tensor is `tensor` (batch, channel, height, width)\n",
    "tensor = torch.randn(500,60, 224, 224)\n",
    "\n",
    "# Create an HDF5 file\n",
    "with h5py.File('tensor_data.h5', 'w') as hf:\n",
    "    # Create a dataset within the HDF5 file\n",
    "    hf.create_dataset('data', data=tensor.numpy())\n"
   ]
  },
  {
   "cell_type": "code",
   "execution_count": 1,
   "metadata": {},
   "outputs": [],
   "source": [
    "import h5py\n",
    "\n",
    "# Ouverture du fichier HDF5 en mode lecture\n",
    "with h5py.File('tensor_data.h5', 'r') as f:\n",
    "    # Accéder au jeu de données\n",
    "    dataset = f[\"./\"]\n",
    "    dataset_2= f[\"./\"]\n",
    "    dataset_3= f[\"./\"]\n",
    "    dataset_4= f[\"./\"]"
   ]
  },
  {
   "cell_type": "code",
   "execution_count": 2,
   "metadata": {},
   "outputs": [
    {
     "ename": "AttributeError",
     "evalue": "'Group' object has no attribute 'shape'",
     "output_type": "error",
     "traceback": [
      "\u001b[0;31m---------------------------------------------------------------------------\u001b[0m",
      "\u001b[0;31mAttributeError\u001b[0m                            Traceback (most recent call last)",
      "Cell \u001b[0;32mIn[2], line 1\u001b[0m\n\u001b[0;32m----> 1\u001b[0m \u001b[43mdataset\u001b[49m\u001b[38;5;241;43m.\u001b[39;49m\u001b[43mshape\u001b[49m\n",
      "\u001b[0;31mAttributeError\u001b[0m: 'Group' object has no attribute 'shape'"
     ]
    }
   ],
   "source": [
    "dataset.shape"
   ]
  }
 ],
 "metadata": {
  "kernelspec": {
   "display_name": "Python 3",
   "language": "python",
   "name": "python3"
  },
  "language_info": {
   "codemirror_mode": {
    "name": "ipython",
    "version": 3
   },
   "file_extension": ".py",
   "mimetype": "text/x-python",
   "name": "python",
   "nbconvert_exporter": "python",
   "pygments_lexer": "ipython3",
   "version": "3.10.12"
  }
 },
 "nbformat": 4,
 "nbformat_minor": 2
}
