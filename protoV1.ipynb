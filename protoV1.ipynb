{
 "cells": [
  {
   "cell_type": "markdown",
   "metadata": {},
   "source": [
    "## PROTO V1.0\n",
    "<div class='alert alert-success'>\n",
    "Ce petit notebook permet d'évaluer Abstract Torch sur un petit réseau. \n",
    "Pour cela, on créé AbstractNN, un petit réseau composé de 3 couches de convolution suivies de ReLU, puis de deux couches FC suivies également de ReLU. \n",
    "Pour l'entrainement uniquement, un softmax est appliqué en sortie de réseau\n",
    "</div>\n",
    "\n",
    "Dans la classe AbstractNN, la méthode forward de nn.Linear est surchargée de façon standard.\n",
    "C'est à dire que si l'on instancie model=AbstractNN(), model(x) applique forward à x comme dans n'importe quel réseau. \n",
    "\n",
    "AbstractNN possède une méthode abstract_forward() qui fait appelle à AbstractLinear et AbstractReLU. \n",
    "<div class='alert alert-info'>\n",
    "Le lecteur avisé notera que \n",
    "    model(x)=nn.softmax(model.abstract_forward(x_abstract)[0])\n",
    "</div>\n",
    "\n"
   ]
  },
  {
   "cell_type": "code",
   "execution_count": 57,
   "metadata": {},
   "outputs": [
    {
     "name": "stdout",
     "output_type": "stream",
     "text": [
      "The autoreload extension is already loaded. To reload it, use:\n",
      "  %reload_ext autoreload\n"
     ]
    }
   ],
   "source": [
    "\n",
    "\n",
    "%load_ext autoreload\n",
    "%autoreload 2\n",
    "import torch\n",
    "import torch.nn as nn\n",
    "\n",
    "from abstractModule import AbstractLinear as AL\n",
    "from abstractModule import AbstractReLU as AR\n",
    "\n",
    "from util.custom_train import CustomTrainer as T\n",
    "import torchvision.transforms as transforms\n",
    "from torchvision import datasets\n",
    "from torch.utils.data import random_split\n",
    "from torch import optim\n",
    "import os\n",
    "\n",
    "\n"
   ]
  },
  {
   "cell_type": "markdown",
   "metadata": {},
   "source": [
    "Ici on importe le dataset CIFAR0, normalisation et random split pour l'entrainement"
   ]
  },
  {
   "cell_type": "code",
   "execution_count": 39,
   "metadata": {},
   "outputs": [],
   "source": [
    "\n",
    "path ='dataset'\n",
    "\n",
    "os.makedirs(path, exist_ok=True)\n",
    "\n",
    "transform = transforms.Compose([\n",
    "        transforms.ToTensor(),\n",
    "        transforms.Normalize(mean =[0.5], std =[0.2]),\n",
    "        #transforms.Resize((56,56))\n",
    "    ])\n",
    "\n",
    "\n",
    "\n",
    "dataset_train = datasets.FashionMNIST(root = path,transform = transform, download = True, train = True)\n",
    "dataset_test =datasets.FashionMNIST( root =path,transform=transform ,download = True, train = False)\n",
    "val =0.2\n",
    "len_data_train = len(dataset_train)\n",
    "train_size =int((1-val)*len_data_train)\n",
    "\n",
    "val_size = int(val*len_data_train)\n",
    "\n",
    "train_dataset, val_dataset = random_split(dataset_train, [train_size,val_size])\n"
   ]
  },
  {
   "cell_type": "markdown",
   "metadata": {},
   "source": [
    "Ici on génère notre classe AbstractNN et sa fameuse méthode abstrac_forward\n"
   ]
  },
  {
   "cell_type": "code",
   "execution_count": 58,
   "metadata": {},
   "outputs": [],
   "source": [
    "\n",
    "\n",
    "class AbstractNN(nn.Module):\n",
    "    \n",
    "    def __init__(self,num_depth=1,device=torch.device(\"cpu\")):\n",
    "\n",
    "        super(AbstractNN,self).__init__()\n",
    "       \n",
    "      \n",
    "        self.num_depth = num_depth\n",
    "        self.device = device\n",
    "        self.conv1=nn.Conv2d(self.num_depth,16,3,device=self.device)\n",
    "        self.conv2=nn.Conv2d(16,32,3,device=self.device)\n",
    "  \n",
    "\n",
    "       \n",
    "\n",
    "        self.fc1=nn.Sequential(nn.Flatten(),nn.Linear(18432,64,device=self.device))\n",
    "        self.fc2=nn.Sequential(nn.Flatten(),nn.Linear(64,10,device=self.device))\n",
    "        self.softMax =nn.Softmax()\n",
    "    def forward(self,x):\n",
    "        x=self.conv1(x)\n",
    "        x=torch.relu(x)\n",
    "        x=self.conv2(x)\n",
    "        x=torch.relu(x)\n",
    "    \n",
    "    \n",
    "        x=self.fc1(x)\n",
    "        x=torch.relu(x)\n",
    "        x=self.fc2(x)\n",
    "        x=torch.relu(x)\n",
    "        x= self.softMax(x)\n",
    "        return x\n",
    "    \n",
    "    def abstract_forward(self,x,add_symbol=False,device=torch.device(\"cpu\")):\n",
    "        self.device=device\n",
    "        \n",
    "        x_true = x\n",
    "        x_true = x_true[0].unsqueeze(0)\n",
    "\n",
    "        x,x_min,x_max,x_true = AL.abstract_conv2D(self.conv1,x,x_true,device=self.device)\n",
    "        x,x_min,x_max,x_true = AR.abstract_relu_conv2D(x,x_min,x_max,x_true,add_symbol=add_symbol,device =self.device)\n",
    "     \n",
    "       \n",
    "        x,x_min,x_max,x_true = AL.abstract_conv2D(self.conv2,x,x_true,device=self.device)\n",
    "        x,x_min,x_max,x_true = AR.abstract_relu_conv2D(x,x_min,x_max,x_true,add_symbol=add_symbol,device =self.device)\n",
    "       \n",
    "        x,x_min,x_max,x_true = AL.abstract_linear(self.fc1,x,x_true,device=self.device)\n",
    "        x,x_min,x_max,x_true = AR.abstract_relu(x,x_min,x_max,x_true,add_symbol=add_symbol,device =self.device)\n",
    "      \n",
    "        x,x_min,x_max,x_true = AL.abstract_linear(self.fc2,x,x_true,device=self.device)\n",
    "        x,x_min,x_max,x_true = AR.abstract_relu(x,x_min,x_max,x_true,add_symbol=add_symbol,device =self.device)\n",
    "       \n",
    "        \n",
    "        return x,x_min,x_max,x_true\n",
    "        "
   ]
  },
  {
   "cell_type": "markdown",
   "metadata": {},
   "source": [
    "Un petit script pour l'entrainement, disons 40 EPOCH"
   ]
  },
  {
   "cell_type": "code",
   "execution_count": 8,
   "metadata": {},
   "outputs": [
    {
     "name": "stdout",
     "output_type": "stream",
     "text": [
      "----------------------------------------------------------------------------------------------------\n",
      "Epoch 0/10\n",
      "----------------------------------------------------------------------------------------------------\n",
      "EPOCH ACCURACY = 52.54 %\n",
      "****************************************************************************************************\n",
      "train Loss: 1.7152 Acc: 52.5391\n",
      "****************************************************************************************************\n",
      "EPOCH ACCURACY = 75.82 %\n",
      "****************************************************************************************************\n",
      "val Loss: 1.8108 Acc: 75.8232\n",
      "****************************************************************************************************\n",
      "\n",
      "----------------------------------------------------------------------------------------------------\n",
      "Epoch 1/10\n",
      "----------------------------------------------------------------------------------------------------\n",
      "EPOCH ACCURACY = 75.20 %\n",
      "****************************************************************************************************\n",
      "train Loss: 1.7098 Acc: 75.1953\n",
      "****************************************************************************************************\n",
      "EPOCH ACCURACY = 77.09 %\n",
      "****************************************************************************************************\n",
      "val Loss: 1.6929 Acc: 77.0917\n",
      "****************************************************************************************************\n",
      "\n",
      "----------------------------------------------------------------------------------------------------\n",
      "Epoch 2/10\n",
      "----------------------------------------------------------------------------------------------------\n",
      "EPOCH ACCURACY = 77.93 %\n",
      "****************************************************************************************************\n",
      "train Loss: 1.7515 Acc: 77.9297\n",
      "****************************************************************************************************\n",
      "EPOCH ACCURACY = 77.81 %\n",
      "****************************************************************************************************\n",
      "val Loss: 1.6860 Acc: 77.8142\n",
      "****************************************************************************************************\n",
      "\n",
      "----------------------------------------------------------------------------------------------------\n",
      "Epoch 3/10\n",
      "----------------------------------------------------------------------------------------------------\n",
      "EPOCH ACCURACY = 78.12 %\n",
      "****************************************************************************************************\n",
      "train Loss: 1.6992 Acc: 78.1250\n",
      "****************************************************************************************************\n",
      "EPOCH ACCURACY = 77.35 %\n",
      "****************************************************************************************************\n",
      "val Loss: 1.7093 Acc: 77.3521\n",
      "****************************************************************************************************\n",
      "\n",
      "----------------------------------------------------------------------------------------------------\n",
      "Epoch 4/10\n",
      "----------------------------------------------------------------------------------------------------\n",
      "EPOCH ACCURACY = 82.42 %\n",
      "****************************************************************************************************\n",
      "train Loss: 1.6655 Acc: 82.4219\n",
      "****************************************************************************************************\n",
      "EPOCH ACCURACY = 86.47 %\n",
      "****************************************************************************************************\n",
      "val Loss: 1.6146 Acc: 86.4667\n",
      "****************************************************************************************************\n",
      "\n",
      "----------------------------------------------------------------------------------------------------\n",
      "Epoch 5/10\n",
      "----------------------------------------------------------------------------------------------------\n",
      "EPOCH ACCURACY = 90.43 %\n",
      "****************************************************************************************************\n",
      "train Loss: 1.6477 Acc: 90.4297\n",
      "****************************************************************************************************\n",
      "EPOCH ACCURACY = 87.06 %\n",
      "****************************************************************************************************\n",
      "val Loss: 1.6382 Acc: 87.0632\n",
      "****************************************************************************************************\n",
      "\n",
      "----------------------------------------------------------------------------------------------------\n",
      "Epoch 6/10\n",
      "----------------------------------------------------------------------------------------------------\n",
      "EPOCH ACCURACY = 88.09 %\n",
      "****************************************************************************************************\n",
      "train Loss: 1.5639 Acc: 88.0859\n",
      "****************************************************************************************************\n",
      "EPOCH ACCURACY = 87.13 %\n",
      "****************************************************************************************************\n",
      "val Loss: 1.6132 Acc: 87.1304\n",
      "****************************************************************************************************\n",
      "\n",
      "----------------------------------------------------------------------------------------------------\n",
      "Epoch 7/10\n",
      "----------------------------------------------------------------------------------------------------\n",
      "EPOCH ACCURACY = 90.43 %\n",
      "****************************************************************************************************\n",
      "train Loss: 1.6108 Acc: 90.4297\n",
      "****************************************************************************************************\n",
      "EPOCH ACCURACY = 87.56 %\n",
      "****************************************************************************************************\n",
      "val Loss: 1.5905 Acc: 87.5588\n",
      "****************************************************************************************************\n",
      "\n",
      "----------------------------------------------------------------------------------------------------\n",
      "Epoch 8/10\n",
      "----------------------------------------------------------------------------------------------------\n",
      "EPOCH ACCURACY = 94.14 %\n",
      "****************************************************************************************************\n",
      "train Loss: 1.5963 Acc: 94.1406\n",
      "****************************************************************************************************\n",
      "EPOCH ACCURACY = 88.66 %\n",
      "****************************************************************************************************\n",
      "val Loss: 1.6187 Acc: 88.6593\n",
      "****************************************************************************************************\n",
      "\n",
      "----------------------------------------------------------------------------------------------------\n",
      "Epoch 9/10\n",
      "----------------------------------------------------------------------------------------------------\n",
      "EPOCH ACCURACY = 92.38 %\n",
      "****************************************************************************************************\n",
      "train Loss: 1.6063 Acc: 92.3828\n",
      "****************************************************************************************************\n",
      "EPOCH ACCURACY = 88.93 %\n",
      "****************************************************************************************************\n",
      "val Loss: 1.6434 Acc: 88.9281\n",
      "****************************************************************************************************\n",
      "\n",
      "Training complete in 1m 43s\n",
      "Best val Acc: 88.928093\n"
     ]
    }
   ],
   "source": [
    "model =AbstractNN(num_depth=1,device=torch.device('mps'))\n",
    "\n",
    "num_epochs =10\n",
    "learning_rate=0.01\n",
    "batch_size = 128\n",
    "device = torch.device('mps')\n",
    "optimizer = optim.Adam(model.parameters(), betas=(0.9, 0.99))\n",
    "scheduler =  optim.lr_scheduler.StepLR(optimizer, step_size=40, gamma=0.98)\n",
    "criterion = nn.CrossEntropyLoss()\n",
    "TD= T(model=model,\n",
    "            device=device\n",
    "                            )\n",
    "model = TD.train_model(train_dataset,val_dataset,\n",
    "                        criterion=criterion,  \n",
    "                        batch_size= batch_size,\n",
    "                        optimizer=optimizer,\n",
    "                        scheduler=scheduler,\n",
    "                        num_epochs=num_epochs,\n",
    "                        learning_rate=learning_rate,\n",
    "                        resname='SimpleCNN',verbose=False)"
   ]
  },
  {
   "cell_type": "code",
   "execution_count": 59,
   "metadata": {},
   "outputs": [
    {
     "data": {
      "text/plain": [
       "<All keys matched successfully>"
      ]
     },
     "execution_count": 59,
     "metadata": {},
     "output_type": "execute_result"
    }
   ],
   "source": [
    "model=AbstractNN(num_depth=1,device=torch.device('mps')    )\n",
    "model.load_state_dict(torch.load('dataset/SimpleCNN_9_valacc_88.92809295654297.pth'))"
   ]
  },
  {
   "cell_type": "code",
   "execution_count": 60,
   "metadata": {},
   "outputs": [
    {
     "name": "stdout",
     "output_type": "stream",
     "text": [
      "Label:1\n"
     ]
    },
    {
     "data": {
      "text/plain": [
       "torch.Size([1, 28, 28])"
      ]
     },
     "execution_count": 60,
     "metadata": {},
     "output_type": "execute_result"
    },
    {
     "data": {
      "image/png": "[encoded data removed]",
      "text/plain": [
       "<Figure size 640x480 with 1 Axes>"
      ]
     },
     "metadata": {},
     "output_type": "display_data"
    }
   ],
   "source": [
    "import matplotlib.pyplot as plt\n",
    "import numpy as np\n",
    "\n",
    "img, label = dataset_train[151]\n",
    "plt.imshow(img[0])\n",
    "print(f\"Label:{label}\")\n",
    "img.shape"
   ]
  },
  {
   "cell_type": "code",
   "execution_count": 61,
   "metadata": {},
   "outputs": [
    {
     "name": "stdout",
     "output_type": "stream",
     "text": [
      "tensor(5.)\n",
      "torch.Size([1, 28, 28])\n"
     ]
    }
   ],
   "source": [
    "max= torch.max(img)\n",
    "min = torch.min(img)\n",
    "scale = max-min\n",
    "print(scale)\n",
    "\n",
    "from abstract import abstractTensor as AT\n",
    "\n",
    "x=AT(img,alpha =0.1*scale*torch.ones(28*28))\n",
    "x=x.abstract_tensor()\n",
    "x.shape\n",
    "x=x.to(device)\n"
   ]
  },
  {
   "cell_type": "code",
   "execution_count": 63,
   "metadata": {},
   "outputs": [
    {
     "name": "stdout",
     "output_type": "stream",
     "text": [
      "x.shape=torch.Size([786, 1, 28, 28])\n",
      "x.shape=torch.Size([786, 16, 26, 26])\n",
      "torch.mps.FloatTensor\n",
      "torch.mps.FloatTensor\n",
      "y_min       =  tensor([-1061.0667, -2411.8379, -1893.1394, -1318.5994, -1987.1194, -1955.1594,\n",
      "        -2075.0361, -2076.4966, -2201.0068, -2032.3173], device='mps:0')\n",
      "y_max       =  tensor([1765.2549, 4433.8540, 3756.4128, 2438.4661, 3677.7039, 3644.8381,\n",
      "        3823.1348, 3657.1904, 4178.8008, 3873.8770], device='mps:0')\n",
      "center Ztp  =  tensor([ 352.0941, 1011.0081,  931.6367,  559.9333,  845.2923,  844.8394,\n",
      "         874.0494,  790.3468,  988.8971,  920.7799], device='mps:0')\n",
      "y_true      =  tensor([[ 0.0000, 20.4091,  0.0000,  5.9814,  0.0000,  0.0000,  0.0000,  0.0000,\n",
      "          0.0000,  0.0000]], device='mps:0')\n",
      "y_max-x_min =  tensor([2826.3215, 6845.6919, 5649.5522, 3757.0654, 5664.8232, 5599.9976,\n",
      "        5898.1709, 5733.6870, 6379.8076, 5906.1943], device='mps:0')\n",
      "Trash symbol=  tensor([1406.2231, 3400.4595, 2798.9148, 1864.9375, 2804.0410, 2778.2612,\n",
      "        2922.9746, 2846.7637, 3166.9829, 2929.0994], device='mps:0')\n"
     ]
    },
    {
     "name": "stderr",
     "output_type": "stream",
     "text": [
      "/Users/guillaumeberthelot/anaconda3/envs/NumalisEnv/lib/python3.12/site-packages/torch/nn/modules/module.py:1511: UserWarning: Implicit dimension choice for softmax has been deprecated. Change the call to include dim=X as an argument.\n",
      "  return self._call_impl(*args, **kwargs)\n"
     ]
    }
   ],
   "source": [
    "with torch.no_grad():\n",
    "   result_1= model(x[0].unsqueeze(0))  \n",
    " \n",
    "   result,x_min,x_max,x_true=model.abstract_forward(x,add_symbol=False,device=torch.device('mps'))\n",
    "\n",
    "print(f\"y_min       =  {x_min}\")\n",
    "print(f\"y_max       =  {x_max}\")\n",
    "print(f\"center Ztp  =  {result[0]}\")\n",
    "print(f\"y_true      =  {x_true[:]}\")\n",
    "print(f\"y_max-x_min =  {x_max-x_min}\")\n",
    "print(f\"Trash symbol=  {result[-1]}\")\n"
   ]
  },
  {
   "cell_type": "markdown",
   "metadata": {},
   "source": [
    "Voici le premier affichage de relevance calculé par AbstractTorch"
   ]
  },
  {
   "cell_type": "code",
   "execution_count": 37,
   "metadata": {},
   "outputs": [
    {
     "name": "stdout",
     "output_type": "stream",
     "text": [
      "tensor(2, device='mps:0')\n",
      "torch.Size([784])\n"
     ]
    },
    {
     "data": {
      "text/plain": [
       "<matplotlib.image.AxesImage at 0x186fc50d0>"
      ]
     },
     "execution_count": 37,
     "metadata": {},
     "output_type": "execute_result"
    },
    {
     "data": {
      "image/png": "[encoded data removed]",
      "text/plain": [
       "<Figure size 640x480 with 1 Axes>"
      ]
     },
     "metadata": {},
     "output_type": "display_data"
    }
   ],
   "source": [
    "value=torch.argmax(result[0])\n",
    "print(value)\n",
    "concat= torch.abs(result[1:785,value])\n",
    "print(concat.size())\n",
    "\n",
    "concat = concat.reshape(28,28)\n",
    "plt.imshow(torch.abs(concat.cpu()).numpy(), cmap='viridis')"
   ]
  },
  {
   "cell_type": "code",
   "execution_count": 51,
   "metadata": {},
   "outputs": [
    {
     "name": "stdout",
     "output_type": "stream",
     "text": [
      "tensor([[ 0.0011,  0.0013, -0.0039,  0.0012, -0.0045,  0.0067, -0.0115, -0.0015,\n",
      "         -0.0049,  0.0115],\n",
      "        [-0.0002, -0.0028,  0.0111, -0.0015,  0.0071,  0.0115, -0.0055, -0.0057,\n",
      "          0.0044,  0.0183]], device='mps:0')\n"
     ]
    }
   ],
   "source": [
    "print(result[3:5])"
   ]
  },
  {
   "cell_type": "code",
   "execution_count": 56,
   "metadata": {},
   "outputs": [
    {
     "data": {
      "text/plain": [
       "Parameter containing:\n",
       "tensor([[[[0.2537, 0.0167, 0.1305],\n",
       "          [0.1052, 0.1695, 0.2609],\n",
       "          [0.0886, 0.0025, 0.2177]]],\n",
       "\n",
       "\n",
       "        [[[0.2761, 0.0884, 0.1541],\n",
       "          [0.2721, 0.0814, 0.1246],\n",
       "          [0.1325, 0.3320, 0.2972]]],\n",
       "\n",
       "\n",
       "        [[[0.1891, 0.1927, 0.2050],\n",
       "          [0.2753, 0.0490, 0.2952],\n",
       "          [0.1593, 0.0976, 0.2917]]],\n",
       "\n",
       "\n",
       "        [[[0.0159, 0.2230, 0.1096],\n",
       "          [0.1043, 0.2483, 0.1768],\n",
       "          [0.2012, 0.0115, 0.1176]]],\n",
       "\n",
       "\n",
       "        [[[0.2600, 0.2561, 0.0105],\n",
       "          [0.1662, 0.1928, 0.1613],\n",
       "          [0.2476, 0.2930, 0.0605]]],\n",
       "\n",
       "\n",
       "        [[[0.1119, 0.1599, 0.3238],\n",
       "          [0.0440, 0.0880, 0.2949],\n",
       "          [0.0684, 0.0060, 0.1955]]],\n",
       "\n",
       "\n",
       "        [[[0.0143, 0.1668, 0.1858],\n",
       "          [0.2134, 0.1904, 0.2757],\n",
       "          [0.0364, 0.0386, 0.0589]]],\n",
       "\n",
       "\n",
       "        [[[0.2726, 0.3283, 0.2754],\n",
       "          [0.1503, 0.0856, 0.0088],\n",
       "          [0.1148, 0.2760, 0.0522]]],\n",
       "\n",
       "\n",
       "        [[[0.2409, 0.2117, 0.2828],\n",
       "          [0.0393, 0.2832, 0.1491],\n",
       "          [0.1475, 0.0955, 0.2484]]],\n",
       "\n",
       "\n",
       "        [[[0.2925, 0.3041, 0.1844],\n",
       "          [0.0940, 0.0180, 0.0246],\n",
       "          [0.3006, 0.1616, 0.1134]]],\n",
       "\n",
       "\n",
       "        [[[0.2667, 0.2632, 0.0231],\n",
       "          [0.2854, 0.1638, 0.2079],\n",
       "          [0.2513, 0.2979, 0.1085]]],\n",
       "\n",
       "\n",
       "        [[[0.1298, 0.2152, 0.1416],\n",
       "          [0.0985, 0.0113, 0.0939],\n",
       "          [0.1893, 0.1832, 0.1303]]],\n",
       "\n",
       "\n",
       "        [[[0.1759, 0.2357, 0.0714],\n",
       "          [0.0865, 0.0852, 0.2113],\n",
       "          [0.1204, 0.3195, 0.2059]]],\n",
       "\n",
       "\n",
       "        [[[0.0252, 0.0257, 0.3037],\n",
       "          [0.2758, 0.0789, 0.2999],\n",
       "          [0.2163, 0.0205, 0.1723]]],\n",
       "\n",
       "\n",
       "        [[[0.0122, 0.1806, 0.2985],\n",
       "          [0.2097, 0.2438, 0.2302],\n",
       "          [0.0692, 0.1051, 0.0889]]],\n",
       "\n",
       "\n",
       "        [[[0.0309, 0.2295, 0.0663],\n",
       "          [0.3151, 0.3000, 0.2970],\n",
       "          [0.0186, 0.1587, 0.1612]]]], requires_grad=True)"
      ]
     },
     "execution_count": 56,
     "metadata": {},
     "output_type": "execute_result"
    }
   ],
   "source": [
    "conv= nn.Conv2d(1,16,3)\n",
    "conv.weight.data=torch.abs(conv.weight.data)\n",
    "conv.weight"
   ]
  }
 ],
 "metadata": {
  "kernelspec": {
   "display_name": "Python 3",
   "language": "python",
   "name": "python3"
  },
  "language_info": {
   "codemirror_mode": {
    "name": "ipython",
    "version": 3
   },
   "file_extension": ".py",
   "mimetype": "text/x-python",
   "name": "python",
   "nbconvert_exporter": "python",
   "pygments_lexer": "ipython3",
   "version": "3.10.12"
  }
 },
 "nbformat": 4,
 "nbformat_minor": 2
}
