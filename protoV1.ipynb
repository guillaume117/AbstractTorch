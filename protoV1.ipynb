{
 "cells": [
  {
   "cell_type": "markdown",
   "metadata": {},
   "source": [
    "## PROTO V1.0\n",
    "<div class='alert alert-success'>\n",
    "Ce petit notebook permet d'évaluer Abstract Torch sur un petit réseau. \n",
    "Pour cela, on créé AbstractNN, un petit réseau composé de 3 couches de convolution suivies de ReLU, puis de deux couches FC suivies également de ReLU. \n",
    "Pour l'entrainement uniquement, un softmax est appliqué en sortie de réseau\n",
    "</div>\n",
    "\n",
    "Dans la classe AbstractNN, la méthode forward de nn.Linear est surchargée de façon standard.\n",
    "C'est à dire que si l'on instancie model=AbstractNN(), model(x) applique forward à x comme dans n'importe quel réseau. \n",
    "\n",
    "AbstractNN possède une méthode abstract_forward() qui fait appelle à AbstractLinear et AbstractReLU. \n",
    "<div class='alert alert-info'>\n",
    "Le lecteur avisé notera que \n",
    "    model(x)=nn.softmax(model.abstract_forward(x_abstract)[0])\n",
    "</div>\n",
    "\n"
   ]
  },
  {
   "cell_type": "code",
   "execution_count": 32,
   "metadata": {},
   "outputs": [
    {
     "name": "stdout",
     "output_type": "stream",
     "text": [
      "The autoreload extension is already loaded. To reload it, use:\n",
      "  %reload_ext autoreload\n"
     ]
    }
   ],
   "source": [
    "\n",
    "\n",
    "%load_ext autoreload\n",
    "%autoreload 2\n",
    "import torch\n",
    "import torch.nn as nn\n",
    "\n",
    "from abstractModule import AbstractLinear as AL\n",
    "from abstractModule import AbstractReLU as AR\n",
    "from abstractModule import AbstractMaxpool2D as AM\n",
    "\n",
    "from util.custom_train import CustomTrainer as T\n",
    "import torchvision.transforms as transforms\n",
    "from torchvision import datasets\n",
    "from torch.utils.data import random_split\n",
    "from torch import optim\n",
    "import os\n",
    "\n",
    "\n",
    "device = torch.device('cpu')"
   ]
  },
  {
   "cell_type": "markdown",
   "metadata": {},
   "source": [
    "Ici on importe le dataset FashionMNIST normalisation et random split pour l'entrainement"
   ]
  },
  {
   "cell_type": "code",
   "execution_count": 34,
   "metadata": {},
   "outputs": [],
   "source": [
    "\n",
    "path ='dataset'\n",
    "\n",
    "os.makedirs(path, exist_ok=True)\n",
    "\n",
    "transform = transforms.Compose([\n",
    "        transforms.ToTensor(),\n",
    "        transforms.Normalize(mean =[0.5], std =[0.2]),\n",
    "        #transforms.Resize((56,56))\n",
    "    ])\n",
    "\n",
    "\n",
    "\n",
    "dataset_train = datasets.FashionMNIST(root = path,transform = transform, download = True, train = True)\n",
    "dataset_test =datasets.FashionMNIST( root =path,transform=transform ,download = True, train = False)\n",
    "val =0.2\n",
    "len_data_train = len(dataset_train)\n",
    "train_size =int((1-val)*len_data_train)\n",
    "\n",
    "val_size = int(val*len_data_train)\n",
    "\n",
    "train_dataset, val_dataset = random_split(dataset_train, [train_size,val_size])\n"
   ]
  },
  {
   "cell_type": "markdown",
   "metadata": {},
   "source": [
    "Ici on génère notre classe AbstractNN et sa fameuse méthode abstrac_forward\n"
   ]
  },
  {
   "cell_type": "code",
   "execution_count": 42,
   "metadata": {},
   "outputs": [],
   "source": [
    "\n",
    "\n",
    "class AbstractNN(nn.Module):\n",
    "    \n",
    "    def __init__(self,num_depth=1,device=torch.device(\"cpu\")):\n",
    "\n",
    "        super(AbstractNN,self).__init__()\n",
    "       \n",
    "      \n",
    "        self.num_depth = num_depth\n",
    "        self.device = device\n",
    "        self.conv1=nn.Conv2d(self.num_depth,16,3,device=self.device)\n",
    "        self.conv2=nn.Conv2d(16,32,3,device=self.device)\n",
    "        self.maxpool = nn.MaxPool2d(2,2)\n",
    "  \n",
    "\n",
    "       \n",
    "\n",
    "        self.fc1=nn.Sequential(nn.Flatten(),nn.Linear(4608,64,device=self.device))\n",
    "        self.fc2=nn.Sequential(nn.Flatten(),nn.Linear(64,10,device=self.device))\n",
    "        self.softMax =nn.Softmax()\n",
    "    def forward(self,x):\n",
    "        x=self.conv1(x)\n",
    "        x=torch.relu(x)\n",
    "        x=self.conv2(x)\n",
    "        x=torch.relu(x)\n",
    "        x=self.maxpool(x)\n",
    "    \n",
    "        x=self.fc1(x)\n",
    "        x=torch.relu(x)\n",
    "        x=self.fc2(x)\n",
    "        x=torch.relu(x)\n",
    "        x= self.softMax(x)\n",
    "        return x\n",
    "    \n",
    "    def abstract_forward(self,x,add_symbol=False,device=torch.device(\"cpu\")):\n",
    "        self.device=device\n",
    "        \n",
    "        x_true = x\n",
    "        x_true = x_true[0].unsqueeze(0)\n",
    "\n",
    "        x,x_min,x_max,x_true = AL.abstract_conv2D(self.conv1,x,x_true,device=self.device)\n",
    "        x,x_min,x_max,x_true = AR.abstract_relu_conv2D(x,x_min,x_max,x_true,add_symbol=add_symbol,device =self.device)\n",
    "     \n",
    "       \n",
    "        x,x_min,x_max,x_true = AL.abstract_conv2D(self.conv2,x,x_true,device=self.device)\n",
    "        x,x_min,x_max,x_true = AR.abstract_relu_conv2D(x,x_min,x_max,x_true,add_symbol=add_symbol,device =self.device)\n",
    "        x,x_min,x_max ,x_true = AM.abstract_maxpool2D(self.maxpool,x,x_true)\n",
    "        x,x_min,x_max,x_true = AL.abstract_linear(self.fc1,x,x_true,device=self.device)\n",
    "        x,x_min,x_max,x_true = AR.abstract_relu(x,x_min,x_max,x_true,add_symbol=add_symbol,device =self.device)\n",
    "      \n",
    "        x,x_min,x_max,x_true = AL.abstract_linear(self.fc2,x,x_true,device=self.device)\n",
    "        x,x_min,x_max,x_true = AR.abstract_relu(x,x_min,x_max,x_true,add_symbol=add_symbol,device =self.device)\n",
    "       \n",
    "        \n",
    "        return x,x_min,x_max,x_true\n",
    "        "
   ]
  },
  {
   "cell_type": "markdown",
   "metadata": {},
   "source": [
    "Un petit script pour l'entrainement, disons 10 EPOCH"
   ]
  },
  {
   "cell_type": "code",
   "execution_count": 37,
   "metadata": {},
   "outputs": [
    {
     "name": "stdout",
     "output_type": "stream",
     "text": [
      "----------------------------------------------------------------------------------------------------\n",
      "Epoch 0/10\n",
      "----------------------------------------------------------------------------------------------------\n"
     ]
    },
    {
     "name": "stderr",
     "output_type": "stream",
     "text": [
      "/home/guillaume/.local/lib/python3.10/site-packages/torch/nn/modules/module.py:1511: UserWarning: Implicit dimension choice for softmax has been deprecated. Change the call to include dim=X as an argument.\n",
      "  return self._call_impl(*args, **kwargs)\n"
     ]
    },
    {
     "name": "stdout",
     "output_type": "stream",
     "text": [
      "EPOCH ACCURACY = 48.24 %\n",
      "****************************************************************************************************\n",
      "train Loss: 1.7858 Acc: 48.2422\n",
      "****************************************************************************************************\n",
      "EPOCH ACCURACY = 66.58 %\n",
      "****************************************************************************************************\n",
      "val Loss: 1.8420 Acc: 66.5827\n",
      "****************************************************************************************************\n",
      "\n",
      "----------------------------------------------------------------------------------------------------\n",
      "Epoch 1/10\n",
      "----------------------------------------------------------------------------------------------------\n",
      "EPOCH ACCURACY = 74.02 %\n",
      "****************************************************************************************************\n",
      "train Loss: 1.6768 Acc: 74.0234\n",
      "****************************************************************************************************\n",
      "EPOCH ACCURACY = 81.14 %\n",
      "****************************************************************************************************\n",
      "val Loss: 1.6454 Acc: 81.1408\n",
      "****************************************************************************************************\n",
      "\n",
      "----------------------------------------------------------------------------------------------------\n",
      "Epoch 2/10\n",
      "----------------------------------------------------------------------------------------------------\n",
      "EPOCH ACCURACY = 81.25 %\n",
      "****************************************************************************************************\n",
      "train Loss: 1.6387 Acc: 81.2500\n",
      "****************************************************************************************************\n",
      "EPOCH ACCURACY = 82.12 %\n",
      "****************************************************************************************************\n",
      "val Loss: 1.6596 Acc: 82.1153\n",
      "****************************************************************************************************\n",
      "\n",
      "----------------------------------------------------------------------------------------------------\n",
      "Epoch 3/10\n",
      "----------------------------------------------------------------------------------------------------\n",
      "EPOCH ACCURACY = 84.38 %\n",
      "****************************************************************************************************\n",
      "train Loss: 1.5839 Acc: 84.3750\n",
      "****************************************************************************************************\n",
      "EPOCH ACCURACY = 82.70 %\n",
      "****************************************************************************************************\n",
      "val Loss: 1.6665 Acc: 82.7033\n",
      "****************************************************************************************************\n",
      "\n",
      "----------------------------------------------------------------------------------------------------\n",
      "Epoch 4/10\n",
      "----------------------------------------------------------------------------------------------------\n",
      "EPOCH ACCURACY = 79.88 %\n",
      "****************************************************************************************************\n",
      "train Loss: 1.6222 Acc: 79.8828\n",
      "****************************************************************************************************\n",
      "EPOCH ACCURACY = 82.93 %\n",
      "****************************************************************************************************\n",
      "val Loss: 1.6556 Acc: 82.9301\n",
      "****************************************************************************************************\n",
      "\n",
      "----------------------------------------------------------------------------------------------------\n",
      "Epoch 5/10\n",
      "----------------------------------------------------------------------------------------------------\n",
      "EPOCH ACCURACY = 83.79 %\n",
      "****************************************************************************************************\n",
      "train Loss: 1.6067 Acc: 83.7891\n",
      "****************************************************************************************************\n",
      "EPOCH ACCURACY = 83.17 %\n",
      "****************************************************************************************************\n",
      "val Loss: 1.6279 Acc: 83.1653\n",
      "****************************************************************************************************\n",
      "\n",
      "----------------------------------------------------------------------------------------------------\n",
      "Epoch 6/10\n",
      "----------------------------------------------------------------------------------------------------\n",
      "EPOCH ACCURACY = 86.33 %\n",
      "****************************************************************************************************\n",
      "train Loss: 1.6632 Acc: 86.3281\n",
      "****************************************************************************************************\n",
      "EPOCH ACCURACY = 83.32 %\n",
      "****************************************************************************************************\n",
      "val Loss: 1.6589 Acc: 83.3249\n",
      "****************************************************************************************************\n",
      "\n",
      "----------------------------------------------------------------------------------------------------\n",
      "Epoch 7/10\n",
      "----------------------------------------------------------------------------------------------------\n",
      "EPOCH ACCURACY = 84.38 %\n",
      "****************************************************************************************************\n",
      "train Loss: 1.5651 Acc: 84.3750\n",
      "****************************************************************************************************\n",
      "EPOCH ACCURACY = 83.54 %\n",
      "****************************************************************************************************\n",
      "val Loss: 1.6528 Acc: 83.5434\n",
      "****************************************************************************************************\n",
      "\n",
      "----------------------------------------------------------------------------------------------------\n",
      "Epoch 8/10\n",
      "----------------------------------------------------------------------------------------------------\n",
      "EPOCH ACCURACY = 83.59 %\n",
      "****************************************************************************************************\n",
      "train Loss: 1.6394 Acc: 83.5938\n",
      "****************************************************************************************************\n",
      "EPOCH ACCURACY = 83.41 %\n",
      "****************************************************************************************************\n",
      "val Loss: 1.6533 Acc: 83.4089\n",
      "****************************************************************************************************\n",
      "\n",
      "----------------------------------------------------------------------------------------------------\n",
      "Epoch 9/10\n",
      "----------------------------------------------------------------------------------------------------\n",
      "EPOCH ACCURACY = 84.18 %\n",
      "****************************************************************************************************\n",
      "train Loss: 1.5984 Acc: 84.1797\n",
      "****************************************************************************************************\n",
      "EPOCH ACCURACY = 83.81 %\n",
      "****************************************************************************************************\n",
      "val Loss: 1.6196 Acc: 83.8122\n",
      "****************************************************************************************************\n",
      "\n",
      "Training complete in 1m 56s\n",
      "Best val Acc: 83.812164\n"
     ]
    }
   ],
   "source": [
    "model =AbstractNN(num_depth=1,device=torch.device('cpu'))\n",
    "\n",
    "num_epochs =10\n",
    "learning_rate=0.01\n",
    "batch_size = 128\n",
    "\n",
    "optimizer = optim.Adam(model.parameters(), betas=(0.9, 0.99))\n",
    "scheduler =  optim.lr_scheduler.StepLR(optimizer, step_size=40, gamma=0.98)\n",
    "criterion = nn.CrossEntropyLoss()\n",
    "TD= T(model=model,\n",
    "            device=device\n",
    "                            )\n",
    "model = TD.train_model(train_dataset,val_dataset,\n",
    "                        criterion=criterion,  \n",
    "                        batch_size= batch_size,\n",
    "                        optimizer=optimizer,\n",
    "                        scheduler=scheduler,\n",
    "                        num_epochs=num_epochs,\n",
    "                        learning_rate=learning_rate,\n",
    "                        resname='SimpleCNN',verbose=False)"
   ]
  },
  {
   "cell_type": "code",
   "execution_count": 43,
   "metadata": {},
   "outputs": [
    {
     "data": {
      "text/plain": [
       "<All keys matched successfully>"
      ]
     },
     "execution_count": 43,
     "metadata": {},
     "output_type": "execute_result"
    }
   ],
   "source": [
    "model=AbstractNN(num_depth=1,device=torch.device('cpu')    )\n",
    "model.load_state_dict(torch.load('dataset/FMNISTMAXPOOL.pth'))"
   ]
  },
  {
   "cell_type": "code",
   "execution_count": 39,
   "metadata": {},
   "outputs": [
    {
     "name": "stdout",
     "output_type": "stream",
     "text": [
      "Label:9\n"
     ]
    },
    {
     "data": {
      "text/plain": [
       "torch.Size([1, 28, 28])"
      ]
     },
     "execution_count": 39,
     "metadata": {},
     "output_type": "execute_result"
    },
    {
     "data": {
      "image/png": "[encoded data removed]",
      "text/plain": [
       "<Figure size 640x480 with 1 Axes>"
      ]
     },
     "metadata": {},
     "output_type": "display_data"
    }
   ],
   "source": [
    "import matplotlib.pyplot as plt\n",
    "import numpy as np\n",
    "\n",
    "img, label = dataset_train[0]\n",
    "plt.imshow(img[0])\n",
    "print(f\"Label:{label}\")\n",
    "img.shape"
   ]
  },
  {
   "cell_type": "code",
   "execution_count": 44,
   "metadata": {},
   "outputs": [
    {
     "name": "stdout",
     "output_type": "stream",
     "text": [
      "tensor(5.)\n",
      "torch.Size([1, 28, 28])\n",
      "torch.Size([786, 1, 28, 28])\n"
     ]
    }
   ],
   "source": [
    "max= torch.max(img)\n",
    "min = torch.min(img)\n",
    "scale = max-min\n",
    "print(scale)\n",
    "\n",
    "from abstract import abstractTensor as AT\n",
    "\n",
    "x=AT(img,alpha =0.01*scale*torch.ones(28*28))\n",
    "x=x.abstract_tensor()\n",
    "x.shape\n",
    "x=x.to(device)\n",
    "print(x.shape)\n"
   ]
  },
  {
   "cell_type": "code",
   "execution_count": 45,
   "metadata": {},
   "outputs": [
    {
     "name": "stderr",
     "output_type": "stream",
     "text": [
      "/home/guillaume/.local/lib/python3.10/site-packages/torch/nn/modules/module.py:1511: UserWarning: Implicit dimension choice for softmax has been deprecated. Change the call to include dim=X as an argument.\n",
      "  return self._call_impl(*args, **kwargs)\n"
     ]
    },
    {
     "name": "stdout",
     "output_type": "stream",
     "text": [
      "x.shape=torch.Size([786, 1, 28, 28])\n",
      "x.shape=torch.Size([786, 16, 26, 26])\n",
      "x.shape torch.Size([786, 32, 24, 24])\n",
      "x.shape=torch.Size([786, 32, 24, 24])\n",
      "x.shape=torch.Size([786, 32, 24, 24])\n",
      "okqsdqd\n",
      "x_result.shape torch.Size([786, 32, 12, 12])\n",
      "x_result_1.shape torch.Size([786, 32, 12, 12])\n",
      "x_result.shape=torch.Size([786, 32, 12, 12])\n",
      "okok\n",
      "x.shape=torch.Size([786, 32, 24, 24])\n",
      "x.shape=torch.Size([786, 32, 24, 24])\n",
      "y_min       =  tensor([-40.4226, -42.4901, -49.3240, -43.2498, -22.5819, -51.0076, -48.5738,\n",
      "        -46.7648, -45.9595, -45.5057])\n",
      "y_max       =  tensor([72.0277, 78.7407, 87.0815, 78.8391, 35.4394, 99.9589, 89.8554, 83.7662,\n",
      "        92.5483, 83.6891])\n",
      "center Ztp  =  tensor([15.8025, 18.1253, 18.8788, 17.7947,  6.4287, 24.4757, 20.6408, 18.5007,\n",
      "        23.2944, 19.0917])\n",
      "y_true      =  tensor([[0.0000, 0.0000, 0.0000, 0.0000, 0.0000, 3.4255, 0.0000, 0.0000, 1.0786,\n",
      "         0.0000]])\n",
      "y_max-x_min =  tensor([112.4503, 121.2308, 136.4055, 122.0889,  58.0213, 150.9665, 138.4292,\n",
      "        130.5310, 138.5078, 129.1948])\n",
      "Trash symbol=  tensor([55.6099, 60.0035, 67.4551, 60.4794, 28.8053, 74.6519, 68.3861, 64.6909,\n",
      "        68.5418, 63.7378])\n"
     ]
    }
   ],
   "source": [
    "with torch.no_grad():\n",
    "   result_1= model(x[0].unsqueeze(0))  \n",
    " \n",
    "   result,x_min,x_max,x_true=model.abstract_forward(x,add_symbol=False,device=torch.device('cpu'))\n",
    "\n",
    "print(f\"y_min       =  {x_min}\")\n",
    "print(f\"y_max       =  {x_max}\")\n",
    "print(f\"center Ztp  =  {result[0]}\")\n",
    "print(f\"y_true      =  {x_true[:]}\")\n",
    "print(f\"y_max-x_min =  {x_max-x_min}\")\n",
    "print(f\"Trash symbol=  {result[-1]}\")"
   ]
  },
  {
   "cell_type": "code",
   "execution_count": 46,
   "metadata": {},
   "outputs": [
    {
     "name": "stdout",
     "output_type": "stream",
     "text": [
      "x.shape=torch.Size([786, 1, 28, 28])\n",
      "x.shape=torch.Size([1375, 16, 26, 26])\n",
      "x.shape torch.Size([4717, 32, 24, 24])\n",
      "x.shape=torch.Size([4717, 32, 24, 24])\n",
      "x.shape=torch.Size([4717, 32, 24, 24])\n",
      "okqsdqd\n",
      "x_result.shape torch.Size([4717, 32, 12, 12])\n",
      "x_result_1.shape torch.Size([4717, 32, 12, 12])\n",
      "x_result.shape=torch.Size([4717, 32, 12, 12])\n",
      "okok\n",
      "x.shape=torch.Size([4717, 32, 24, 24])\n",
      "x.shape=torch.Size([4717, 32, 24, 24])\n",
      "y_min       =  tensor([-11.3877, -12.4670, -14.5835, -12.3904,  -4.7018, -15.2006, -15.0953,\n",
      "        -12.8783, -14.2625, -14.6799])\n",
      "y_max       =  tensor([17.2644, 20.2509, 22.4207, 20.5082,  5.9007, 33.2228, 26.3979, 20.4350,\n",
      "        32.2409, 25.5807])\n",
      "center Ztp  =  tensor([2.9384, 3.8920, 3.9186, 4.0589, 0.5995, 9.0111, 5.6513, 3.7783, 8.9892,\n",
      "        5.4504])\n",
      "y_true      =  tensor([[0.0000, 0.0000, 0.0000, 0.0000, 0.0000, 3.7827, 0.0000, 0.0000, 3.5591,\n",
      "         0.0000]])\n",
      "y_max-x_min =  tensor([28.6521, 32.7179, 37.0042, 32.8985, 10.6026, 48.4233, 41.4932, 33.3132,\n",
      "        46.5034, 40.2607])\n",
      "Trash symbol=  tensor([0., 0., 0., 0., 0., 0., 0., 0., 0., 0.])\n"
     ]
    }
   ],
   "source": [
    "with torch.no_grad():\n",
    "   result_1= model(x[0].unsqueeze(0))  \n",
    " \n",
    "   result,x_min,x_max,x_true=model.abstract_forward(x,add_symbol=True,device=torch.device('cpu'))\n",
    "\n",
    "print(f\"y_min       =  {x_min}\")\n",
    "print(f\"y_max       =  {x_max}\")\n",
    "print(f\"center Ztp  =  {result[0]}\")\n",
    "print(f\"y_true      =  {x_true[:]}\")\n",
    "print(f\"y_max-x_min =  {x_max-x_min}\")\n",
    "print(f\"Trash symbol=  {result[-1]}\")\n"
   ]
  },
  {
   "cell_type": "markdown",
   "metadata": {},
   "source": [
    "Voici le premier affichage de relevance calculé par AbstractTorch"
   ]
  },
  {
   "cell_type": "code",
   "execution_count": 47,
   "metadata": {},
   "outputs": [
    {
     "name": "stdout",
     "output_type": "stream",
     "text": [
      "tensor(5)\n",
      "torch.Size([784])\n"
     ]
    },
    {
     "data": {
      "text/plain": [
       "<matplotlib.colorbar.Colorbar at 0x790b7f9772b0>"
      ]
     },
     "execution_count": 47,
     "metadata": {},
     "output_type": "execute_result"
    },
    {
     "data": {
      "image/png": "[encoded data removed]",
      "text/plain": [
       "<Figure size 640x480 with 2 Axes>"
      ]
     },
     "metadata": {},
     "output_type": "display_data"
    }
   ],
   "source": [
    "value=torch.argmax(result[0])\n",
    "print(value)\n",
    "concat= torch.abs(result[1:785,value])\n",
    "print(concat.size())\n",
    "\n",
    "concat = concat.reshape(28,28)\n",
    "plt.imshow(torch.abs(concat.cpu()).numpy(), cmap='viridis')\n",
    "plt.colorbar()"
   ]
  },
  {
   "cell_type": "code",
   "execution_count": null,
   "metadata": {},
   "outputs": [],
   "source": [
    "print(result[3:5])"
   ]
  },
  {
   "cell_type": "code",
   "execution_count": null,
   "metadata": {},
   "outputs": [],
   "source": [
    "conv= nn.Conv2d(1,16,3)\n",
    "conv.weight.data=torch.abs(conv.weight.data)\n",
    "conv.weight"
   ]
  },
  {
   "cell_type": "code",
   "execution_count": 2,
   "metadata": {},
   "outputs": [],
   "source": [
    "from abstractModule import AbstractMaxpool2D as AM"
   ]
  },
  {
   "cell_type": "code",
   "execution_count": 26,
   "metadata": {},
   "outputs": [],
   "source": [
    "class AbstractNN2(nn.Module):\n",
    "    \n",
    "    def __init__(self,num_depth=1,device=torch.device(\"cpu\")):\n",
    "\n",
    "        super(AbstractNN2,self).__init__()\n",
    "       \n",
    "      \n",
    "        self.num_depth = num_depth\n",
    "        self.device = device\n",
    "        self.conv1=nn.Conv2d(self.num_depth,16,3,device=self.device)\n",
    "        self.conv2=nn.Conv2d(16,16,3,device=self.device)\n",
    "        self.conv3=nn.Conv2d(16,32,3,device=self.device) \n",
    "        self.conv4=nn.Conv2d(32,32,3,device=self.device)\n",
    "        self.maxpool=nn.MaxPool2d(2,2)\n",
    "        self.fc1=nn.Sequential(nn.Flatten(),nn.Linear(3200,6272,device=self.device))\n",
    "        self.fc2=nn.Sequential(nn.Flatten(),nn.Linear(6272,6272,device=self.device))\n",
    "        self.fc3=nn.Sequential(nn.Flatten(),nn.Linear(6272,6272,device=self.device))\n",
    "        self.fc4=nn.Sequential(nn.Flatten(),nn.Linear(6272,6272,device=self.device))\n",
    "        self.fc5=nn.Sequential(nn.Flatten(),nn.Linear(6272,512,device=self.device))\n",
    "        self.fc6=nn.Sequential(nn.Flatten(),nn.Linear(512,256,device=self.device))\n",
    "        self.fc7=nn.Sequential(nn.Flatten(),nn.Linear(256,8,device=self.device))\n",
    "\n",
    "    \n",
    "    def forward(self,x,add_symbol=False,device = torch.device(\"cpu\")):\n",
    "\n",
    "        self.device = device\n",
    "        x_true = x\n",
    "        x_true = x_true[0].unsqueeze(0)\n",
    "        print(f\"lenx:{len(x)}\")\n",
    "        x,x_min,x_max,x_true = AL.abstract_conv2D(self.conv1,x,x_true,device=self.device)\n",
    "        x,x_min,x_max,x_true = AR.abstract_relu_conv2D(x,x_min,x_max,x_true,add_symbol=add_symbol,device =self.device)\n",
    "        print(f\"lenx:{len(x)}\")\n",
    "       \n",
    "        x,x_min,x_max,x_true = AL.abstract_conv2D(self.conv2,x,x_true,device=self.device)\n",
    "        x,x_min,x_max,x_true = AR.abstract_relu_conv2D(x,x_min,x_max,x_true,add_symbol=add_symbol,device =self.device)\n",
    "        print(f\"lenx:{len(x)}\")\n",
    "        x,x_min,x_max,x_true = AL.abstract_conv2D(self.conv3,x,x_true,device=self.device)\n",
    "        x,x_min,x_max,x_true = AR.abstract_relu_conv2D(x,x_min,x_max,x_true,add_symbol=add_symbol,device =self.device)\n",
    "        print(f\"lenx:{len(x)}\")\n",
    "        x,x_min,x_max,x_true = AL.abstract_conv2D(self.conv4,x,x_true,device=self.device)\n",
    "        x,x_min,x_max,x_true = AR.abstract_relu_conv2D(x,x_min,x_max,x_true,add_symbol=add_symbol,device =self.device)\n",
    "        print(f\"lenx:{len(x)}\")\n",
    "\n",
    "        x,x_min,x_max,x_true = AM.abstract_maxpool2D(self.maxpool,x,x_true,device=self.device)\n",
    "        print(f\"x.shape:{x.shape}\")\n",
    "        x,x_min,x_max,x_true = AL.abstract_linear(self.fc1,x,x_true,device=self.device)\n",
    "        x,x_min,x_max,x_true = AR.abstract_relu(x,x_min,x_max,x_true,add_symbol=add_symbol,device =self.device)\n",
    "        print(f\"lenx:{len(x)}\")\n",
    "        x,x_min,x_max,x_true = AL.abstract_linear(self.fc2,x,x_true,device=self.device)\n",
    "        x,x_min,x_max,x_true = AR.abstract_relu(x,x_min,x_max,x_true,add_symbol=add_symbol,device =self.device)\n",
    "        print(f\"lenx:{len(x)}\")\n",
    "        x,x_min,x_max,x_true = AL.abstract_linear(self.fc3,x,x_true,device=self.device)\n",
    "        x,x_min,x_max,x_true = AR.abstract_relu(x,x_min,x_max,x_true,add_symbol=add_symbol,device =self.device)\n",
    "        print(f\"lenx:{len(x)}\")\n",
    "        x,x_min,x_max,x_true = AL.abstract_linear(self.fc4,x,x_true,device=self.device)\n",
    "        x,x_min,x_max,x_true = AR.abstract_relu(x,x_min,x_max,x_true,add_symbol=add_symbol,device =self.device)\n",
    "        print(f\"lenx:{len(x)}\")\n",
    "        x,x_min,x_max,x_true = AL.abstract_linear(self.fc5,x,x_true,device=self.device)\n",
    "        x,x_min,x_max,x_true = AR.abstract_relu(x,x_min,x_max,x_true,add_symbol=add_symbol,device =self.device)\n",
    "        print(f\"lenx:{len(x)}\")\n",
    "        x,x_min,x_max,x_true = AL.abstract_linear(self.fc6,x,x_true,device=self.device)\n",
    "        x,x_min,x_max,x_true = AR.abstract_relu(x,x_min,x_max,x_true,add_symbol=add_symbol,device =self.device)\n",
    "        print(f\"lenx:{len(x)}\")\n",
    "\n",
    "        x,x_min,x_max,x_true = AL.abstract_linear(self.fc7,x,x_true,device=self.device)\n",
    "        x,x_min,x_max,x_true = AR.abstract_relu(x,x_min,x_max,x_true,add_symbol=add_symbol,device =self.device)\n",
    "        print(f\"lenx:{len(x)}\")\n",
    "        return x,x_min,x_max,x_true"
   ]
  },
  {
   "cell_type": "code",
   "execution_count": 30,
   "metadata": {},
   "outputs": [
    {
     "name": "stdout",
     "output_type": "stream",
     "text": [
      "torch.Size([1, 28, 28])\n",
      "torch.Size([786, 1, 28, 28])\n",
      "lenx:786\n",
      "x.shape=torch.Size([786, 1, 28, 28])\n",
      "lenx:786\n",
      "x.shape=torch.Size([786, 16, 26, 26])\n",
      "lenx:786\n",
      "x.shape=torch.Size([786, 16, 24, 24])\n",
      "lenx:786\n",
      "x.shape=torch.Size([786, 32, 22, 22])\n",
      "lenx:786\n",
      "x.shape torch.Size([786, 32, 20, 20])\n",
      "x.shape=torch.Size([786, 32, 20, 20])\n",
      "x.shape=torch.Size([786, 32, 20, 20])\n",
      "okqsdqd\n",
      "x_result.shape torch.Size([786, 32, 10, 10])\n",
      "x_result_1.shape torch.Size([786, 32, 10, 10])\n",
      "x_result.shape=torch.Size([786, 32, 10, 10])\n",
      "okok\n",
      "x.shape=torch.Size([786, 32, 20, 20])\n"
     ]
    },
    {
     "ename": "RuntimeError",
     "evalue": "The size of tensor a (1990) must match the size of tensor b (786) at non-singleton dimension 0",
     "output_type": "error",
     "traceback": [
      "\u001b[0;31m---------------------------------------------------------------------------\u001b[0m",
      "\u001b[0;31mRuntimeError\u001b[0m                              Traceback (most recent call last)",
      "Cell \u001b[0;32mIn[30], line 12\u001b[0m\n\u001b[1;32m      8\u001b[0m \u001b[38;5;28mprint\u001b[39m(x\u001b[38;5;241m.\u001b[39mshape)\n\u001b[1;32m      9\u001b[0m model \u001b[38;5;241m=\u001b[39mAbstractNN2(num_depth\u001b[38;5;241m=\u001b[39m\u001b[38;5;241m1\u001b[39m,device\u001b[38;5;241m=\u001b[39mtorch\u001b[38;5;241m.\u001b[39mdevice(\u001b[38;5;124m'\u001b[39m\u001b[38;5;124mcpu\u001b[39m\u001b[38;5;124m'\u001b[39m))\n\u001b[0;32m---> 12\u001b[0m \u001b[43mmodel\u001b[49m\u001b[43m(\u001b[49m\u001b[43mx\u001b[49m\u001b[43m)\u001b[49m\n",
      "File \u001b[0;32m~/.local/lib/python3.10/site-packages/torch/nn/modules/module.py:1511\u001b[0m, in \u001b[0;36mModule._wrapped_call_impl\u001b[0;34m(self, *args, **kwargs)\u001b[0m\n\u001b[1;32m   1509\u001b[0m     \u001b[38;5;28;01mreturn\u001b[39;00m \u001b[38;5;28mself\u001b[39m\u001b[38;5;241m.\u001b[39m_compiled_call_impl(\u001b[38;5;241m*\u001b[39margs, \u001b[38;5;241m*\u001b[39m\u001b[38;5;241m*\u001b[39mkwargs)  \u001b[38;5;66;03m# type: ignore[misc]\u001b[39;00m\n\u001b[1;32m   1510\u001b[0m \u001b[38;5;28;01melse\u001b[39;00m:\n\u001b[0;32m-> 1511\u001b[0m     \u001b[38;5;28;01mreturn\u001b[39;00m \u001b[38;5;28;43mself\u001b[39;49m\u001b[38;5;241;43m.\u001b[39;49m\u001b[43m_call_impl\u001b[49m\u001b[43m(\u001b[49m\u001b[38;5;241;43m*\u001b[39;49m\u001b[43margs\u001b[49m\u001b[43m,\u001b[49m\u001b[43m \u001b[49m\u001b[38;5;241;43m*\u001b[39;49m\u001b[38;5;241;43m*\u001b[39;49m\u001b[43mkwargs\u001b[49m\u001b[43m)\u001b[49m\n",
      "File \u001b[0;32m~/.local/lib/python3.10/site-packages/torch/nn/modules/module.py:1520\u001b[0m, in \u001b[0;36mModule._call_impl\u001b[0;34m(self, *args, **kwargs)\u001b[0m\n\u001b[1;32m   1515\u001b[0m \u001b[38;5;66;03m# If we don't have any hooks, we want to skip the rest of the logic in\u001b[39;00m\n\u001b[1;32m   1516\u001b[0m \u001b[38;5;66;03m# this function, and just call forward.\u001b[39;00m\n\u001b[1;32m   1517\u001b[0m \u001b[38;5;28;01mif\u001b[39;00m \u001b[38;5;129;01mnot\u001b[39;00m (\u001b[38;5;28mself\u001b[39m\u001b[38;5;241m.\u001b[39m_backward_hooks \u001b[38;5;129;01mor\u001b[39;00m \u001b[38;5;28mself\u001b[39m\u001b[38;5;241m.\u001b[39m_backward_pre_hooks \u001b[38;5;129;01mor\u001b[39;00m \u001b[38;5;28mself\u001b[39m\u001b[38;5;241m.\u001b[39m_forward_hooks \u001b[38;5;129;01mor\u001b[39;00m \u001b[38;5;28mself\u001b[39m\u001b[38;5;241m.\u001b[39m_forward_pre_hooks\n\u001b[1;32m   1518\u001b[0m         \u001b[38;5;129;01mor\u001b[39;00m _global_backward_pre_hooks \u001b[38;5;129;01mor\u001b[39;00m _global_backward_hooks\n\u001b[1;32m   1519\u001b[0m         \u001b[38;5;129;01mor\u001b[39;00m _global_forward_hooks \u001b[38;5;129;01mor\u001b[39;00m _global_forward_pre_hooks):\n\u001b[0;32m-> 1520\u001b[0m     \u001b[38;5;28;01mreturn\u001b[39;00m \u001b[43mforward_call\u001b[49m\u001b[43m(\u001b[49m\u001b[38;5;241;43m*\u001b[39;49m\u001b[43margs\u001b[49m\u001b[43m,\u001b[49m\u001b[43m \u001b[49m\u001b[38;5;241;43m*\u001b[39;49m\u001b[38;5;241;43m*\u001b[39;49m\u001b[43mkwargs\u001b[49m\u001b[43m)\u001b[49m\n\u001b[1;32m   1522\u001b[0m \u001b[38;5;28;01mtry\u001b[39;00m:\n\u001b[1;32m   1523\u001b[0m     result \u001b[38;5;241m=\u001b[39m \u001b[38;5;28;01mNone\u001b[39;00m\n",
      "Cell \u001b[0;32mIn[26], line 44\u001b[0m, in \u001b[0;36mAbstractNN2.forward\u001b[0;34m(self, x, add_symbol, device)\u001b[0m\n\u001b[1;32m     41\u001b[0m x,x_min,x_max,x_true \u001b[38;5;241m=\u001b[39m AR\u001b[38;5;241m.\u001b[39mabstract_relu_conv2D(x,x_min,x_max,x_true,add_symbol\u001b[38;5;241m=\u001b[39madd_symbol,device \u001b[38;5;241m=\u001b[39m\u001b[38;5;28mself\u001b[39m\u001b[38;5;241m.\u001b[39mdevice)\n\u001b[1;32m     42\u001b[0m \u001b[38;5;28mprint\u001b[39m(\u001b[38;5;124mf\u001b[39m\u001b[38;5;124m\"\u001b[39m\u001b[38;5;124mlenx:\u001b[39m\u001b[38;5;132;01m{\u001b[39;00m\u001b[38;5;28mlen\u001b[39m(x)\u001b[38;5;132;01m}\u001b[39;00m\u001b[38;5;124m\"\u001b[39m)\n\u001b[0;32m---> 44\u001b[0m x,x_min,x_max,x_true \u001b[38;5;241m=\u001b[39m \u001b[43mAM\u001b[49m\u001b[38;5;241;43m.\u001b[39;49m\u001b[43mabstract_maxpool2D\u001b[49m\u001b[43m(\u001b[49m\u001b[38;5;28;43mself\u001b[39;49m\u001b[38;5;241;43m.\u001b[39;49m\u001b[43mmaxpool\u001b[49m\u001b[43m,\u001b[49m\u001b[43mx\u001b[49m\u001b[43m,\u001b[49m\u001b[43mx_true\u001b[49m\u001b[43m,\u001b[49m\u001b[43mdevice\u001b[49m\u001b[38;5;241;43m=\u001b[39;49m\u001b[38;5;28;43mself\u001b[39;49m\u001b[38;5;241;43m.\u001b[39;49m\u001b[43mdevice\u001b[49m\u001b[43m)\u001b[49m\n\u001b[1;32m     45\u001b[0m \u001b[38;5;28mprint\u001b[39m(\u001b[38;5;124mf\u001b[39m\u001b[38;5;124m\"\u001b[39m\u001b[38;5;124mx.shape:\u001b[39m\u001b[38;5;132;01m{\u001b[39;00mx\u001b[38;5;241m.\u001b[39mshape\u001b[38;5;132;01m}\u001b[39;00m\u001b[38;5;124m\"\u001b[39m)\n\u001b[1;32m     46\u001b[0m x,x_min,x_max,x_true \u001b[38;5;241m=\u001b[39m AL\u001b[38;5;241m.\u001b[39mabstract_linear(\u001b[38;5;28mself\u001b[39m\u001b[38;5;241m.\u001b[39mfc1,x,x_true,device\u001b[38;5;241m=\u001b[39m\u001b[38;5;28mself\u001b[39m\u001b[38;5;241m.\u001b[39mdevice)\n",
      "File \u001b[0;32m~/Documents/AbstractTorch/AbstractTorch/abstractModule.py:260\u001b[0m, in \u001b[0;36mAbstractMaxpool2D.abstract_maxpool2D\u001b[0;34m(maxpool, x, x_true, device)\u001b[0m\n\u001b[1;32m    258\u001b[0m x_true_result_1 \u001b[38;5;241m-\u001b[39m\u001b[38;5;241m=\u001b[39m x_true_result\n\u001b[1;32m    259\u001b[0m x_result_2,x_min_result_2,x_max_result_2,x_true_result_2  \u001b[38;5;241m=\u001b[39m AbstractReLU\u001b[38;5;241m.\u001b[39mabstract_relu_conv2D(x_result_1,x_min_result_1,x_max_result_1,x_true_result_1,add_symbol\u001b[38;5;241m=\u001b[39m\u001b[38;5;28;01mTrue\u001b[39;00m,device\u001b[38;5;241m=\u001b[39mdevice)\n\u001b[0;32m--> 260\u001b[0m x_result_2 \u001b[38;5;241m+\u001b[39m\u001b[38;5;241m=\u001b[39m x_result\n\u001b[1;32m    261\u001b[0m x_min_result_2 \u001b[38;5;241m+\u001b[39m\u001b[38;5;241m=\u001b[39m x_min_result\n\u001b[1;32m    262\u001b[0m x_max_result_2 \u001b[38;5;241m+\u001b[39m\u001b[38;5;241m=\u001b[39m x_max_result\n",
      "\u001b[0;31mRuntimeError\u001b[0m: The size of tensor a (1990) must match the size of tensor b (786) at non-singleton dimension 0"
     ]
    }
   ],
   "source": [
    "img = torch.randn(1,28,28)\n",
    "from abstract import abstractTensor as AT\n",
    "\n",
    "x=AT(img,alpha =0.01*torch.ones(28*28))\n",
    "x=x.abstract_tensor()\n",
    "x.shape\n",
    "x=x.to(device)\n",
    "print(x.shape)\n",
    "model =AbstractNN2(num_depth=1,device=torch.device('cpu'))\n",
    "\n",
    "\n",
    "model(x)"
   ]
  }
 ],
 "metadata": {
  "kernelspec": {
   "display_name": "Python 3",
   "language": "python",
   "name": "python3"
  },
  "language_info": {
   "codemirror_mode": {
    "name": "ipython",
    "version": 3
   },
   "file_extension": ".py",
   "mimetype": "text/x-python",
   "name": "python",
   "nbconvert_exporter": "python",
   "pygments_lexer": "ipython3",
   "version": "3.10.12"
  }
 },
 "nbformat": 4,
 "nbformat_minor": 2
}
