{
 "cells": [
  {
   "cell_type": "markdown",
   "metadata": {},
   "source": []
  },
  {
   "cell_type": "code",
   "execution_count": 1,
   "metadata": {},
   "outputs": [],
   "source": [
    "import torch\n",
    "import torch.nn as nn"
   ]
  },
  {
   "cell_type": "code",
   "execution_count": 78,
   "metadata": {},
   "outputs": [],
   "source": [
    "max = nn.MaxPool2d(2, stride=1)"
   ]
  },
  {
   "cell_type": "code",
   "execution_count": 79,
   "metadata": {},
   "outputs": [],
   "source": [
    "test= torch.randn(1, 1, 2, 2)"
   ]
  },
  {
   "cell_type": "code",
   "execution_count": 80,
   "metadata": {},
   "outputs": [
    {
     "name": "stdout",
     "output_type": "stream",
     "text": [
      "tensor([[[[-0.0578, -0.8006],\n",
      "          [ 0.2048, -0.9039]]]])\n",
      "tensor([[[[0.2048]]]])\n"
     ]
    }
   ],
   "source": [
    "\n",
    "print(test)\n",
    "print(max(test))"
   ]
  },
  {
   "cell_type": "code",
   "execution_count": 45,
   "metadata": {},
   "outputs": [],
   "source": [
    "conv = nn.Conv2d(1, 1, 2, stride=1, padding=0)"
   ]
  },
  {
   "cell_type": "code",
   "execution_count": 46,
   "metadata": {},
   "outputs": [
    {
     "data": {
      "text/plain": [
       "tensor([0.1024])"
      ]
     },
     "execution_count": 46,
     "metadata": {},
     "output_type": "execute_result"
    }
   ],
   "source": [
    "conv.weight.data\n",
    "conv.bias.data"
   ]
  },
  {
   "cell_type": "code",
   "execution_count": 236,
   "metadata": {},
   "outputs": [
    {
     "name": "stdout",
     "output_type": "stream",
     "text": [
      "Parameter containing:\n",
      "tensor([[[[ 0.4109,  0.2989],\n",
      "          [ 0.1574, -0.4215]]]], requires_grad=True)\n",
      "tensor([[[[0., 1.],\n",
      "          [0., 0.]]]])\n"
     ]
    }
   ],
   "source": [
    "conv_0 = nn.Conv2d(1, 1, 2, stride=3, padding=0)\n",
    "conv_1 = nn.Conv2d(1, 1, 2, stride=3, padding=0)\n",
    "conv_2 = nn.Conv2d(1, 1, 2, stride=3, padding=0)\n",
    "conv_3 = nn.Conv2d(1, 1, 2, stride=3, padding=0)\n",
    "\n",
    "print(conv_1.weight)\n",
    "\n",
    "conv_0.weight.data = torch.tensor([[[[1., -1.], [0, 0.]]]])\n",
    "conv_0.bias.data = torch.tensor([0.0])\n",
    "conv_1.weight.data = torch.tensor([[[[0., 1.], [0., 0.]]]])\n",
    "conv_1.bias.data = torch.tensor([0.0])\n",
    "conv_2.weight.data = torch.tensor([[[[0., 0.], [0., 1.]]]])\n",
    "conv_2.bias.data = torch.tensor([0.0])\n",
    "conv_3.weight.data = torch.tensor([[[[0., 0.], [1., 0.]]]])\n",
    "conv_3.bias.data = torch.tensor([0.0])\n",
    "\n",
    "                                  \n",
    "print(conv_1.weight.data)"
   ]
  },
  {
   "cell_type": "code",
   "execution_count": 235,
   "metadata": {},
   "outputs": [
    {
     "name": "stdout",
     "output_type": "stream",
     "text": [
      "tensor([[[[-2.5702, -2.0346,  0.1149,  0.6245,  1.9530, -1.1155,  0.3395],\n",
      "          [-0.1289,  0.0763, -1.6734,  0.4181, -0.2481, -0.7128,  0.3197],\n",
      "          [-0.4244, -1.3910, -1.3068, -0.2547,  0.3269, -0.0826,  1.7261],\n",
      "          [ 0.4131,  0.1685, -0.5353, -1.6717,  1.0125,  1.8941,  0.1133],\n",
      "          [ 0.7665,  1.0341, -0.2046,  0.6033, -0.2987,  0.7450, -1.4683],\n",
      "          [-0.5301, -0.6029, -0.5725, -1.7442,  0.4275, -0.4677, -0.9275],\n",
      "          [ 0.2729, -1.2211,  0.0133, -0.2954,  0.4356, -0.7790,  0.6830]]]])\n",
      "tensor([[[[-2.0346,  1.9530],\n",
      "          [ 0.1685,  1.0125]]]], grad_fn=<ConvolutionBackward0>)\n",
      "tensor([[[[0.0763, 1.9530],\n",
      "          [1.0341, 1.0125]]]], grad_fn=<AddBackward0>)\n",
      "tensor([[[[0.0763, 1.9530],\n",
      "          [1.0341, 1.0125]]]])\n"
     ]
    }
   ],
   "source": [
    "test= torch.randn(1, 1, 7, 7)\n",
    "print(test)\n",
    "print(conv_1(test))\n",
    "result=nn.ReLU()(conv_0(test))+conv_1(test)\n",
    "result=nn.ReLU()(conv_2(test)-result)+result\n",
    "result=nn.ReLU()(conv_3(test)-result)+result\n",
    "print(result)\n",
    "max = nn.MaxPool2d(2, stride=3)\n",
    "print(max(test))"
   ]
  },
  {
   "cell_type": "code",
   "execution_count": null,
   "metadata": {},
   "outputs": [],
   "source": []
  }
 ],
 "metadata": {
  "kernelspec": {
   "display_name": "Python 3",
   "language": "python",
   "name": "python3"
  },
  "language_info": {
   "codemirror_mode": {
    "name": "ipython",
    "version": 3
   },
   "file_extension": ".py",
   "mimetype": "text/x-python",
   "name": "python",
   "nbconvert_exporter": "python",
   "pygments_lexer": "ipython3",
   "version": "3.10.12"
  }
 },
 "nbformat": 4,
 "nbformat_minor": 2
}
