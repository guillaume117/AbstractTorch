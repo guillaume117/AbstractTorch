{
 "cells": [
  {
   "cell_type": "markdown",
   "metadata": {},
   "source": []
  },
  {
   "cell_type": "code",
   "execution_count": 1,
   "metadata": {},
   "outputs": [],
   "source": [
    "import torch\n",
    "import torch.nn as nn"
   ]
  },
  {
   "cell_type": "code",
   "execution_count": 2,
   "metadata": {},
   "outputs": [],
   "source": [
    "max = nn.MaxPool2d(2, stride=2)"
   ]
  },
  {
   "cell_type": "code",
   "execution_count": 7,
   "metadata": {},
   "outputs": [
    {
     "name": "stdout",
     "output_type": "stream",
     "text": [
      "tensor([[[[-2.2498, -0.0205, -0.9689, -0.1134, -0.5920],\n",
      "          [ 1.2582, -0.0558,  0.7639, -1.0002,  0.3694],\n",
      "          [-1.6866,  0.3959,  0.6440,  0.4358, -0.6494],\n",
      "          [ 0.0718, -0.0724,  1.2371,  0.4856, -0.2609],\n",
      "          [ 0.0117,  0.5187, -0.7987,  0.0032,  0.0608]]]])\n",
      "tensor([[[[1.2582, 0.7639],\n",
      "          [0.3959, 1.2371]]]])\n"
     ]
    }
   ],
   "source": [
    "test = torch.randn(1, 1, 5, 5)\n",
    "print(test)\n",
    "print(max(test))"
   ]
  },
  {
   "cell_type": "code",
   "execution_count": null,
   "metadata": {},
   "outputs": [],
   "source": []
  }
 ],
 "metadata": {
  "kernelspec": {
   "display_name": "Python 3",
   "language": "python",
   "name": "python3"
  },
  "language_info": {
   "codemirror_mode": {
    "name": "ipython",
    "version": 3
   },
   "file_extension": ".py",
   "mimetype": "text/x-python",
   "name": "python",
   "nbconvert_exporter": "python",
   "pygments_lexer": "ipython3",
   "version": "3.10.12"
  }
 },
 "nbformat": 4,
 "nbformat_minor": 2
}
