{
 "cells": [
  {
   "cell_type": "markdown",
   "metadata": {},
   "source": []
  },
  {
   "cell_type": "code",
   "execution_count": 1,
   "metadata": {},
   "outputs": [],
   "source": [
    "import torch\n",
    "import torch.nn as nn"
   ]
  },
  {
   "cell_type": "code",
   "execution_count": 78,
   "metadata": {},
   "outputs": [],
   "source": [
    "max = nn.MaxPool2d(2, stride=1)"
   ]
  },
  {
   "cell_type": "code",
   "execution_count": 79,
   "metadata": {},
   "outputs": [],
   "source": [
    "test= torch.randn(1, 1, 2, 2)"
   ]
  },
  {
   "cell_type": "code",
   "execution_count": 80,
   "metadata": {},
   "outputs": [
    {
     "name": "stdout",
     "output_type": "stream",
     "text": [
      "tensor([[[[-0.0578, -0.8006],\n",
      "          [ 0.2048, -0.9039]]]])\n",
      "tensor([[[[0.2048]]]])\n"
     ]
    }
   ],
   "source": [
    "\n",
    "print(test)\n",
    "print(max(test))"
   ]
  },
  {
   "cell_type": "code",
   "execution_count": 45,
   "metadata": {},
   "outputs": [],
   "source": [
    "conv = nn.Conv2d(1, 1, 2, stride=1, padding=0)"
   ]
  },
  {
   "cell_type": "code",
   "execution_count": 46,
   "metadata": {},
   "outputs": [
    {
     "data": {
      "text/plain": [
       "tensor([0.1024])"
      ]
     },
     "execution_count": 46,
     "metadata": {},
     "output_type": "execute_result"
    }
   ],
   "source": [
    "conv.weight.data\n",
    "conv.bias.data"
   ]
  },
  {
   "cell_type": "code",
   "execution_count": 239,
   "metadata": {},
   "outputs": [
    {
     "name": "stdout",
     "output_type": "stream",
     "text": [
      "Parameter containing:\n",
      "tensor([[[[-0.4011,  0.1451],\n",
      "          [-0.4941, -0.0615]]]], requires_grad=True)\n",
      "tensor([[[[0., 1.],\n",
      "          [0., 0.]]]])\n"
     ]
    }
   ],
   "source": [
    "conv_0 = nn.Conv2d(1, 1, 2, stride=3, padding=0)\n",
    "conv_1 = nn.Conv2d(1, 1, 2, stride=3, padding=0)\n",
    "conv_2 = nn.Conv2d(1, 1, 2, stride=3, padding=0)\n",
    "conv_3 = nn.Conv2d(1, 1, 2, stride=3, padding=0)\n",
    "\n",
    "print(conv_1.weight)\n",
    "\n",
    "conv_0.weight.data = torch.tensor([[[[1., -1.], [0, 0.]]]])\n",
    "conv_0.bias.data = torch.tensor([0.0])\n",
    "conv_1.weight.data = torch.tensor([[[[0., 1.], [0., 0.]]]])\n",
    "conv_1.bias.data = torch.tensor([0.0])\n",
    "conv_2.weight.data = torch.tensor([[[[0., 0.], [0., 1.]]]])\n",
    "conv_2.bias.data = torch.tensor([0.0])\n",
    "conv_3.weight.data = torch.tensor([[[[0., 0.], [1., 0.]]]])\n",
    "conv_3.bias.data = torch.tensor([0.0])\n",
    "\n",
    "                                  \n",
    "print(conv_1.weight.data)"
   ]
  },
  {
   "cell_type": "code",
   "execution_count": 246,
   "metadata": {},
   "outputs": [
    {
     "name": "stdout",
     "output_type": "stream",
     "text": [
      "tensor([[[[-0.4652,  0.4748, -1.3689,  0.9742,  1.1395,  1.4037,  1.3677],\n",
      "          [ 0.6018,  0.0333,  0.7171, -1.0906, -0.8700, -0.0243,  0.4931],\n",
      "          [ 0.3362, -1.8733,  0.2534,  1.2442, -1.1428, -1.2985, -0.5996],\n",
      "          [ 0.1294,  1.2177, -0.7573, -0.2450,  1.4997, -1.2794,  0.1294],\n",
      "          [-0.7658,  0.8046, -0.6498,  0.5464, -0.2019, -0.2657,  1.2065],\n",
      "          [-0.1093,  0.4634,  1.1943, -0.1416,  0.2340, -0.5610,  0.3471],\n",
      "          [ 0.4020, -1.1221, -1.5641,  2.0360,  0.0713,  0.2636,  0.5974]]]])\n",
      "tensor([[[[0.4748, 1.1395],\n",
      "          [1.2177, 1.4997]]]], grad_fn=<ConvolutionBackward0>)\n",
      "tensor([[[[0.6018, 1.1395],\n",
      "          [1.2177, 1.4997]]]], grad_fn=<AddBackward0>)\n",
      "tensor([[[[0.6018, 1.1395],\n",
      "          [1.2177, 1.4997]]]])\n"
     ]
    },
    {
     "data": {
      "text/plain": [
       "2"
      ]
     },
     "execution_count": 246,
     "metadata": {},
     "output_type": "execute_result"
    }
   ],
   "source": [
    "test= torch.randn(1, 1, 7, 7)\n",
    "print(test)\n",
    "print(conv_1(test))\n",
    "result=nn.ReLU()(conv_0(test))+conv_1(test)\n",
    "\n",
    "result=nn.ReLU()(conv_2(test)-result)+result\n",
    "\n",
    "result=nn.ReLU()(conv_3(test)-result)+result\n",
    "print(result)\n",
    "max = nn.MaxPool2d(2, stride=3)\n",
    "print(max(test))\n",
    "\n",
    "\n",
    "max.kernel_size"
   ]
  },
  {
   "cell_type": "code",
   "execution_count": null,
   "metadata": {},
   "outputs": [],
   "source": []
  }
 ],
 "metadata": {
  "kernelspec": {
   "display_name": "Python 3",
   "language": "python",
   "name": "python3"
  },
  "language_info": {
   "codemirror_mode": {
    "name": "ipython",
    "version": 3
   },
   "file_extension": ".py",
   "mimetype": "text/x-python",
   "name": "python",
   "nbconvert_exporter": "python",
   "pygments_lexer": "ipython3",
   "version": "3.10.12"
  }
 },
 "nbformat": 4,
 "nbformat_minor": 2
}
