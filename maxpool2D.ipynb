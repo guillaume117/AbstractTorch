{
 "cells": [
  {
   "cell_type": "markdown",
   "metadata": {},
   "source": []
  },
  {
   "cell_type": "code",
   "execution_count": 2,
   "metadata": {},
   "outputs": [],
   "source": [
    "import torch\n",
    "import torch.nn as nn"
   ]
  },
  {
   "cell_type": "code",
   "execution_count": 78,
   "metadata": {},
   "outputs": [],
   "source": [
    "max = nn.MaxPool2d(2, stride=1)"
   ]
  },
  {
   "cell_type": "code",
   "execution_count": 79,
   "metadata": {},
   "outputs": [],
   "source": [
    "test= torch.randn(1, 1, 2, 2)"
   ]
  },
  {
   "cell_type": "code",
   "execution_count": 80,
   "metadata": {},
   "outputs": [
    {
     "name": "stdout",
     "output_type": "stream",
     "text": [
      "tensor([[[[-0.0578, -0.8006],\n",
      "          [ 0.2048, -0.9039]]]])\n",
      "tensor([[[[0.2048]]]])\n"
     ]
    }
   ],
   "source": [
    "\n",
    "print(test)\n",
    "print(max(test))"
   ]
  },
  {
   "cell_type": "code",
   "execution_count": 45,
   "metadata": {},
   "outputs": [],
   "source": [
    "conv = nn.Conv2d(1, 1, 2, stride=1, padding=0)"
   ]
  },
  {
   "cell_type": "code",
   "execution_count": 46,
   "metadata": {},
   "outputs": [
    {
     "data": {
      "text/plain": [
       "tensor([0.1024])"
      ]
     },
     "execution_count": 46,
     "metadata": {},
     "output_type": "execute_result"
    }
   ],
   "source": [
    "conv.weight.data\n",
    "conv.bias.data"
   ]
  },
  {
   "cell_type": "code",
   "execution_count": 182,
   "metadata": {},
   "outputs": [
    {
     "name": "stdout",
     "output_type": "stream",
     "text": [
      "torch.Size([1, 3, 2, 2])\n",
      "torch.Size([1, 3, 2, 2])\n",
      "torch.Size([3, 1, 2, 2])\n"
     ]
    }
   ],
   "source": [
    "dim_1=3\n",
    "dim_2=3\n",
    "\n",
    "conv_0 = nn.Conv2d(dim_1, dim_2, 2, stride=2, padding=0, groups=dim_1)\n",
    "conv_1 = nn.Conv2d(dim_1, dim_2, 2, stride=2, padding=0, groups=dim_1)\n",
    "conv_2 = nn.Conv2d(dim_1, dim_2, 2, stride=2, padding=0, groups=dim_1)\n",
    "conv_3 = nn.Conv2d(dim_1, dim_2, 2, stride=2, padding=0, groups=dim_1)\n",
    "\n",
    "x=torch.randn(1,3, 4, 4)\n",
    "max = nn.MaxPool2d(2, stride=2)\n",
    "print(conv_0(x).shape)\n",
    "print(max(x).shape)\n",
    "print(conv_0.weight.data.shape)\n",
    "w_0 = torch.tensor([[[[1., -1.], [0, 0.]]]])\n",
    "w_1 = torch.tensor([[[[0., 1.], [0, 0.]]]])\n",
    "w_2 = torch.tensor([[[[0., 0.], [0., 1.]]]])\n",
    "w_3 = torch.tensor([[[[0., 0.], [1., 0.]]]])\n",
    "w_0 = w_0.expand(dim_1,-1,-1,-1)\n",
    "w_1 = w_1.expand(dim_1,-1,-1,-1)\n",
    "w_2 = w_2.expand(dim_1,-1,-1,-1)\n",
    "w_3 = w_3.expand(dim_1,-1,-1,-1)\n"
   ]
  },
  {
   "cell_type": "code",
   "execution_count": null,
   "metadata": {},
   "outputs": [],
   "source": [
    "\n",
    "w_0=torch.zeros(dim_1,2,2)\n",
    "w_0[0]=torch.tensor([[1., -1.], [0, 0.]])\n",
    "w_0=w_0.unsqueeze(0)\n",
    "print(w_0.shape)\n",
    "w_0=w_0.expand(dim,-1,-1,-1)\n",
    "w_1=torch.zeros(dim,2,2)\n",
    "w_1[0]= torch.tensor([[[0., 1.], [0, 0.]]])\n",
    "w_1 = w_1.unsqueeze(0)\n",
    "w_1 = w_1.expand(dim,-1,-1,-1)\n",
    "w_2=torch.zeros(dim,2,2)\n",
    "w_2[0] = torch.tensor([[0., 0.], [0., 1.]])\n",
    "w_2 = w_2.unsqueeze(0)\n",
    "w_2 = w_2.expand(dim,-1,-1,-1)\n",
    "w_3=torch.zeros(dim,2,2)\n",
    "w_3[0] = torch.tensor([[[0., 0.], [1., 0.]]])\n",
    "w_3 = w_3.unsqueeze(0)\n",
    "w_3 = w_3.expand(dim,-1,-1,-1)\n",
    "\n",
    "\n"
   ]
  },
  {
   "cell_type": "code",
   "execution_count": 183,
   "metadata": {},
   "outputs": [
    {
     "name": "stdout",
     "output_type": "stream",
     "text": [
      "tensor([[[[ 1., -1.],\n",
      "          [ 0.,  0.]]],\n",
      "\n",
      "\n",
      "        [[[ 1., -1.],\n",
      "          [ 0.,  0.]]],\n",
      "\n",
      "\n",
      "        [[[ 1., -1.],\n",
      "          [ 0.,  0.]]]])\n"
     ]
    }
   ],
   "source": [
    "\n",
    "\n",
    "conv_0.weight.data = w_0\n",
    "conv_0.bias.data =  torch.zeros(dim_1)\n",
    "conv_1.weight.data = w_1\n",
    "conv_1.bias.data =  torch.zeros(dim_1)\n",
    "conv_2.weight.data = w_2\n",
    "conv_2.bias.data =  torch.zeros(dim_1)\n",
    "conv_3.weight.data = w_3\n",
    "conv_3.bias.data =  torch.zeros(dim_1)\n",
    "print(conv_0.weight.data)\n"
   ]
  },
  {
   "cell_type": "code",
   "execution_count": 187,
   "metadata": {},
   "outputs": [
    {
     "name": "stdout",
     "output_type": "stream",
     "text": [
      "tensor([[[[ 1.1957,  0.0905, -0.2607, -0.6108],\n",
      "          [ 0.6610, -0.2979, -0.1490,  0.9818],\n",
      "          [-0.0856,  1.7879, -1.2500,  0.5487],\n",
      "          [ 1.0943, -1.2330, -2.4573,  0.6534]],\n",
      "\n",
      "         [[ 0.2017, -0.2903, -0.6042, -0.0190],\n",
      "          [ 1.3801,  0.2791, -0.4849,  0.1368],\n",
      "          [-0.0174, -0.4244, -0.3610, -0.7576],\n",
      "          [ 0.0611,  0.7358,  0.5119, -0.5423]],\n",
      "\n",
      "         [[ 0.4309,  0.4749,  0.5010,  1.1959],\n",
      "          [-0.8186,  1.5021,  0.3639, -0.9752],\n",
      "          [-0.7248,  0.6042, -1.1367,  0.2757],\n",
      "          [ 0.9944,  0.3708, -0.4382, -1.1340]]],\n",
      "\n",
      "\n",
      "        [[[ 0.8618, -2.1213, -0.9005, -1.9053],\n",
      "          [-0.0496, -0.4411,  0.2330, -0.1583],\n",
      "          [ 0.1357, -1.0831,  1.0638,  0.3778],\n",
      "          [-1.3565,  0.9890, -0.3050, -0.7067]],\n",
      "\n",
      "         [[-1.8688,  0.9509,  1.2067,  0.3058],\n",
      "          [-0.3939,  1.4126, -1.1070,  0.1650],\n",
      "          [-0.1446,  0.3648,  0.3788,  0.7968],\n",
      "          [-1.7159,  1.2295,  0.4574,  1.4520]],\n",
      "\n",
      "         [[-2.2674, -2.4445, -0.8301, -0.6018],\n",
      "          [ 0.2703, -0.9912, -0.1364,  0.1034],\n",
      "          [-0.4705,  1.4039,  0.5571, -0.5822],\n",
      "          [ 0.1499,  0.5839, -1.1887, -1.2350]]]])\n",
      "tensor([[[[ 1.1052,  0.3501],\n",
      "          [-1.8735, -1.7987]],\n",
      "\n",
      "         [[ 0.4920, -0.5852],\n",
      "          [ 0.4070,  0.3966]],\n",
      "\n",
      "         [[-0.0440, -0.6949],\n",
      "          [-1.3289, -1.4124]]],\n",
      "\n",
      "\n",
      "        [[[ 2.9831,  1.0048],\n",
      "          [ 1.2189,  0.6860]],\n",
      "\n",
      "         [[-2.8197,  0.9009],\n",
      "          [-0.5094, -0.4180]],\n",
      "\n",
      "         [[ 0.1771, -0.2282],\n",
      "          [-1.8744,  1.1393]]]], grad_fn=<ConvolutionBackward0>)\n"
     ]
    }
   ],
   "source": [
    "test= torch.randn(2, dim_1, 4, 4)\n",
    "\n",
    "print(test)\n",
    "print(conv_0(test))\n"
   ]
  },
  {
   "cell_type": "code",
   "execution_count": 188,
   "metadata": {},
   "outputs": [
    {
     "name": "stdout",
     "output_type": "stream",
     "text": [
      "torch.Size([2, 3, 2, 2])\n",
      "tensor([[[[1.1957, 0.9818],\n",
      "          [1.7879, 0.6534]],\n",
      "\n",
      "         [[1.3801, 0.1368],\n",
      "          [0.7358, 0.5119]],\n",
      "\n",
      "         [[1.5021, 1.1959],\n",
      "          [0.9944, 0.2757]]],\n",
      "\n",
      "\n",
      "        [[[0.8618, 0.2330],\n",
      "          [0.9890, 1.0638]],\n",
      "\n",
      "         [[1.4126, 1.2067],\n",
      "          [1.2295, 1.4520]],\n",
      "\n",
      "         [[0.2703, 0.1034],\n",
      "          [1.4039, 0.5571]]]], grad_fn=<AddBackward0>)\n"
     ]
    }
   ],
   "source": [
    "result=nn.ReLU()(conv_0(test))+conv_1(test)\n",
    "\n",
    "result=nn.ReLU()(conv_2(test)-result)+result\n",
    "\n",
    "result=nn.ReLU()(conv_3(test)-result)+result\n",
    "#result= result[:,1,:,:].unsqueeze(1)\n",
    "print(result.shape)\n",
    "print(result)"
   ]
  },
  {
   "cell_type": "code",
   "execution_count": 189,
   "metadata": {},
   "outputs": [
    {
     "name": "stdout",
     "output_type": "stream",
     "text": [
      "tensor([[[[1.1957, 0.9818],\n",
      "          [1.7879, 0.6534]],\n",
      "\n",
      "         [[1.3801, 0.1368],\n",
      "          [0.7358, 0.5119]],\n",
      "\n",
      "         [[1.5021, 1.1959],\n",
      "          [0.9944, 0.2757]]],\n",
      "\n",
      "\n",
      "        [[[0.8618, 0.2330],\n",
      "          [0.9890, 1.0638]],\n",
      "\n",
      "         [[1.4126, 1.2067],\n",
      "          [1.2295, 1.4520]],\n",
      "\n",
      "         [[0.2703, 0.1034],\n",
      "          [1.4039, 0.5571]]]])\n",
      "torch.Size([2, 3, 2, 2])\n"
     ]
    },
    {
     "data": {
      "text/plain": [
       "2"
      ]
     },
     "execution_count": 189,
     "metadata": {},
     "output_type": "execute_result"
    }
   ],
   "source": [
    "\n",
    "max = nn.MaxPool2d(2, stride=2)\n",
    "print(max(test))\n",
    "print(max(test).shape)\n",
    "\n",
    "max.kernel_size"
   ]
  },
  {
   "cell_type": "code",
   "execution_count": 179,
   "metadata": {},
   "outputs": [
    {
     "name": "stdout",
     "output_type": "stream",
     "text": [
      "Taille de la sortie : torch.Size([1, 32, 26, 26])\n"
     ]
    }
   ],
   "source": [
    "import torch\n",
    "import torch.nn as nn\n",
    "\n",
    "# Définition de l'opération de convolution\n",
    "conv = nn.Conv2d(in_channels=32, out_channels=32, kernel_size=3, groups=32)\n",
    "\n",
    "# Entrée fictive de taille (batch_size, 32, height, width)\n",
    "input_data = torch.randn(1, 32, 28, 28)\n",
    "\n",
    "# Application de l'opération de convolution à l'entrée\n",
    "output = conv(input_data)\n",
    "\n",
    "# Vérification de la taille de la sortie\n",
    "print(\"Taille de la sortie :\", output.size())\n"
   ]
  },
  {
   "cell_type": "code",
   "execution_count": 192,
   "metadata": {},
   "outputs": [
    {
     "name": "stdout",
     "output_type": "stream",
     "text": [
      "3\n"
     ]
    }
   ],
   "source": [
    "x = torch.randn(1, 3, 4, 4)\n",
    "dim = len(x[0])\n",
    "print(dim)"
   ]
  }
 ],
 "metadata": {
  "kernelspec": {
   "display_name": "Python 3",
   "language": "python",
   "name": "python3"
  },
  "language_info": {
   "codemirror_mode": {
    "name": "ipython",
    "version": 3
   },
   "file_extension": ".py",
   "mimetype": "text/x-python",
   "name": "python",
   "nbconvert_exporter": "python",
   "pygments_lexer": "ipython3",
   "version": "3.12.3"
  }
 },
 "nbformat": 4,
 "nbformat_minor": 2
}
